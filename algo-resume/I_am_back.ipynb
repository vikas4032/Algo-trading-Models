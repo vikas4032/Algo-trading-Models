{
 "cells": [
  {
   "cell_type": "code",
   "execution_count": null,
   "id": "2f493ebf",
   "metadata": {},
   "outputs": [],
   "source": [
    "import pandas as pd\n",
    "import numpy as np\n",
    "from datetime import date, timedelta\n",
    "import time\n",
    "import requests\n",
    "from datetime import datetime\n",
    "import webbrowser\n",
    "import json\n",
    "from matplotlib import pyplot as plt"
   ]
  },
  {
   "cell_type": "code",
   "execution_count": null,
   "id": "6a2ad528",
   "metadata": {},
   "outputs": [],
   "source": []
  },
  {
   "cell_type": "code",
   "execution_count": null,
   "id": "c6667804",
   "metadata": {},
   "outputs": [],
   "source": [
    "df1 = pd.read_csv(\"nifty_2023.csv\")\n",
    "df2 = pd.read_csv(\"nifty_2022.csv\")\n",
    "df3 = pd.read_csv(\"nifty_2021.csv\")\n",
    "df4 = pd.read_csv(\"nifty_2020.csv\")\n",
    "df5 = pd.read_csv(\"nifty_2019.csv\")\n",
    "df6 = pd.read_csv(\"nifty_2018.csv\")"
   ]
  },
  {
   "cell_type": "code",
   "execution_count": null,
   "id": "38b46f4f",
   "metadata": {},
   "outputs": [],
   "source": [
    "df = pd.concat([df1,df2,df3,df4,df5,df6], axis = 0)"
   ]
  },
  {
   "cell_type": "code",
   "execution_count": null,
   "id": "b94d475c",
   "metadata": {},
   "outputs": [],
   "source": [
    "df"
   ]
  },
  {
   "cell_type": "code",
   "execution_count": null,
   "id": "78d4973c",
   "metadata": {},
   "outputs": [],
   "source": []
  },
  {
   "cell_type": "code",
   "execution_count": null,
   "id": "41f13af0",
   "metadata": {},
   "outputs": [],
   "source": [
    "df.set_index(\"Date\", inplace = True)"
   ]
  },
  {
   "cell_type": "code",
   "execution_count": null,
   "id": "670ba062",
   "metadata": {},
   "outputs": [],
   "source": [
    "date = pd.DataFrame(df.index)"
   ]
  },
  {
   "cell_type": "code",
   "execution_count": null,
   "id": "cb153d16",
   "metadata": {},
   "outputs": [],
   "source": [
    "date.drop([0], axis = 0, inplace = True)"
   ]
  },
  {
   "cell_type": "code",
   "execution_count": null,
   "id": "bb08732f",
   "metadata": {},
   "outputs": [],
   "source": [
    "date.rename(columns = {'Date':'next_date'}, inplace = True)"
   ]
  },
  {
   "cell_type": "code",
   "execution_count": null,
   "id": "76ab01d1",
   "metadata": {},
   "outputs": [],
   "source": [
    "date.reset_index(inplace = True)\n",
    "date.drop(['index'], axis = 1, inplace = True)"
   ]
  },
  {
   "cell_type": "code",
   "execution_count": null,
   "id": "d1410fe0",
   "metadata": {},
   "outputs": [],
   "source": [
    "df.reset_index(inplace = True)"
   ]
  },
  {
   "cell_type": "code",
   "execution_count": null,
   "id": "14818062",
   "metadata": {},
   "outputs": [],
   "source": [
    "dd = pd.concat([df,date],axis = 1)"
   ]
  },
  {
   "cell_type": "code",
   "execution_count": null,
   "id": "41f4f4dc",
   "metadata": {},
   "outputs": [],
   "source": [
    "dd.dropna(inplace = True)"
   ]
  },
  {
   "cell_type": "code",
   "execution_count": null,
   "id": "a71e3fe1",
   "metadata": {},
   "outputs": [],
   "source": [
    "#now i will take current date of nifty and get required day when i have to take trade"
   ]
  },
  {
   "cell_type": "code",
   "execution_count": null,
   "id": "b94ced5f",
   "metadata": {},
   "outputs": [],
   "source": [
    "dd['Date']=pd.to_datetime(dd['Date'])"
   ]
  },
  {
   "cell_type": "code",
   "execution_count": null,
   "id": "aab22c64",
   "metadata": {},
   "outputs": [],
   "source": [
    "dd['day_name'] = dd['Date'].dt.day_name()"
   ]
  },
  {
   "cell_type": "code",
   "execution_count": null,
   "id": "66a103d1",
   "metadata": {},
   "outputs": [],
   "source": [
    "dd"
   ]
  },
  {
   "cell_type": "code",
   "execution_count": null,
   "id": "a04e4c38",
   "metadata": {},
   "outputs": [],
   "source": [
    "dd.set_index('day_name', inplace = True)"
   ]
  },
  {
   "cell_type": "code",
   "execution_count": null,
   "id": "1f732831",
   "metadata": {},
   "outputs": [],
   "source": []
  },
  {
   "cell_type": "code",
   "execution_count": null,
   "id": "fd059ec5",
   "metadata": {},
   "outputs": [],
   "source": [
    "monday = pd.DataFrame(dd.loc['Monday'])\n",
    "tuesday = pd.DataFrame(dd.loc['Tuesday'])\n",
    "wednesday = pd.DataFrame(dd.loc['Wednesday'])\n",
    "thursday = pd.DataFrame(dd.loc['Thursday'])\n",
    "friday = pd.DataFrame(dd.loc['Friday'])"
   ]
  },
  {
   "cell_type": "code",
   "execution_count": null,
   "id": "c849e4b0",
   "metadata": {},
   "outputs": [],
   "source": [
    "monday['next_date'] = pd.to_datetime(monday['next_date'])\n",
    "tuesday['next_date'] = pd.to_datetime(tuesday['next_date'])\n",
    "wednesday['next_date'] = pd.to_datetime(wednesday['next_date'])\n",
    "thursday['next_date'] = pd.to_datetime(thursday['next_date'])\n",
    "friday['next_date'] = pd.to_datetime(friday['next_date'])"
   ]
  },
  {
   "cell_type": "code",
   "execution_count": null,
   "id": "e197ed59",
   "metadata": {},
   "outputs": [],
   "source": [
    "jisko = pd.DataFrame(wednesday)"
   ]
  },
  {
   "cell_type": "code",
   "execution_count": null,
   "id": "7197b00c",
   "metadata": {
    "scrolled": true
   },
   "outputs": [],
   "source": [
    "jisko"
   ]
  },
  {
   "cell_type": "code",
   "execution_count": null,
   "id": "9e8fd0b5",
   "metadata": {},
   "outputs": [],
   "source": []
  },
  {
   "cell_type": "code",
   "execution_count": null,
   "id": "9249ffe5",
   "metadata": {},
   "outputs": [],
   "source": []
  },
  {
   "cell_type": "code",
   "execution_count": null,
   "id": "1ff9044a",
   "metadata": {},
   "outputs": [],
   "source": [
    "st_dist = 1350\n",
    "\n",
    "for a in range(3):\n",
    "    st_dist = st_dist + 50\n",
    "    \n",
    "    #variables\n",
    "    start = ''\n",
    "    end = ''\n",
    "    exp = ''\n",
    "    strike = ''\n",
    "    dist = 1\n",
    "    \n",
    "    op = ''\n",
    "    cl = ''\n",
    "    hi = ''\n",
    "    lo =''\n",
    "    pre_cl = ''\n",
    "    day = ''\n",
    "    month = ''\n",
    "    year = ''\n",
    "    exp_day = ''\n",
    "    exp_year = ''\n",
    "    exp_month = ''\n",
    "\n",
    "    my_df = pd.DataFrame(columns = ['now','exp_date','open','high','low','close','prev_close'])\n",
    "\n",
    "    for i in range(len(jisko)):\n",
    "        try:\n",
    "\n",
    "            #to define strike price\n",
    "            strike = round(jisko['Close'][i]/50)*50\n",
    "            strike  = str(strike+st_dist)\n",
    "\n",
    "            #to define start and end date\n",
    "            if(jisko['next_date'][i].day/10>=1):\n",
    "                day = str(jisko['next_date'][i].day)\n",
    "            else:\n",
    "                day = '0'+str(jisko['next_date'][i].day)\n",
    "\n",
    "            if(jisko['next_date'][i].month/10>=1):\n",
    "                month = str(jisko['next_date'][i].month)\n",
    "            else:\n",
    "                month = '0'+str(jisko['next_date'][i].month)\n",
    "            year = str(jisko['next_date'][i].year)\n",
    "\n",
    "            start = day+'-'+ month +'-' +year\n",
    "            end = start\n",
    "\n",
    "            #to define expiry date\n",
    "            exp_date = jisko['Date'][i]+timedelta(dist)\n",
    "            if(exp_date.day/10>=1):\n",
    "                exp_day = str(exp_date.day)\n",
    "            else:\n",
    "                exp_day = '0'+str(exp_date.day)\n",
    "            exp_month = exp_date.strftime(\"%B\")[0:3]\n",
    "            exp_year = str(exp_date.year)\n",
    "            exp = exp_day + '-'+exp_month + '-'+exp_year\n",
    "\n",
    "            #finally making url\n",
    "            url =  f'https://www.nseindia.com/api/historical/foCPV?from={start}&to={end}&instrumentType=OPTIDX&symbol=NIFTY&year={exp_year}&expiryDate={exp}&optionType=CE&strikePrice={strike}'\n",
    "\n",
    "            #now open in new tab to url\n",
    "            webbrowser.open_new_tab(url)\n",
    "\n",
    "            #wait for some time to open and get fucking shit\n",
    "            time.sleep(1)\n",
    "\n",
    "\n",
    "            headers = {\n",
    "                'User-Agent': 'Mozilla/5.0',\n",
    "                'Accept-Language': 'en-US,en;q=0.9',\n",
    "                'Accept-Encoding': 'gzip, deflate, br',\n",
    "                'Referer': 'https://www.nseindia.com',\n",
    "                'X-Requested-With': 'XMLHttpRequest'\n",
    "            }\n",
    "\n",
    "            #now request\n",
    "            response = requests.get(url, headers = headers)\n",
    "\n",
    "\n",
    "            #now convert into simple dict\n",
    "            json_string = response.content.decode('utf-8')\n",
    "            data = json.loads(json_string)\n",
    "\n",
    "            #now get required prices from dict\n",
    "\n",
    "            if(len(data['data'])==0):\n",
    "                op = float('Nan')\n",
    "                cl = float('Nan')\n",
    "                hi = float('Nan')\n",
    "                lo =float('Nan')\n",
    "                pre_cl = float('Nan')\n",
    "            else:\n",
    "                op = float(data['data'][0]['FH_OPENING_PRICE'])\n",
    "                cl = float(data['data'][0]['FH_CLOSING_PRICE'])\n",
    "                hi = float(data['data'][0]['FH_TRADE_HIGH_PRICE'])\n",
    "                lo = float(data['data'][0]['FH_TRADE_LOW_PRICE'])\n",
    "                pre_cl = float(data['data'][0]['FH_PREV_CLS'])\n",
    "\n",
    "\n",
    "            #finally append that into my_df\n",
    "            my_df.loc[i] = [start, exp_date,op,hi,lo,cl,pre_cl]\n",
    "\n",
    "        except:\n",
    "            continue\n",
    "    my_df.dropna(inplace = True)\n",
    "    my_df.to_csv(\"yo_\"+jisko.index[0]+str(st_dist)+\".csv\")\n",
    "    "
   ]
  },
  {
   "cell_type": "code",
   "execution_count": null,
   "id": "ad2ee9b9",
   "metadata": {},
   "outputs": [],
   "source": [
    "response.content"
   ]
  },
  {
   "cell_type": "code",
   "execution_count": null,
   "id": "9693b667",
   "metadata": {},
   "outputs": [],
   "source": [
    "exp_date\n"
   ]
  },
  {
   "cell_type": "code",
   "execution_count": null,
   "id": "59254d1a",
   "metadata": {},
   "outputs": [],
   "source": []
  },
  {
   "cell_type": "code",
   "execution_count": null,
   "id": "f47321eb",
   "metadata": {},
   "outputs": [],
   "source": [
    "my_df"
   ]
  },
  {
   "cell_type": "code",
   "execution_count": null,
   "id": "6f7a0f1f",
   "metadata": {},
   "outputs": [],
   "source": []
  },
  {
   "cell_type": "code",
   "execution_count": null,
   "id": "0f177fef",
   "metadata": {},
   "outputs": [],
   "source": []
  },
  {
   "cell_type": "code",
   "execution_count": null,
   "id": "37ac62e6",
   "metadata": {},
   "outputs": [],
   "source": [
    "peice=0.2\n",
    "last = 0\n",
    "arr = []\n",
    "arr.append(last)\n",
    "for i in range(int(2/peice)):\n",
    "    \n",
    "    last = last+peice-0.00001\n",
    "    arr.append(last)\n",
    "arr.append(10)"
   ]
  },
  {
   "cell_type": "code",
   "execution_count": null,
   "id": "d7a70e63",
   "metadata": {},
   "outputs": [],
   "source": [
    "arr"
   ]
  },
  {
   "cell_type": "code",
   "execution_count": null,
   "id": "e43dfcd7",
   "metadata": {},
   "outputs": [],
   "source": [
    "out = pd.cut(my_df['prev_close'], bins=arr, include_lowest=True)\n",
    "ax = out.value_counts(sort=False).plot.bar(rot=0, color=\"b\", figsize=(6,4))\n",
    "# ax.set_xticklabels([c[1:-1].replace(\",\",\" to\") for c in out.cat.categories])\n",
    "plt.show()"
   ]
  },
  {
   "cell_type": "code",
   "execution_count": null,
   "id": "9033bc3c",
   "metadata": {},
   "outputs": [],
   "source": [
    "out.value_counts(sort=False)"
   ]
  },
  {
   "cell_type": "code",
   "execution_count": null,
   "id": "b3914798",
   "metadata": {},
   "outputs": [],
   "source": [
    "new_df = pd.DataFrame(my_df[my_df['prev_close']<=1])"
   ]
  },
  {
   "cell_type": "code",
   "execution_count": null,
   "id": "c7b19293",
   "metadata": {},
   "outputs": [],
   "source": [
    "new_df"
   ]
  },
  {
   "cell_type": "code",
   "execution_count": null,
   "id": "c8a70611",
   "metadata": {},
   "outputs": [],
   "source": [
    "no = len(new_df)"
   ]
  },
  {
   "cell_type": "code",
   "execution_count": null,
   "id": "43fef3cd",
   "metadata": {},
   "outputs": [],
   "source": [
    "tar = len(new_df[new_df['high']>=0.1+new_df['prev_close']])"
   ]
  },
  {
   "cell_type": "code",
   "execution_count": null,
   "id": "05d15325",
   "metadata": {},
   "outputs": [],
   "source": [
    "tar"
   ]
  },
  {
   "cell_type": "code",
   "execution_count": null,
   "id": "729afa20",
   "metadata": {},
   "outputs": [],
   "source": [
    "no"
   ]
  },
  {
   "cell_type": "code",
   "execution_count": null,
   "id": "8d1c2eea",
   "metadata": {},
   "outputs": [],
   "source": []
  },
  {
   "cell_type": "code",
   "execution_count": null,
   "id": "293936b1",
   "metadata": {},
   "outputs": [],
   "source": [
    "strike = round(monday['Close'][0]/50)*50"
   ]
  },
  {
   "cell_type": "code",
   "execution_count": null,
   "id": "333c927a",
   "metadata": {},
   "outputs": [],
   "source": [
    "strike  = str(strike)"
   ]
  },
  {
   "cell_type": "code",
   "execution_count": null,
   "id": "630ab34a",
   "metadata": {},
   "outputs": [],
   "source": []
  },
  {
   "cell_type": "code",
   "execution_count": null,
   "id": "563a26c4",
   "metadata": {},
   "outputs": [],
   "source": [
    "if(monday['next_date'][0].day/10>=1):\n",
    "    day = str(monday['next_date'][0].day)\n",
    "else:\n",
    "    day = '0'+str(monday['next_date'][0].day)\n",
    "    \n",
    "if(monday['next_date'][0].month/10>=1):\n",
    "    month = str(monday['next_date'][0].month)\n",
    "else:\n",
    "    month = '0'+str(monday['next_date'][0].month)\n",
    "year = str(monday['next_date'][0].year)"
   ]
  },
  {
   "cell_type": "code",
   "execution_count": null,
   "id": "664839a2",
   "metadata": {},
   "outputs": [],
   "source": [
    "start = day+'-'+ month +'-' +year"
   ]
  },
  {
   "cell_type": "code",
   "execution_count": null,
   "id": "96ef35b6",
   "metadata": {},
   "outputs": [],
   "source": [
    "end = start"
   ]
  },
  {
   "cell_type": "code",
   "execution_count": null,
   "id": "d787867f",
   "metadata": {},
   "outputs": [],
   "source": [
    "exp_date = monday['Date'][0]+timedelta(dist)"
   ]
  },
  {
   "cell_type": "code",
   "execution_count": null,
   "id": "37e1cc63",
   "metadata": {},
   "outputs": [],
   "source": [
    "if(exp_date.day/10>=1):\n",
    "    exp_day = str(exp_date.day)\n",
    "else:\n",
    "    exp_day = '0'+str(exp_date.day)\n",
    "exp_month = exp_date.strftime(\"%B\")[0:3]\n",
    "exp_year = str(exp_date.year)"
   ]
  },
  {
   "cell_type": "code",
   "execution_count": null,
   "id": "3702fc5b",
   "metadata": {},
   "outputs": [],
   "source": [
    "exp = exp_day + '-'+exp_month + '-'+exp_year"
   ]
  },
  {
   "cell_type": "code",
   "execution_count": null,
   "id": "cb4db0ff",
   "metadata": {},
   "outputs": [],
   "source": [
    "exp"
   ]
  },
  {
   "cell_type": "code",
   "execution_count": null,
   "id": "bbb5ee7a",
   "metadata": {},
   "outputs": [],
   "source": [
    "url =  f'https://www.nseindia.com/api/historical/foCPV?from={start}&to={end}&instrumentType=OPTIDX&symbol=NIFTY&year={exp_year}&expiryDate={exp}&optionType=CE&strikePrice={strike}'"
   ]
  },
  {
   "cell_type": "code",
   "execution_count": null,
   "id": "012b8e63",
   "metadata": {},
   "outputs": [],
   "source": [
    "url"
   ]
  },
  {
   "cell_type": "code",
   "execution_count": null,
   "id": "e0fe6ff4",
   "metadata": {},
   "outputs": [],
   "source": [
    "webbrowser.open_new_tab(url)"
   ]
  },
  {
   "cell_type": "code",
   "execution_count": null,
   "id": "863150c6",
   "metadata": {},
   "outputs": [],
   "source": [
    "headers = {\n",
    "    'User-Agent': 'Mozilla/5.0',\n",
    "    'Accept-Language': 'en-US,en;q=0.9',\n",
    "    'Accept-Encoding': 'gzip, deflate, br',\n",
    "    'Referer': 'https://www.nseindia.com',\n",
    "    'X-Requested-With': 'XMLHttpRequest'\n",
    "}"
   ]
  },
  {
   "cell_type": "code",
   "execution_count": null,
   "id": "adfbac7c",
   "metadata": {},
   "outputs": [],
   "source": [
    "response = requests.get(url, headers = headers)"
   ]
  },
  {
   "cell_type": "code",
   "execution_count": null,
   "id": "f888737b",
   "metadata": {},
   "outputs": [],
   "source": [
    "response.content"
   ]
  },
  {
   "cell_type": "code",
   "execution_count": null,
   "id": "9f6670b8",
   "metadata": {},
   "outputs": [],
   "source": [
    "json_string = response.content.decode('utf-8')\n",
    "data = json.loads(json_string)"
   ]
  },
  {
   "cell_type": "code",
   "execution_count": null,
   "id": "fe216398",
   "metadata": {},
   "outputs": [],
   "source": [
    "data"
   ]
  },
  {
   "cell_type": "code",
   "execution_count": null,
   "id": "348e4c25",
   "metadata": {},
   "outputs": [],
   "source": []
  },
  {
   "cell_type": "code",
   "execution_count": null,
   "id": "6216fd27",
   "metadata": {},
   "outputs": [],
   "source": [
    "if(len(data['data'][0])==0):\n",
    "    op = float('Nan')\n",
    "    cl = float('Nan')\n",
    "    hi = float('Nan')\n",
    "    lo =float('Nan')\n",
    "    pre_cl = float('Nan')\n",
    "else:\n",
    "    op = float(data['data'][0]['FH_OPENING_PRICE'])\n",
    "    cl = float(data['data'][0]['FH_CLOSING_PRICE'])\n",
    "    hi = float(data['data'][0]['FH_TRADE_HIGH_PRICE'])\n",
    "    lo = float(data['data'][0]['FH_TRADE_LOW_PRICE'])\n",
    "    pre_cl = float(data['data'][0]['FH_PREV_CLS'])\n",
    "    \n",
    "    "
   ]
  },
  {
   "cell_type": "code",
   "execution_count": null,
   "id": "8391a355",
   "metadata": {},
   "outputs": [],
   "source": [
    "my_df.loc[1] = [op,hi,lo,cl,pre_cl]"
   ]
  },
  {
   "cell_type": "code",
   "execution_count": null,
   "id": "8c61456a",
   "metadata": {},
   "outputs": [],
   "source": [
    "my_df"
   ]
  },
  {
   "cell_type": "code",
   "execution_count": null,
   "id": "baa4c058",
   "metadata": {},
   "outputs": [],
   "source": []
  },
  {
   "cell_type": "code",
   "execution_count": null,
   "id": "9a3163c8",
   "metadata": {},
   "outputs": [],
   "source": []
  },
  {
   "cell_type": "code",
   "execution_count": null,
   "id": "1e196254",
   "metadata": {},
   "outputs": [],
   "source": []
  },
  {
   "cell_type": "code",
   "execution_count": null,
   "id": "1bd26fad",
   "metadata": {},
   "outputs": [],
   "source": []
  },
  {
   "cell_type": "code",
   "execution_count": null,
   "id": "7d59f858",
   "metadata": {},
   "outputs": [],
   "source": []
  },
  {
   "cell_type": "code",
   "execution_count": null,
   "id": "8ce379d2",
   "metadata": {},
   "outputs": [],
   "source": []
  },
  {
   "cell_type": "code",
   "execution_count": null,
   "id": "5c85000a",
   "metadata": {},
   "outputs": [],
   "source": []
  },
  {
   "cell_type": "code",
   "execution_count": null,
   "id": "9a91aa91",
   "metadata": {},
   "outputs": [],
   "source": []
  }
 ],
 "metadata": {
  "kernelspec": {
   "display_name": "Python 3 (ipykernel)",
   "language": "python",
   "name": "python3"
  },
  "language_info": {
   "codemirror_mode": {
    "name": "ipython",
    "version": 3
   },
   "file_extension": ".py",
   "mimetype": "text/x-python",
   "name": "python",
   "nbconvert_exporter": "python",
   "pygments_lexer": "ipython3",
   "version": "3.9.12"
  }
 },
 "nbformat": 4,
 "nbformat_minor": 5
}
