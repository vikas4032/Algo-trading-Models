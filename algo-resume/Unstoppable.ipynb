{
 "cells": [
  {
   "cell_type": "code",
   "execution_count": null,
   "id": "df65a8db",
   "metadata": {},
   "outputs": [],
   "source": [
    "from api_helper import ShoonyaApiPy\n",
    "import logging\n",
    "import time\n",
    "import pandas as pd\n",
    "import json\n",
    "import numpy as np\n",
    "import cred\n",
    "from datetime import datetime\n",
    "import time\n",
    "from notify_run import Notify\n",
    "notify = Notify()\n",
    "import pyotp\n",
    "token = cred.token\n",
    "totp = pyotp.TOTP(token).now()\n",
    "#enable dbug to see request and responses\n",
    "logging.basicConfig(level=logging.DEBUG)\n",
    "#start of our program\n",
    "api = ShoonyaApiPy()\n",
    "#credentials\n",
    "user = cred.user\n",
    "pwd = cred.pwd\n",
    "factor2 = totp\n",
    "vc = cred.vc\n",
    "app_key = cred.apikey\n",
    "imei = cred.imei\n",
    "logins = api.login(userid=user, password=pwd, twoFA=factor2, vendor_code=vc, \n",
    "    api_secret=app_key,imei = imei)\n",
    "print(logins)"
   ]
  },
  {
   "cell_type": "code",
   "execution_count": null,
   "id": "799c1b03",
   "metadata": {},
   "outputs": [],
   "source": [
    "df=pd.DataFrame(columns = ['bq1','bp1','sp1','sq1','v'])"
   ]
  },
  {
   "cell_type": "code",
   "execution_count": null,
   "id": "b2ea730a",
   "metadata": {},
   "outputs": [],
   "source": [
    "sq=sp=bq=bp=v=0\n",
    "feed_opened = False\n",
    "buyed = False\n",
    "sell_place = False\n",
    "selled = False\n",
    "signal = False\n",
    "buy = 0\n",
    "sell = 0"
   ]
  },
  {
   "cell_type": "code",
   "execution_count": null,
   "id": "a4794c7c",
   "metadata": {},
   "outputs": [],
   "source": [
    "\n",
    "def event_handler_feed_update(m):\n",
    "    global feed_opened,df,a,sq,sp,bq,bp,v,buyed,buy, sell_place, selled, signal,order_no\n",
    "    #print(m)\n",
    "    \n",
    "    if('sq1'in m):\n",
    "        sq = float(m['sq1'])\n",
    "    else:\n",
    "        sq = df['sq1'][df['sq1'].count()-1]\n",
    "        \n",
    "    if('sp1'in m):\n",
    "        sp = float(m['sp1'])\n",
    "    else:\n",
    "        sp = df['sp1'][df['sp1'].count()-1]\n",
    "    if('bq1'in m):\n",
    "        bq = float(m['bq1'])\n",
    "    else:\n",
    "        bq = df['bq1'][df['bq1'].count()-1]\n",
    "    if('bp1'in m):\n",
    "        bp = float(m['bp1'])\n",
    "    else:\n",
    "        bp = df['bp1'][df['bp1'].count()-1]\n",
    "    if('v'in m):\n",
    "        v = float(m['v'])\n",
    "    else:\n",
    "        v = df['v'][df['v'].count()-1]\n",
    "    \n",
    "    df.loc[df['v'].count()] = [bq,bp,sp,sq,v]\n",
    "    \n",
    "\n",
    "    \n",
    "    \n",
    "    \n",
    "        \n",
    "def event_handler_order_update(inm):\n",
    "    global buyed, sell_place, order_no, selled\n",
    "    if((inm['status']=='REJECTED') &(inm['trantype']=='B')):\n",
    "        buyed=False\n",
    "        \n",
    "    elif((inm['status']=='COMPLETE') &(inm['trantype']=='B')&(inm['qty']=='50')):\n",
    "        buyed = True\n",
    "        \n",
    "    elif((inm['status']=='PENDING')&(inm['trantype']=='S')):\n",
    "        sell_place = True\n",
    "        order_no = int(inm['norenordno'])\n",
    "        \n",
    "    elif((inm['status']=='COMPLETE')&(inm['trantype']=='S') &(inm['qty']=='50')):\n",
    "        selled = True\n",
    "    \n",
    "    \n",
    "    \n",
    "    print(inm)                                      #     if(('norennordno' in inmessage)&('status'in inmessage)):  #         orderJson[inmessage['norenordno']] = {'status': inmessage['status']}\n",
    "        \n",
    "def open_callback():\n",
    "    \n",
    "    global feed_opened\n",
    "    feed_opened = True\n",
    "\n"
   ]
  },
  {
   "cell_type": "code",
   "execution_count": null,
   "id": "2f9063a9",
   "metadata": {},
   "outputs": [],
   "source": [
    "api.start_websocket( order_update_callback=event_handler_order_update,\n",
    " subscribe_callback=event_handler_feed_update, \n",
    "socket_open_callback=open_callback)\n",
    "while(feed_opened==False):\n",
    "    pass\n"
   ]
  },
  {
   "cell_type": "code",
   "execution_count": null,
   "id": "3f7f0b5d",
   "metadata": {},
   "outputs": [],
   "source": [
    "bbb = api.searchscrip('NFO','NIFTY18MAY23C19500')\n",
    "aaa = bbb['values'][0]['token']\n"
   ]
  },
  {
   "cell_type": "code",
   "execution_count": null,
   "id": "a52ce68d",
   "metadata": {},
   "outputs": [],
   "source": [
    "aaa"
   ]
  },
  {
   "cell_type": "code",
   "execution_count": null,
   "id": "87049978",
   "metadata": {},
   "outputs": [],
   "source": [
    "api.subscribe('NFO|'+aaa)"
   ]
  },
  {
   "cell_type": "code",
   "execution_count": null,
   "id": "fc664530",
   "metadata": {},
   "outputs": [],
   "source": [
    "df"
   ]
  },
  {
   "cell_type": "code",
   "execution_count": null,
   "id": "ad55f10f",
   "metadata": {},
   "outputs": [],
   "source": [
    "signal = False"
   ]
  },
  {
   "cell_type": "code",
   "execution_count": null,
   "id": "c819cc69",
   "metadata": {},
   "outputs": [],
   "source": [
    "signal"
   ]
  },
  {
   "cell_type": "code",
   "execution_count": null,
   "id": "2f48fccc",
   "metadata": {
    "scrolled": true
   },
   "outputs": [],
   "source": [
    "df"
   ]
  },
  {
   "cell_type": "code",
   "execution_count": null,
   "id": "d545ed6e",
   "metadata": {},
   "outputs": [],
   "source": [
    "df"
   ]
  },
  {
   "cell_type": "code",
   "execution_count": null,
   "id": "86cc52ad",
   "metadata": {
    "scrolled": true
   },
   "outputs": [],
   "source": [
    "while(signal==False):\n",
    "    continue\n"
   ]
  },
  {
   "cell_type": "code",
   "execution_count": null,
   "id": "62d33a9c",
   "metadata": {},
   "outputs": [],
   "source": [
    "api.place_order(buy_or_sell='B', product_type='M',exchange='NFO', tradingsymbol='NIFTY18MAY23C19500', \n",
    "quantity=50, discloseqty=0,price_type='LMT', price=buy, \n",
    "trigger_price=None,\n",
    " retention='DAY', remarks='my_order_001')"
   ]
  },
  {
   "cell_type": "code",
   "execution_count": null,
   "id": "e735ee96",
   "metadata": {},
   "outputs": [],
   "source": [
    "# buyed = True"
   ]
  },
  {
   "cell_type": "code",
   "execution_count": null,
   "id": "181ca291",
   "metadata": {},
   "outputs": [],
   "source": [
    "while(buyed==False):\n",
    "    continue\n",
    "    \n",
    "    \n",
    "\n",
    "\n",
    "\n",
    "\n",
    "api.place_order(buy_or_sell='S', product_type='M',exchange='NFO', tradingsymbol='NIFTY18MAY23C19500', \n",
    "quantity=50, discloseqty=0,price_type='LMT', price=buy+0.05, \n",
    "trigger_price=None,\n",
    " retention='DAY', remarks='my_order_002')\n",
    "\n",
    "\n",
    "while(sell_place==False):\n",
    "    continue\n",
    "    "
   ]
  },
  {
   "cell_type": "code",
   "execution_count": null,
   "id": "c715a597",
   "metadata": {},
   "outputs": [],
   "source": [
    "buyed=True"
   ]
  },
  {
   "cell_type": "code",
   "execution_count": null,
   "id": "ba6a1c25",
   "metadata": {},
   "outputs": [],
   "source": [
    "api."
   ]
  },
  {
   "cell_type": "code",
   "execution_count": null,
   "id": "5f76b845",
   "metadata": {},
   "outputs": [],
   "source": [
    "buyed"
   ]
  },
  {
   "cell_type": "code",
   "execution_count": null,
   "id": "a6092772",
   "metadata": {},
   "outputs": [],
   "source": [
    "order_no = "
   ]
  },
  {
   "cell_type": "code",
   "execution_count": null,
   "id": "597d85d0",
   "metadata": {},
   "outputs": [],
   "source": [
    "change = False"
   ]
  },
  {
   "cell_type": "code",
   "execution_count": null,
   "id": "a5540ca0",
   "metadata": {},
   "outputs": [],
   "source": [
    "while(1):\n",
    "    if(selled==True):\n",
    "        change = False\n",
    "        break\n",
    "        \n",
    "    \n",
    "    if((df['bq1'][df['bq1'].count()-1]<=60000) | (df['bp1'][df['bq1'].count()-1]!=buy)):\n",
    "        change =True\n",
    "        break"
   ]
  },
  {
   "cell_type": "code",
   "execution_count": null,
   "id": "065f61b1",
   "metadata": {},
   "outputs": [],
   "source": [
    "type(buy)"
   ]
  },
  {
   "cell_type": "code",
   "execution_count": null,
   "id": "dae8604a",
   "metadata": {},
   "outputs": [],
   "source": [
    "df['bp1'][df['bq1'].count()-1]"
   ]
  },
  {
   "cell_type": "code",
   "execution_count": null,
   "id": "5ec95a71",
   "metadata": {},
   "outputs": [],
   "source": [
    "df"
   ]
  },
  {
   "cell_type": "code",
   "execution_count": null,
   "id": "9ad2c9f4",
   "metadata": {},
   "outputs": [],
   "source": [
    "if(change):\n",
    "    api.cancel_order(orderno = order_no)\n",
    "    qty = int(api.get_positions()['netqty'])\n",
    "    api.place_order(buy_or_sell='S', product_type='M',exchange='NFO', tradingsymbol='NIFTY18MAY23C19500', \n",
    "    quantity=qty, discloseqty=0,price_type='LMT', price=buy, \n",
    "    trigger_price=None,\n",
    "     retention='DAY', remarks='my_order_003')\n",
    "else:\n",
    "    signal = False\n",
    "    print('you won')"
   ]
  },
  {
   "cell_type": "code",
   "execution_count": null,
   "id": "d6fea09e",
   "metadata": {},
   "outputs": [],
   "source": []
  },
  {
   "cell_type": "code",
   "execution_count": null,
   "id": "39fe2f79",
   "metadata": {},
   "outputs": [],
   "source": []
  },
  {
   "cell_type": "code",
   "execution_count": null,
   "id": "404a810a",
   "metadata": {},
   "outputs": [],
   "source": [
    "a =np.zeros(40)\n",
    "x = 18500\n",
    "for i in range(20):\n",
    "    \n",
    "    b = api.searchscrip('NFO','NIFTY11MAY23C'+str(x))\n",
    "    a[i] = b['values'][0]['token']\n",
    "    x = x+50\n",
    "    \n",
    "x = 18100\n",
    "for i in range(20):\n",
    "    \n",
    "    b = api.searchscrip('NFO','NIFTY11MAY23P'+str(x))\n",
    "    a[20+i] = b['values'][0]['token']\n",
    "    x = x-50\n"
   ]
  },
  {
   "cell_type": "code",
   "execution_count": null,
   "id": "d9898f0c",
   "metadata": {},
   "outputs": [],
   "source": [
    "b = []\n",
    "for i in range(40):\n",
    "    b.append('NFO|'+str(int(a[i])))\n",
    "a = a.astype(int)\n",
    "a = a.astype(str)"
   ]
  },
  {
   "cell_type": "code",
   "execution_count": null,
   "id": "0f8f0ca3",
   "metadata": {},
   "outputs": [],
   "source": [
    "api.subscribe(b)"
   ]
  },
  {
   "cell_type": "code",
   "execution_count": null,
   "id": "f20a68fe",
   "metadata": {},
   "outputs": [],
   "source": []
  },
  {
   "cell_type": "code",
   "execution_count": null,
   "id": "1a8e1fb1",
   "metadata": {},
   "outputs": [],
   "source": []
  },
  {
   "cell_type": "code",
   "execution_count": null,
   "id": "e6c83cdf",
   "metadata": {},
   "outputs": [],
   "source": [
    "api.place_order(buy_or_sell='B', product_type='M',exchange='NFO', tradingsymbol='NIFTY25MAY23C18900', \n",
    "quantity=50, discloseqty=0,price_type='LMT', price=10, \n",
    "trigger_price=None,\n",
    " retention='DAY', remarks='my_order_001')"
   ]
  },
  {
   "cell_type": "code",
   "execution_count": null,
   "id": "72b4dd6a",
   "metadata": {},
   "outputs": [],
   "source": [
    "api.place_order(buy_or_sell='S', product_type='M',exchange='NFO', tradingsymbol='NIFTY25MAY23C18900', \n",
    "quantity=50, discloseqty=0,price_type='LMT', price=10, \n",
    "trigger_price=None,\n",
    " retention='DAY', remarks='my_order_001')"
   ]
  },
  {
   "cell_type": "code",
   "execution_count": null,
   "id": "92a3537d",
   "metadata": {},
   "outputs": [],
   "source": []
  },
  {
   "cell_type": "code",
   "execution_count": null,
   "id": "96c52150",
   "metadata": {},
   "outputs": [],
   "source": []
  },
  {
   "cell_type": "code",
   "execution_count": null,
   "id": "a3c2e71c",
   "metadata": {},
   "outputs": [],
   "source": []
  },
  {
   "cell_type": "code",
   "execution_count": null,
   "id": "4f1a53bf",
   "metadata": {},
   "outputs": [],
   "source": []
  },
  {
   "cell_type": "code",
   "execution_count": null,
   "id": "3e112a98",
   "metadata": {},
   "outputs": [],
   "source": [
    "from datetime import datetime, timedelta\n",
    "import time"
   ]
  },
  {
   "cell_type": "code",
   "execution_count": null,
   "id": "d729c2ca",
   "metadata": {},
   "outputs": [],
   "source": [
    "curr = datetime.now()\n",
    "new = curr+timedelta(seconds = 70)"
   ]
  },
  {
   "cell_type": "code",
   "execution_count": null,
   "id": "ea79d315",
   "metadata": {},
   "outputs": [],
   "source": [
    "while(1):\n",
    "    while(curr.minute != new.minute):\n",
    "        curr = datetime.now()\n",
    "    api.unsubscribe(b)\n",
    "    api.close_websocket()\n",
    "    \n",
    "    feed_opened = False\n",
    "    time.sleep(1)\n",
    "    \n",
    "    api.start_websocket( order_update_callback=event_handler_order_update, subscribe_callback=event_handler_feed_update, socket_open_callback=open_callback)\n",
    "    while(feed_opened==False):\n",
    "        pass\n",
    "    time.sleep(1)\n",
    "    api.subscribe(b)\n",
    "    \n",
    "    new = curr + timedelta(minutes = 2)\n",
    "    "
   ]
  },
  {
   "cell_type": "code",
   "execution_count": null,
   "id": "627ba8f7",
   "metadata": {},
   "outputs": [],
   "source": [
    "if((x==5) | (y==3)):\n",
    "    print('y')"
   ]
  },
  {
   "cell_type": "code",
   "execution_count": null,
   "id": "269fd27d",
   "metadata": {},
   "outputs": [],
   "source": [
    "x=2\n",
    "y=3"
   ]
  },
  {
   "cell_type": "code",
   "execution_count": null,
   "id": "7fbbc689",
   "metadata": {},
   "outputs": [],
   "source": []
  },
  {
   "cell_type": "code",
   "execution_count": null,
   "id": "8edcf420",
   "metadata": {},
   "outputs": [],
   "source": []
  },
  {
   "cell_type": "code",
   "execution_count": null,
   "id": "7db3463d",
   "metadata": {},
   "outputs": [],
   "source": []
  },
  {
   "cell_type": "code",
   "execution_count": null,
   "id": "b05c5374",
   "metadata": {},
   "outputs": [],
   "source": []
  },
  {
   "cell_type": "code",
   "execution_count": null,
   "id": "1b282bc5",
   "metadata": {},
   "outputs": [],
   "source": []
  },
  {
   "cell_type": "code",
   "execution_count": null,
   "id": "5f2a8ec9",
   "metadata": {},
   "outputs": [],
   "source": []
  },
  {
   "cell_type": "code",
   "execution_count": null,
   "id": "3503e000",
   "metadata": {},
   "outputs": [],
   "source": []
  }
 ],
 "metadata": {
  "kernelspec": {
   "display_name": "Python 3 (ipykernel)",
   "language": "python",
   "name": "python3"
  },
  "language_info": {
   "codemirror_mode": {
    "name": "ipython",
    "version": 3
   },
   "file_extension": ".py",
   "mimetype": "text/x-python",
   "name": "python",
   "nbconvert_exporter": "python",
   "pygments_lexer": "ipython3",
   "version": "3.9.12"
  }
 },
 "nbformat": 4,
 "nbformat_minor": 5
}
