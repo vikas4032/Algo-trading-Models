{
 "cells": [
  {
   "cell_type": "code",
   "execution_count": 2,
   "id": "79be7116",
   "metadata": {},
   "outputs": [
    {
     "name": "stderr",
     "output_type": "stream",
     "text": [
      "DEBUG:NorenRestApiPy.NorenApi:https://api.shoonya.com/NorenWClientTP//QuickAuth\n",
      "DEBUG:NorenRestApiPy.NorenApi:Req:jData={\"source\": \"API\", \"apkversion\": \"1.0.0\", \"uid\": \"FA91335\", \"pwd\": \"dbc20194ef429540e62dd01f626f90c03015e9857d44737bebe3231633645cc4\", \"factor2\": \"639017\", \"vc\": \"FA91335_U\", \"appkey\": \"d33bc9b7243f81379ffdef5b690c5b24c8dc14d14ac97bec458d47bb2a139e54\", \"imei\": \"FA91335_U\"}\n",
      "DEBUG:urllib3.connectionpool:Starting new HTTPS connection (1): api.shoonya.com:443\n",
      "DEBUG:urllib3.connectionpool:https://api.shoonya.com:443 \"POST /NorenWClientTP//QuickAuth HTTP/1.1\" 200 2212\n",
      "DEBUG:NorenRestApiPy.NorenApi:Reply:{\"request_time\":\"09:48:38 22-05-2023\",\"actid\":\"FA91335\",\"access_type\":[\"WEB\",\"TT\",\"MOB\",\"API\"],\"uname\":\"VIKAS  KUMAR\",\"prarr\":[{\"prd\":\"C\",\"s_prdt_ali\":\"CNC\",\"exch\":[\"NSE\",\"BSE\",\"NIPO\",\"BSTAR\"]},{\"prd\":\"M\",\"s_prdt_ali\":\"NRML\",\"exch\":[\"NFO\",\"CDS\",\"BCD\"]},{\"prd\":\"I\",\"s_prdt_ali\":\"MIS\",\"exch\":[\"NSE\",\"BSE\",\"NFO\",\"CDS\",\"BCD\"]},{\"prd\":\"H\",\"s_prdt_ali\":\"CO\",\"exch\":[\"NSE\",\"NFO\",\"CDS\",\"BSE\"]},{\"prd\":\"B\",\"s_prdt_ali\":\"BO\",\"exch\":[\"NSE\",\"NFO\",\"CDS\",\"BSE\"]}],\"stat\":\"Ok\",\"susertoken\":\"74472483877debcf30ec9e0609472bbd0b5f74d76efdf1c04073e8eff466cc86\",\"email\":\"vikaslosal10@gmail.com\",\"uid\":\"FA91335\",\"brnchid\":\"HO\",\"totp_set\":\"1\",\"orarr\":[\"MKT\",\"LMT\",\"SL-LMT\",\"SL-MKT\"],\"exarr\":[\"NSE\",\"NIPO\",\"NFO\",\"CDS\",\"BSE\",\"BCD\",\"BSTAR\"],\"values\":[\"3\",\"2\",\"1\"],\"mws\":{\"3\":[{\"exch\":\"NFO\",\"token\":\"43741\",\"tsym\":\"MIDCPNIFTY21JUN23P8350\",\"weekly\":\"W3\",\"dname\":\"MIDCPNIFTY 21JUN23 8350 PE \",\"instname\":\"OPTIDX\",\"pp\":\"2\",\"ls\":\"75\",\"ti\":\"0.05\",\"optt\":\"PE\"},{\"exch\":\"NFO\",\"token\":\"43803\",\"tsym\":\"MIDCPNIFTY21JUN23C8750\",\"weekly\":\"W3\",\"dname\":\"MIDCPNIFTY 21JUN23 8750 CE \",\"instname\":\"OPTIDX\",\"pp\":\"2\",\"ls\":\"75\",\"ti\":\"0.05\",\"optt\":\"CE\"}],\"2\":[{\"exch\":\"NFO\",\"token\":\"47879\",\"tsym\":\"FINNIFTY23MAY23C21000\",\"weekly\":\"W4\",\"dname\":\"FINNIFTY MAY 21000 CE \",\"instname\":\"OPTIDX\",\"pp\":\"2\",\"ls\":\"40\",\"ti\":\"0.05\",\"optt\":\"CE\"},{\"exch\":\"NFO\",\"token\":\"47515\",\"tsym\":\"FINNIFTY23MAY23P18200\",\"weekly\":\"W4\",\"dname\":\"FINNIFTY MAY 18200 PE \",\"instname\":\"OPTIDX\",\"pp\":\"2\",\"ls\":\"40\",\"ti\":\"0.05\",\"optt\":\"PE\"},{\"exch\":\"NFO\",\"token\":\"47479\",\"tsym\":\"FINNIFTY23MAY23P17600\",\"weekly\":\"W4\",\"dname\":\"FINNIFTY MAY 17600 PE \",\"instname\":\"OPTIDX\",\"pp\":\"2\",\"ls\":\"40\",\"ti\":\"0.05\",\"optt\":\"PE\"}],\"1\":[{\"exch\":\"NFO\",\"token\":\"47724\",\"tsym\":\"FINNIFTY23MAY23C19950\",\"weekly\":\"W4\",\"dname\":\"FINNIFTY MAY 19950 CE \",\"instname\":\"OPTIDX\",\"pp\":\"2\",\"ls\":\"40\",\"ti\":\"0.05\",\"optt\":\"CE\"},{\"exch\":\"NFO\",\"token\":\"43733\",\"tsym\":\"MIDCPNIFTY21JUN23P8250\",\"weekly\":\"W3\",\"dname\":\"MIDCPNIFTY 21JUN23 8250 PE \",\"instname\":\"OPTIDX\",\"pp\":\"2\",\"ls\":\"75\",\"ti\":\"0.05\",\"optt\":\"PE\"},{\"exch\":\"NFO\",\"token\":\"43803\",\"tsym\":\"MIDCPNIFTY21JUN23C8750\",\"weekly\":\"W3\",\"dname\":\"MIDCPNIFTY 21JUN23 8750 CE \",\"instname\":\"OPTIDX\",\"pp\":\"2\",\"ls\":\"75\",\"ti\":\"0.05\",\"optt\":\"CE\"}]},\"brkname\":\"FINV\",\"lastaccesstime\":\"1684729118\"}\n"
     ]
    },
    {
     "name": "stdout",
     "output_type": "stream",
     "text": [
      "{'request_time': '09:48:38 22-05-2023', 'actid': 'FA91335', 'access_type': ['WEB', 'TT', 'MOB', 'API'], 'uname': 'VIKAS  KUMAR', 'prarr': [{'prd': 'C', 's_prdt_ali': 'CNC', 'exch': ['NSE', 'BSE', 'NIPO', 'BSTAR']}, {'prd': 'M', 's_prdt_ali': 'NRML', 'exch': ['NFO', 'CDS', 'BCD']}, {'prd': 'I', 's_prdt_ali': 'MIS', 'exch': ['NSE', 'BSE', 'NFO', 'CDS', 'BCD']}, {'prd': 'H', 's_prdt_ali': 'CO', 'exch': ['NSE', 'NFO', 'CDS', 'BSE']}, {'prd': 'B', 's_prdt_ali': 'BO', 'exch': ['NSE', 'NFO', 'CDS', 'BSE']}], 'stat': 'Ok', 'susertoken': '74472483877debcf30ec9e0609472bbd0b5f74d76efdf1c04073e8eff466cc86', 'email': 'vikaslosal10@gmail.com', 'uid': 'FA91335', 'brnchid': 'HO', 'totp_set': '1', 'orarr': ['MKT', 'LMT', 'SL-LMT', 'SL-MKT'], 'exarr': ['NSE', 'NIPO', 'NFO', 'CDS', 'BSE', 'BCD', 'BSTAR'], 'values': ['3', '2', '1'], 'mws': {'3': [{'exch': 'NFO', 'token': '43741', 'tsym': 'MIDCPNIFTY21JUN23P8350', 'weekly': 'W3', 'dname': 'MIDCPNIFTY 21JUN23 8350 PE ', 'instname': 'OPTIDX', 'pp': '2', 'ls': '75', 'ti': '0.05', 'optt': 'PE'}, {'exch': 'NFO', 'token': '43803', 'tsym': 'MIDCPNIFTY21JUN23C8750', 'weekly': 'W3', 'dname': 'MIDCPNIFTY 21JUN23 8750 CE ', 'instname': 'OPTIDX', 'pp': '2', 'ls': '75', 'ti': '0.05', 'optt': 'CE'}], '2': [{'exch': 'NFO', 'token': '47879', 'tsym': 'FINNIFTY23MAY23C21000', 'weekly': 'W4', 'dname': 'FINNIFTY MAY 21000 CE ', 'instname': 'OPTIDX', 'pp': '2', 'ls': '40', 'ti': '0.05', 'optt': 'CE'}, {'exch': 'NFO', 'token': '47515', 'tsym': 'FINNIFTY23MAY23P18200', 'weekly': 'W4', 'dname': 'FINNIFTY MAY 18200 PE ', 'instname': 'OPTIDX', 'pp': '2', 'ls': '40', 'ti': '0.05', 'optt': 'PE'}, {'exch': 'NFO', 'token': '47479', 'tsym': 'FINNIFTY23MAY23P17600', 'weekly': 'W4', 'dname': 'FINNIFTY MAY 17600 PE ', 'instname': 'OPTIDX', 'pp': '2', 'ls': '40', 'ti': '0.05', 'optt': 'PE'}], '1': [{'exch': 'NFO', 'token': '47724', 'tsym': 'FINNIFTY23MAY23C19950', 'weekly': 'W4', 'dname': 'FINNIFTY MAY 19950 CE ', 'instname': 'OPTIDX', 'pp': '2', 'ls': '40', 'ti': '0.05', 'optt': 'CE'}, {'exch': 'NFO', 'token': '43733', 'tsym': 'MIDCPNIFTY21JUN23P8250', 'weekly': 'W3', 'dname': 'MIDCPNIFTY 21JUN23 8250 PE ', 'instname': 'OPTIDX', 'pp': '2', 'ls': '75', 'ti': '0.05', 'optt': 'PE'}, {'exch': 'NFO', 'token': '43803', 'tsym': 'MIDCPNIFTY21JUN23C8750', 'weekly': 'W3', 'dname': 'MIDCPNIFTY 21JUN23 8750 CE ', 'instname': 'OPTIDX', 'pp': '2', 'ls': '75', 'ti': '0.05', 'optt': 'CE'}]}, 'brkname': 'FINV', 'lastaccesstime': '1684729118'}\n"
     ]
    }
   ],
   "source": [
    "from api_helper import ShoonyaApiPy\n",
    "import logging\n",
    "import time\n",
    "import pandas as pd\n",
    "import json\n",
    "import numpy as np\n",
    "import cred\n",
    "from datetime import datetime, timedelta\n",
    "import time\n",
    "from notify_run import Notify\n",
    "notify = Notify()\n",
    "import pyotp\n",
    "token = cred.token\n",
    "totp = pyotp.TOTP(token).now()\n",
    "#enable dbug to see request and responses\n",
    "logging.basicConfig(level=logging.DEBUG)\n",
    "#start of our program\n",
    "api = ShoonyaApiPy()\n",
    "#credentials\n",
    "user = cred.user\n",
    "pwd = cred.pwd\n",
    "factor2 = totp\n",
    "vc = cred.vc\n",
    "app_key = cred.apikey\n",
    "imei = cred.imei\n",
    "logins = api.login(userid=user, password=pwd, twoFA=factor2, vendor_code=vc, \n",
    "    api_secret=app_key,imei = imei)\n",
    "print(logins)"
   ]
  },
  {
   "cell_type": "code",
   "execution_count": null,
   "id": "beff6191",
   "metadata": {},
   "outputs": [],
   "source": []
  },
  {
   "cell_type": "code",
   "execution_count": null,
   "id": "57a64082",
   "metadata": {},
   "outputs": [],
   "source": [
    "strike_array = ['C19000','C19500','P17000','P16500','P17500']\n",
    "Q = 50\n",
    "q_exit= 50000"
   ]
  },
  {
   "cell_type": "code",
   "execution_count": null,
   "id": "11dd045f",
   "metadata": {},
   "outputs": [],
   "source": []
  },
  {
   "cell_type": "code",
   "execution_count": null,
   "id": "04c370a1",
   "metadata": {},
   "outputs": [],
   "source": [
    "# api.single_order_history('23051700032952')[0]"
   ]
  },
  {
   "cell_type": "code",
   "execution_count": null,
   "id": "e6f71c01",
   "metadata": {},
   "outputs": [],
   "source": []
  },
  {
   "cell_type": "code",
   "execution_count": null,
   "id": "f694ae6d",
   "metadata": {},
   "outputs": [],
   "source": []
  },
  {
   "cell_type": "code",
   "execution_count": null,
   "id": "5282d706",
   "metadata": {},
   "outputs": [],
   "source": [
    "def strategy(buy,Q,q_exit,buy_no):\n",
    "    for i in range(1):                    # for buy orders on 3 ticks\n",
    "        nikal = False\n",
    "        change = False\n",
    "        phek = False\n",
    "        phek2=False\n",
    "        upr_gya = False\n",
    "\n",
    "        while(1):\n",
    "    #         break\n",
    "            buy_status = api.single_order_history(buy_no[i])[0]['status']\n",
    "\n",
    "            bp1 = float(api.get_quotes('NFO',st)['bp1'])\n",
    "            if(bp1<buy):\n",
    "                nikal = True\n",
    "                break\n",
    "            elif(buy_status=='COMPLETE'):\n",
    "                nikal = False\n",
    "                break\n",
    "                \n",
    "            if((i==0)&(bp1>=buy+0.1)):\n",
    "                upr_gya = True\n",
    "                break\n",
    "                #till now I know ki buy at buy or due to dec in bp1\n",
    "    #     print('out')\n",
    "    \n",
    "        if(upr_gya==True):\n",
    "            api.cancel_order(buy_no[0])\n",
    "            api.cancel_order(buy_no[1])\n",
    "            break\n",
    "        \n",
    "        if(nikal==True):\n",
    "                            #bought due to dec in bp1\n",
    "            order_no = api.place_order(buy_or_sell='S', product_type='I',exchange='NFO', tradingsymbol=st, \n",
    "            quantity=Q, discloseqty=0,price_type='LMT', price=buy, \n",
    "            trigger_price=None,\n",
    "             retention='DAY')['norenordno']             # sell at bhav to bhav\n",
    "\n",
    "            while(1):\n",
    "                x = api.get_quotes('NFO',st)\n",
    "                bp1 = float(x['bp1'])\n",
    "                bq1 = int(x['bq1'])\n",
    "                status = api.single_order_history(order_no)[0]['status']\n",
    "                if(status=='COMPLETE'):\n",
    "                    phek = False\n",
    "                    break\n",
    "\n",
    "                elif((bq1<q_exit) | (bp1<buy-0.05)):\n",
    "                    phek = True\n",
    "                    break\n",
    "\n",
    "            if(phek==True):\n",
    "                api.cancel_order(order_no)\n",
    "\n",
    "                api.place_order(buy_or_sell='S', product_type='I',exchange='NFO', tradingsymbol=st,  \n",
    "                quantity=Q, discloseqty=0,price_type='LMT', price=0, \n",
    "                trigger_price=None,\n",
    "                 retention='DAY')\n",
    "\n",
    "\n",
    "                buy = buy-0.05\n",
    "\n",
    "            else:\n",
    "                buy = buy -0.05\n",
    "\n",
    "\n",
    "        #shi price pe buy ho gya, ab next\n",
    "\n",
    "\n",
    "        else:\n",
    "            order_no = api.place_order(buy_or_sell='S', product_type='I',exchange='NFO', tradingsymbol=st, \n",
    "            quantity=Q, discloseqty=0,price_type='LMT', price=buy+0.05, \n",
    "            trigger_price=None,\n",
    "             retention='DAY')['norenordno']     \n",
    "\n",
    "            while(1):\n",
    "                x = api.get_quotes('NFO',st)\n",
    "                bp1 = float(x['bp1'])\n",
    "                bq1 = int(x['bq1'])\n",
    "\n",
    "                status = api.single_order_history(order_no)[0]['status']\n",
    "                if(status=='COMPLETE'):\n",
    "                    change = False\n",
    "                    break\n",
    "                elif((bp1<buy) | (bq1<q_exit)):    #change your sell order \n",
    "                    change = True\n",
    "                    break\n",
    "    #         print('here')\n",
    "            if(change==True):    #change order\n",
    "                api.cancel_order(order_no)\n",
    "                order_no = api.place_order(buy_or_sell='S', product_type='I',exchange='NFO', tradingsymbol=st, \n",
    "                quantity=Q, discloseqty=0,price_type='LMT', price=buy, \n",
    "                trigger_price=None,\n",
    "                 retention='DAY')['norenordno']\n",
    "                time.sleep(2)\n",
    "\n",
    "                while(1):\n",
    "                    status = api.single_order_history(order_no)[0]['status']\n",
    "                    x = api.get_quotes('NFO',st)\n",
    "                    bp1 = float(x['bp1'])\n",
    "                    bq1 = int(x['bq1'])\n",
    "\n",
    "                    if(status=='COMPLETE'):\n",
    "                        phek2 = False\n",
    "                        break\n",
    "\n",
    "                    elif((bq1<q_exit) | (bp1<buy-0.05)):\n",
    "                        phek2 = True\n",
    "                        break\n",
    "\n",
    "                if(phek2==True):\n",
    "                    api.cancel_order(order_no)\n",
    "\n",
    "                    api.place_order(buy_or_sell='S', product_type='I',exchange='NFO', tradingsymbol=st, \n",
    "                    quantity=Q, discloseqty=0,price_type='LMT', price=0, \n",
    "                    trigger_price=None,\n",
    "                     retention='DAY')\n",
    "\n",
    "                    buy = buy-0.05\n",
    "\n",
    "                else:\n",
    "                    buy = buy -0.05\n",
    "            else:\n",
    "                buy = buy-0.05\n",
    "\n",
    "            \n",
    "            \n"
   ]
  },
  {
   "cell_type": "code",
   "execution_count": null,
   "id": "796b3ec3",
   "metadata": {},
   "outputs": [],
   "source": []
  },
  {
   "cell_type": "code",
   "execution_count": null,
   "id": "79a3156c",
   "metadata": {},
   "outputs": [],
   "source": []
  },
  {
   "cell_type": "code",
   "execution_count": null,
   "id": "368d5703",
   "metadata": {},
   "outputs": [],
   "source": [
    "df = []\n",
    "for i in range(5):\n",
    "    df.append(pd.DataFrame(columns = ['bq1','bp1','sq1','v']))"
   ]
  },
  {
   "cell_type": "code",
   "execution_count": null,
   "id": "ccbb6583",
   "metadata": {},
   "outputs": [],
   "source": [
    "buy = 0\n",
    "st = 0\n",
    "sq=sp=bq=bp=v=0\n",
    "feed_opened = False\n",
    "signal = False"
   ]
  },
  {
   "cell_type": "code",
   "execution_count": null,
   "id": "1138f01c",
   "metadata": {},
   "outputs": [],
   "source": [
    "\n",
    "def event_handler_feed_update(m):\n",
    "    #print(m)\n",
    "    global feed_opened,df,a,sq,sp,bq,bp,v,st,buy, signal\n",
    "    \n",
    "    ind = np.where(a==m['tk'])[0][0]\n",
    "    \n",
    "    if('sq1'in m):\n",
    "        sq = float(m['sq1'])\n",
    "    else:\n",
    "        sq = df[ind]['sq1'][df[ind]['sq1'].count()-1]\n",
    "        \n",
    "#     if('sp1'in m):\n",
    "#         sp = float(m['sp1'])\n",
    "#     else:\n",
    "#         sp = df[ind]['sp1'][df[ind]['sp1'].count()-1]\n",
    "    if('bq1'in m):\n",
    "        bq = float(m['bq1'])\n",
    "    else:\n",
    "        bq = df[ind]['bq1'][df[ind]['bq1'].count()-1]\n",
    "    if('bp1'in m):\n",
    "        bp = float(m['bp1'])\n",
    "    else:\n",
    "        bp = df[ind]['bp1'][df[ind]['bp1'].count()-1]\n",
    "    if('v'in m):\n",
    "        v = float(m['v'])\n",
    "    else:\n",
    "        v = df[ind]['v'][df[ind]['v'].count()-1]\n",
    "    \n",
    "    df[ind].loc[df[ind]['v'].count()] = [bq,bp,sq,v]\n",
    "    \n",
    "    if((signal==False)&(df[ind]['v'].count()>15)):\n",
    "        \n",
    "        if((bq/sq > 2) &(df[ind]['v'][df[ind]['v'].count()-1]/df[ind]['v'][df[ind]['v'].count()-11]>1.01)):\n",
    "            signal = True\n",
    "            st = ind\n",
    "            buy = bp\n",
    "    \n",
    "    \n",
    "    \n",
    "        \n",
    "def event_handler_order_update(inmessage):\n",
    "    print(inmessage)                                      #     if(('norennordno' in inmessage)&('status'in inmessage)):  #         orderJson[inmessage['norenordno']] = {'status': inmessage['status']}\n",
    "        \n",
    "def open_callback():\n",
    "    \n",
    "    global feed_opened\n",
    "    feed_opened = True\n",
    "\n"
   ]
  },
  {
   "cell_type": "code",
   "execution_count": null,
   "id": "87472d57",
   "metadata": {},
   "outputs": [],
   "source": []
  },
  {
   "cell_type": "code",
   "execution_count": null,
   "id": "072162f9",
   "metadata": {},
   "outputs": [],
   "source": []
  },
  {
   "cell_type": "code",
   "execution_count": null,
   "id": "ce4faf85",
   "metadata": {},
   "outputs": [],
   "source": [
    "api.start_websocket( order_update_callback=event_handler_order_update,\n",
    " subscribe_callback=event_handler_feed_update, \n",
    "socket_open_callback=open_callback)\n",
    "while(feed_opened==False):\n",
    "    pass\n"
   ]
  },
  {
   "cell_type": "code",
   "execution_count": null,
   "id": "c08b3525",
   "metadata": {},
   "outputs": [],
   "source": []
  },
  {
   "cell_type": "code",
   "execution_count": null,
   "id": "4b38bf98",
   "metadata": {
    "scrolled": true
   },
   "outputs": [],
   "source": [
    "a =np.zeros(5)\n",
    "\n",
    "\n",
    "for i in range(5):\n",
    "    \n",
    "    b = api.searchscrip('NFO','NIFTY18MAY23'+strike_array[i])\n",
    "    a[i] = b['values'][0]['token']\n",
    "    \n"
   ]
  },
  {
   "cell_type": "code",
   "execution_count": null,
   "id": "3b67967c",
   "metadata": {},
   "outputs": [],
   "source": [
    "b = []\n",
    "for i in range(5):\n",
    "    b.append('NFO|'+str(int(a[i])))\n",
    "a = a.astype(int)\n",
    "a = a.astype(str)"
   ]
  },
  {
   "cell_type": "code",
   "execution_count": null,
   "id": "aa1db82e",
   "metadata": {},
   "outputs": [],
   "source": [
    "api.subscribe(b)"
   ]
  },
  {
   "cell_type": "code",
   "execution_count": null,
   "id": "0b08c13a",
   "metadata": {},
   "outputs": [],
   "source": []
  },
  {
   "cell_type": "code",
   "execution_count": null,
   "id": "f4a7ca8d",
   "metadata": {},
   "outputs": [],
   "source": []
  },
  {
   "cell_type": "code",
   "execution_count": null,
   "id": "b20f822f",
   "metadata": {
    "scrolled": true
   },
   "outputs": [],
   "source": [
    "while(1):\n",
    "    \n",
    "    \n",
    "    curr = datetime.now()\n",
    "    new = curr+timedelta(minutes = 2)\n",
    "    while(1):\n",
    "        while(curr.minute != new.minute):\n",
    "            if(signal==True):\n",
    "                break\n",
    "            curr = datetime.now()\n",
    "        if(signal==True):\n",
    "            api.unsubscribe(b)\n",
    "            api.close_websocket()\n",
    "            feed_opened = False\n",
    "            break\n",
    "        api.unsubscribe(b)\n",
    "        api.close_websocket()\n",
    "\n",
    "        feed_opened = False\n",
    "\n",
    "        api.start_websocket( order_update_callback=event_handler_order_update, subscribe_callback=event_handler_feed_update, socket_open_callback=open_callback)\n",
    "        while(feed_opened==False):\n",
    "            pass\n",
    "        api.subscribe(b)\n",
    "\n",
    "        new = curr + timedelta(minutes = 2)\n",
    "\n",
    "\n",
    "    #now i got signal to buy at 'buy', to strike with index st in strike_array\n",
    "\n",
    "\n",
    "    #nikal  = False   #will true when biught due to dec. in bp1\n",
    "    #change  = False   #when I have to change my sell order either due to dec in bp1 or in bq1\n",
    "    #phek   = False    #phek de at loss\n",
    "    #phek2 = False    #vo phek jo buy pr hi buy hua but ab :(\n",
    "    st = 'NIFTY18MAY23'+strike_array[st]     # this will be trading symbol which we will be using to buy sell\n",
    "\n",
    "\n",
    "    #now buy \n",
    "    buy_no = ['','']\n",
    "    buy_no[0] = api.place_order(buy_or_sell='B', product_type='I',exchange='NFO', tradingsymbol=st, \n",
    "    quantity=Q, discloseqty=0,price_type='LMT', price=buy, \n",
    "    trigger_price=None,\n",
    "     retention='DAY')['norenordno']\n",
    "    buy_no[1] = api.place_order(buy_or_sell='B', product_type='I',exchange='NFO', tradingsymbol=st, \n",
    "    quantity=Q, discloseqty=0,price_type='LMT', price=buy-0.05, \n",
    "    trigger_price=None,\n",
    "     retention='DAY')['norenordno']\n",
    "\n",
    "\n",
    "    #its time to call strategy\n",
    "    strategy(buy,Q,q_exit, buy_no)\n",
    "\n",
    "\n",
    "    #setting again for next trades and while loop\n",
    "    signal = False\n",
    "    api.start_websocket( order_update_callback=event_handler_order_update,\n",
    "     subscribe_callback=event_handler_feed_update, \n",
    "    socket_open_callback=open_callback)\n",
    "    while(feed_opened==False):\n",
    "        pass\n",
    "    api.subscribe(b)\n"
   ]
  },
  {
   "cell_type": "code",
   "execution_count": null,
   "id": "e3dd6d7f",
   "metadata": {},
   "outputs": [],
   "source": []
  },
  {
   "cell_type": "code",
   "execution_count": null,
   "id": "018bc291",
   "metadata": {},
   "outputs": [],
   "source": []
  },
  {
   "cell_type": "code",
   "execution_count": null,
   "id": "b660ed51",
   "metadata": {},
   "outputs": [],
   "source": []
  },
  {
   "cell_type": "code",
   "execution_count": null,
   "id": "6634c2f7",
   "metadata": {},
   "outputs": [],
   "source": []
  },
  {
   "cell_type": "code",
   "execution_count": null,
   "id": "78879f16",
   "metadata": {},
   "outputs": [],
   "source": []
  },
  {
   "cell_type": "code",
   "execution_count": null,
   "id": "ba9d37d2",
   "metadata": {},
   "outputs": [],
   "source": []
  },
  {
   "cell_type": "code",
   "execution_count": null,
   "id": "ca3409a7",
   "metadata": {},
   "outputs": [],
   "source": []
  },
  {
   "cell_type": "code",
   "execution_count": null,
   "id": "f6954a34",
   "metadata": {},
   "outputs": [],
   "source": [
    "signal"
   ]
  },
  {
   "cell_type": "code",
   "execution_count": null,
   "id": "36de155b",
   "metadata": {},
   "outputs": [],
   "source": []
  },
  {
   "cell_type": "code",
   "execution_count": null,
   "id": "69f8d3c2",
   "metadata": {},
   "outputs": [],
   "source": []
  },
  {
   "cell_type": "code",
   "execution_count": null,
   "id": "3ac9a17e",
   "metadata": {},
   "outputs": [],
   "source": []
  },
  {
   "cell_type": "code",
   "execution_count": null,
   "id": "350c182e",
   "metadata": {},
   "outputs": [],
   "source": []
  },
  {
   "cell_type": "code",
   "execution_count": null,
   "id": "68d6f2fb",
   "metadata": {},
   "outputs": [],
   "source": [
    "api.get_positions()"
   ]
  },
  {
   "cell_type": "code",
   "execution_count": null,
   "id": "29918300",
   "metadata": {},
   "outputs": [],
   "source": []
  },
  {
   "cell_type": "code",
   "execution_count": null,
   "id": "e36ef187",
   "metadata": {},
   "outputs": [],
   "source": []
  },
  {
   "cell_type": "code",
   "execution_count": null,
   "id": "0cbc7aad",
   "metadata": {},
   "outputs": [],
   "source": []
  },
  {
   "cell_type": "code",
   "execution_count": null,
   "id": "9123eb8f",
   "metadata": {},
   "outputs": [],
   "source": []
  },
  {
   "cell_type": "code",
   "execution_count": null,
   "id": "0ce35595",
   "metadata": {},
   "outputs": [],
   "source": []
  },
  {
   "cell_type": "code",
   "execution_count": null,
   "id": "82bfed24",
   "metadata": {},
   "outputs": [],
   "source": []
  },
  {
   "cell_type": "code",
   "execution_count": null,
   "id": "cc659252",
   "metadata": {},
   "outputs": [],
   "source": []
  },
  {
   "cell_type": "code",
   "execution_count": null,
   "id": "0972b71a",
   "metadata": {},
   "outputs": [],
   "source": []
  },
  {
   "cell_type": "code",
   "execution_count": null,
   "id": "aa0b3cfa",
   "metadata": {},
   "outputs": [],
   "source": []
  },
  {
   "cell_type": "code",
   "execution_count": null,
   "id": "e90600b1",
   "metadata": {},
   "outputs": [],
   "source": []
  },
  {
   "cell_type": "code",
   "execution_count": null,
   "id": "d7a0e41a",
   "metadata": {
    "scrolled": true
   },
   "outputs": [],
   "source": []
  },
  {
   "cell_type": "code",
   "execution_count": null,
   "id": "fdd4eeb9",
   "metadata": {},
   "outputs": [],
   "source": [
    "b=2"
   ]
  },
  {
   "cell_type": "code",
   "execution_count": null,
   "id": "c6924ca5",
   "metadata": {},
   "outputs": [],
   "source": [
    "position[0]['netqty']"
   ]
  },
  {
   "cell_type": "code",
   "execution_count": null,
   "id": "a13c2318",
   "metadata": {},
   "outputs": [],
   "source": []
  },
  {
   "cell_type": "code",
   "execution_count": null,
   "id": "8b1148b4",
   "metadata": {},
   "outputs": [],
   "source": []
  },
  {
   "cell_type": "code",
   "execution_count": null,
   "id": "54b0de1c",
   "metadata": {},
   "outputs": [],
   "source": [
    "api.get_quotes('NFO','FINNIFTY16MAY23P19200')"
   ]
  },
  {
   "cell_type": "code",
   "execution_count": null,
   "id": "1df90dd8",
   "metadata": {},
   "outputs": [],
   "source": [
    "api.place_order(buy_or_sell='B', product_type='M',exchange='NFO', tradingsymbol=st, \n",
    "                quantity=Q, discloseqty=0,price_type='LMT', price=0.55, \n",
    "                trigger_price=None,\n",
    "                 retention='DAY')"
   ]
  },
  {
   "cell_type": "code",
   "execution_count": null,
   "id": "caaf1cce",
   "metadata": {},
   "outputs": [],
   "source": []
  },
  {
   "cell_type": "code",
   "execution_count": null,
   "id": "d8db2a6f",
   "metadata": {},
   "outputs": [],
   "source": [
    "quant = int(api.get_positions()['netqty'])"
   ]
  },
  {
   "cell_type": "code",
   "execution_count": null,
   "id": "803c3eaf",
   "metadata": {
    "scrolled": true
   },
   "outputs": [],
   "source": [
    "(api.get_positions()) is None"
   ]
  },
  {
   "cell_type": "code",
   "execution_count": null,
   "id": "a370a2e5",
   "metadata": {
    "scrolled": true
   },
   "outputs": [],
   "source": [
    "api.get_quotes('NFO',st)"
   ]
  },
  {
   "cell_type": "code",
   "execution_count": null,
   "id": "54b49de4",
   "metadata": {},
   "outputs": [],
   "source": [
    "api.get_daily_price_series('NFO',st)"
   ]
  },
  {
   "cell_type": "code",
   "execution_count": null,
   "id": "082b0561",
   "metadata": {},
   "outputs": [],
   "source": [
    "        api.place_order(buy_or_sell='S', product_type='M',exchange='NFO', tradingsymbol=st, \n",
    "        quantity=Q, discloseqty=0,price_type='LMT', price=buy+0.05, \n",
    "        trigger_price=None,\n",
    "         retention='DAY')"
   ]
  },
  {
   "cell_type": "code",
   "execution_count": null,
   "id": "0da28a2b",
   "metadata": {},
   "outputs": [],
   "source": [
    "api.single_order_history('23015300006823')"
   ]
  },
  {
   "cell_type": "code",
   "execution_count": null,
   "id": "190a9a98",
   "metadata": {},
   "outputs": [],
   "source": []
  },
  {
   "cell_type": "code",
   "execution_count": null,
   "id": "67c425d7",
   "metadata": {},
   "outputs": [],
   "source": []
  },
  {
   "cell_type": "code",
   "execution_count": null,
   "id": "970eb2bb",
   "metadata": {},
   "outputs": [],
   "source": [
    "order_no =['','',''] "
   ]
  },
  {
   "cell_type": "code",
   "execution_count": null,
   "id": "74b28690",
   "metadata": {},
   "outputs": [],
   "source": [
    "order_no = []"
   ]
  },
  {
   "cell_type": "code",
   "execution_count": null,
   "id": "a4dc8d94",
   "metadata": {},
   "outputs": [],
   "source": []
  },
  {
   "cell_type": "code",
   "execution_count": null,
   "id": "311284a0",
   "metadata": {},
   "outputs": [],
   "source": [
    "order_no.append(api.sell(dljfkjvkfmvlfdv))\n",
    "order_no.append(knfd)\n"
   ]
  },
  {
   "cell_type": "code",
   "execution_count": null,
   "id": "997166ec",
   "metadata": {},
   "outputs": [],
   "source": [
    "def(sell, len(order_no):\n",
    "    for order in order_no:\n",
    "        "
   ]
  },
  {
   "cell_type": "code",
   "execution_count": null,
   "id": "f9aa6ccd",
   "metadata": {},
   "outputs": [],
   "source": []
  },
  {
   "cell_type": "code",
   "execution_count": null,
   "id": "dc66d185",
   "metadata": {},
   "outputs": [],
   "source": []
  },
  {
   "cell_type": "code",
   "execution_count": null,
   "id": "ffce0556",
   "metadata": {},
   "outputs": [],
   "source": [
    "def sell"
   ]
  },
  {
   "cell_type": "code",
   "execution_count": null,
   "id": "124164e9",
   "metadata": {},
   "outputs": [],
   "source": []
  },
  {
   "cell_type": "code",
   "execution_count": null,
   "id": "da405219",
   "metadata": {},
   "outputs": [],
   "source": [
    "\n",
    "# while(b<3):                    # for buy orders on 3 ticks\n",
    "#     b= b+1\n",
    "#     nikal = False\n",
    "#     change = False\n",
    "#     phek = False\n",
    "\n",
    "\n",
    "#     while(1):\n",
    "# #         break\n",
    "#         position = api.get_positions()\n",
    "#         if position is None:\n",
    "#             quant = 0\n",
    "#         else:\n",
    "            \n",
    "#             quant = int(position['netqty'])\n",
    "#         bp1 = float(api.get_quotes('NFO',st)['bp1'])\n",
    "#         if(bp1<buy):\n",
    "#             nikal = True\n",
    "#             break\n",
    "#         elif(quant==Q):\n",
    "#             nikal = False\n",
    "#             break\n",
    "#             #till now I know ki buy at buy or due to dec in bp1\n",
    "# #     print('out')\n",
    "#     if(nikal==True):\n",
    "#                         #bought due to dec in bp1\n",
    "#         order_no = api.place_order(buy_or_sell='S', product_type='M',exchange='NFO', tradingsymbol=st, \n",
    "#         quantity=Q, discloseqty=0,price_type='LMT', price=buy, \n",
    "#         trigger_price=None,\n",
    "#          retention='DAY')['norenordno']             # sell at bhav to bhav\n",
    "        \n",
    "#         while(1):\n",
    "            \n",
    "#             status = api.single_order_history(order_no)\n",
    "#             if(status=='COMPLETE'):\n",
    "#                 phek = False\n",
    "#                 break\n",
    "#             x = api.get_quotes('NFO',st)\n",
    "#             bp1 = float(x['bp1'])\n",
    "#             bq1 = int(x['bq1'])\n",
    "#             if((bq1<q_exit) | (bp1<buy-0.05)):\n",
    "#                 phek = True\n",
    "#                 break\n",
    "\n",
    "#         if(phek==True):\n",
    "#             api.cancel_order(order_no)\n",
    "            \n",
    "#             api.place_order(buy_or_sell='S', product_type='M',exchange='NFO', tradingsymbol=st,  \n",
    "#             quantity=Q, discloseqty=0,price_type='LMT', price=0, \n",
    "#             trigger_price=None,\n",
    "#              retention='DAY')\n",
    "            \n",
    "            \n",
    "#             buy = buy-0.05\n",
    "\n",
    "#         else:\n",
    "#             buy = buy -0.05\n",
    "\n",
    "    \n",
    "#     #shi price pe buy ho gya, ab next\n",
    "\n",
    "\n",
    "#     else:\n",
    "#         order_no = api.place_order(buy_or_sell='S', product_type='M',exchange='NFO', tradingsymbol=st, \n",
    "#         quantity=Q, discloseqty=0,price_type='LMT', price=buy+0.05, \n",
    "#         trigger_price=None,\n",
    "#          retention='DAY')['norenordno']     \n",
    "        \n",
    "#         while(1):\n",
    "#             x = api.get_quotes('NFO',st)\n",
    "#             bp1 = float(x['bp1'])\n",
    "#             bq1 = int(x['bq1'])\n",
    "\n",
    "#             status = api.single_order_history(order_no)\n",
    "#             if(status=='COMPLETE'):\n",
    "#                 change = False\n",
    "#                 break\n",
    "#             if((bp1<buy) | (bq1<q_exit)):    #change your sell order \n",
    "#                 change = True\n",
    "#                 break\n",
    "# #         print('here')\n",
    "#         if(change==True):    #change order\n",
    "#             api.cancel_order(order_no)\n",
    "#             order_no = api.place_order(buy_or_sell='S', product_type='M',exchange='NFO', tradingsymbol=st, \n",
    "#             quantity=Q, discloseqty=0,price_type='LMT', price=buy, \n",
    "#             trigger_price=None,\n",
    "#              retention='DAY')['norenordno']\n",
    "            \n",
    "#             while(1):\n",
    "#                 status = api.single_order_history(order_no)\n",
    "#                 if(status=='COMPLETE'):\n",
    "#                     phek2 = False\n",
    "#                     break\n",
    "#                 x = api.get_quotes('NFO',st)\n",
    "#                 bp1 = float(x['bp1'])\n",
    "#                 bq1 = int(x['bq1'])\n",
    "#                 if((bq1<q_exit) | (bp1<buy-0.05)):\n",
    "#                     phek2 = True\n",
    "#                     break\n",
    "\n",
    "#             if(phek2==True):\n",
    "#                 api.cancel_order(order_no)\n",
    "            \n",
    "#                 api.place_order(buy_or_sell='S', product_type='M',exchange='NFO', tradingsymbol=st, \n",
    "#                 quantity=Q, discloseqty=0,price_type='LMT', price=0, \n",
    "#                 trigger_price=None,\n",
    "#                  retention='DAY')\n",
    "            \n",
    "#                 buy = buy-0.05\n",
    "\n",
    "#             else:\n",
    "#                 buy = buy -0.05\n",
    "#         else:\n",
    "#             buy = buy-0.05\n"
   ]
  }
 ],
 "metadata": {
  "kernelspec": {
   "display_name": "Python 3 (ipykernel)",
   "language": "python",
   "name": "python3"
  },
  "language_info": {
   "codemirror_mode": {
    "name": "ipython",
    "version": 3
   },
   "file_extension": ".py",
   "mimetype": "text/x-python",
   "name": "python",
   "nbconvert_exporter": "python",
   "pygments_lexer": "ipython3",
   "version": "3.9.12"
  }
 },
 "nbformat": 4,
 "nbformat_minor": 5
}
