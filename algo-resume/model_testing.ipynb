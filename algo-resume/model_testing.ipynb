{
 "cells": [
  {
   "cell_type": "code",
   "execution_count": null,
   "id": "81f71687",
   "metadata": {},
   "outputs": [],
   "source": [
    "# from api_helper import ShoonyaApiPy\n",
    "import logging\n",
    "import time\n",
    "import pandas as pd\n",
    "import json\n",
    "import numpy as np\n",
    "import matplotlib.pyplot as plt\n",
    "%matplotlib inline\n",
    "plt.style.use('seaborn-darkgrid')"
   ]
  },
  {
   "cell_type": "code",
   "execution_count": null,
   "id": "55f57a82",
   "metadata": {},
   "outputs": [],
   "source": []
  },
  {
   "cell_type": "code",
   "execution_count": null,
   "id": "b7d8d86e",
   "metadata": {},
   "outputs": [],
   "source": []
  },
  {
   "cell_type": "code",
   "execution_count": null,
   "id": "b311f36f",
   "metadata": {},
   "outputs": [],
   "source": []
  },
  {
   "cell_type": "code",
   "execution_count": null,
   "id": "fad01560",
   "metadata": {},
   "outputs": [],
   "source": []
  },
  {
   "cell_type": "code",
   "execution_count": null,
   "id": "c744344f",
   "metadata": {},
   "outputs": [],
   "source": []
  },
  {
   "cell_type": "code",
   "execution_count": null,
   "id": "57b36077",
   "metadata": {},
   "outputs": [],
   "source": []
  },
  {
   "cell_type": "code",
   "execution_count": null,
   "id": "58a053a8",
   "metadata": {},
   "outputs": [],
   "source": []
  },
  {
   "cell_type": "code",
   "execution_count": null,
   "id": "a51ea19e",
   "metadata": {},
   "outputs": [],
   "source": [
    "lst = [2,5,9,8,7,9,2,6,4,]"
   ]
  },
  {
   "cell_type": "code",
   "execution_count": null,
   "id": "fb3d65ca",
   "metadata": {},
   "outputs": [],
   "source": [
    "lst[:-3]"
   ]
  },
  {
   "cell_type": "code",
   "execution_count": null,
   "id": "7029b2af",
   "metadata": {},
   "outputs": [],
   "source": []
  },
  {
   "cell_type": "code",
   "execution_count": null,
   "id": "05747933",
   "metadata": {},
   "outputs": [],
   "source": []
  },
  {
   "cell_type": "code",
   "execution_count": null,
   "id": "b690d8e1",
   "metadata": {},
   "outputs": [],
   "source": []
  },
  {
   "cell_type": "code",
   "execution_count": null,
   "id": "d4019259",
   "metadata": {},
   "outputs": [],
   "source": []
  },
  {
   "cell_type": "code",
   "execution_count": null,
   "id": "dc8d3d01",
   "metadata": {},
   "outputs": [],
   "source": [
    "# l1 = pd.read_csv('ltp1.csv')\n",
    "# l11 = pd.read_csv('ltp11.csv')\n",
    "# ll1 = pd.concat([l1,l11], axis = 0)\n",
    "# ll1.reset_index(inplace=True)\n",
    "# ll1.drop(['index','Unnamed: 0'], axis = 1, inplace = True)\n",
    "# ll1.to_csv('ltp1.csv')\n",
    "\n",
    "# l2 = pd.read_csv('ltp2.csv')\n",
    "# l22 = pd.read_csv('ltp22.csv')\n",
    "# ll2 = pd.concat([l2,l22], axis = 0)\n",
    "# ll2.reset_index(inplace=True)\n",
    "# ll2.drop(['index','Unnamed: 0'], axis = 1, inplace = True)\n",
    "# ll2.to_csv('ltp2.csv')\n",
    "\n",
    "# l3 = pd.read_csv('ltp3.csv')\n",
    "# l33 = pd.read_csv('ltp33.csv')\n",
    "# ll3 = pd.concat([l3,l33], axis = 0)\n",
    "# ll3.reset_index(inplace=True)\n",
    "# ll3.drop(['index','Unnamed: 0'], axis = 1, inplace = True)\n",
    "# ll3.to_csv('ltp3.csv')\n",
    "\n",
    "# l4 = pd.read_csv('ltp4.csv')\n",
    "# l44 = pd.read_csv('ltp44.csv')\n",
    "# ll4 = pd.concat([l4,l44], axis = 0)\n",
    "# ll4.reset_index(inplace=True)\n",
    "# ll4.drop(['index','Unnamed: 0'], axis = 1, inplace = True)\n",
    "# ll4.to_csv('ltp4.csv')\n",
    "\n",
    "# l4= pd.read_csv('ltp4.csv')\n",
    "# l44 = pd.read_csv('ltp44.csv')\n",
    "# ll4 = pd.concat([l4,l4], axis = 0)\n",
    "# ll4.reset_index(inplace=True)\n",
    "# ll4.drop(['index','Unnamed: 0'], axis = 1, inplace = True)\n",
    "# ll4.to_csv('ltp4.csv')\n",
    "\n",
    "# l5= pd.read_csv('ltp5.csv')\n",
    "# l55 = pd.read_csv('ltp55.csv')\n",
    "# ll5 = pd.concat([l5,l55], axis = 0)\n",
    "# ll5.reset_index(inplace=True)\n",
    "# ll5.drop(['index','Unnamed: 0'], axis = 1, inplace = True)\n",
    "# ll5.to_csv('ltp5.csv')\n",
    "\n",
    "# l6= pd.read_csv('ltp6.csv')\n",
    "# l66 = pd.read_csv('ltp66.csv')\n",
    "# ll6 = pd.concat([l6,l6], axis = 0)\n",
    "# ll6.reset_index(inplace=True)\n",
    "# ll6.drop(['index','Unnamed: 0'], axis = 1, inplace = True)\n",
    "# ll6.to_csv('ltp6.csv')\n",
    "\n",
    "\n",
    "# l7= pd.read_csv('ltp7.csv')\n",
    "# l77 = pd.read_csv('ltp77.csv')\n",
    "# ll7 = pd.concat([l7,l77], axis = 0)\n",
    "# ll7.reset_index(inplace=True)\n",
    "# ll7.drop(['index','Unnamed: 0'], axis = 1, inplace = True)\n",
    "# ll7.to_csv('ltp7.csv')\n",
    "\n",
    "# l8= pd.read_csv('ltp8.csv')\n",
    "# l88 = pd.read_csv('ltp88.csv')\n",
    "# ll8 = pd.concat([l8,l88], axis = 0)\n",
    "# ll8.reset_index(inplace=True)\n",
    "# ll8.drop(['index','Unnamed: 0'], axis = 1, inplace = True)\n",
    "# ll8.to_csv('ltp8.csv')\n",
    "\n",
    "# l9= pd.read_csv('ltp9.csv')\n",
    "# l99 = pd.read_csv('ltp99.csv')\n",
    "# ll9 = pd.concat([l9,l99], axis = 0)\n",
    "# ll9.reset_index(inplace=True)\n",
    "# ll9.drop(['index','Unnamed: 0'], axis = 1, inplace = True)\n",
    "# ll9.to_csv('ltp9.csv')\n",
    "\n",
    "# l10= pd.read_csv('ltp10.csv')\n",
    "# l1010 = pd.read_csv('ltp1010.csv')\n",
    "# ll10 = pd.concat([l10,l1010], axis = 0)\n",
    "# ll10.reset_index(inplace=True)\n",
    "# ll10.drop(['index','Unnamed: 0'], axis = 1, inplace = True)\n",
    "# ll10.to_csv('ltp10.csv')"
   ]
  },
  {
   "cell_type": "code",
   "execution_count": null,
   "id": "794b6824",
   "metadata": {},
   "outputs": [],
   "source": []
  },
  {
   "cell_type": "code",
   "execution_count": null,
   "id": "22de7d30",
   "metadata": {},
   "outputs": [],
   "source": [
    "ltp1 = pd.read_csv('ltp1.csv')\n",
    "ltp1.drop('Unnamed: 0', axis = 1,inplace=True)\n",
    "ltp1.reset_index(inplace = True)\n",
    "ltp1.drop(['index'], inplace = True, axis = 1)\n",
    "\n",
    "\n",
    "ltp1_1 = pd.DataFrame(ltp1['ltp_now'])\n",
    "ltp1_1.drop([0,1,2], axis = 0, inplace=True)\n",
    "ltp1_1.reset_index(inplace = True)\n",
    "ltp1_1.rename(columns={'ltp_now':'ltp--1'}, inplace=True)\n",
    "ltp1_1.drop(['index'], axis = 1,inplace=True)\n",
    "\n",
    "ltp1_2 = pd.DataFrame(ltp1['ltp_now'])\n",
    "ltp1_2.drop([0,1], axis = 0, inplace=True)\n",
    "ltp1_2.reset_index(inplace = True)\n",
    "ltp1_2.rename(columns={'ltp_now':'ltp--2'}, inplace=True)\n",
    "ltp1_2.drop(['index'], axis = 1,inplace=True)\n",
    "\n",
    "ltp1_3 = pd.DataFrame(ltp1['ltp_now'])\n",
    "ltp1_3.drop([0], axis = 0, inplace=True)\n",
    "ltp1_3.reset_index(inplace = True)\n",
    "ltp1_3.rename(columns={'ltp_now':'ltp--3'}, inplace=True)\n",
    "ltp1_3.drop(['index'], axis = 1,inplace=True)\n",
    "\n",
    "ltp1_4 = pd.DataFrame(ltp1['ltp_now'])\n",
    "ltp1_4.reset_index(inplace = True)\n",
    "ltp1_4.rename(columns={'ltp_now':'ltp--4'}, inplace=True)\n",
    "ltp1_4.drop(['index'], axis = 1,inplace=True)\n",
    "\n",
    "ltp_pre = pd.DataFrame(ltp1['bp'])\n",
    "ltp_pre.drop([0,1,2,3,4], axis = 0, inplace=True)\n",
    "ltp_pre.reset_index(inplace = True)\n",
    "ltp_pre.rename(columns={'bp':'prediction'}, inplace=True)\n",
    "ltp_pre.drop(['index'], axis = 1,inplace=True)\n",
    "\n",
    "ltp1.drop([0,1,2,3], axis = 0, inplace=True)\n",
    "ltp1.reset_index(inplace = True)\n",
    "ltp1.drop(['index'], axis = 1,inplace=True)\n",
    "\n",
    "\n",
    "df1 = pd.concat([ltp1_4,ltp1_3,ltp1_2,ltp1_1, ltp1,ltp_pre ], axis = 1)\n",
    "df1.dropna(inplace=True)\n"
   ]
  },
  {
   "cell_type": "code",
   "execution_count": null,
   "id": "e9529074",
   "metadata": {},
   "outputs": [],
   "source": [
    "df1"
   ]
  },
  {
   "cell_type": "code",
   "execution_count": null,
   "id": "d98c4e61",
   "metadata": {},
   "outputs": [],
   "source": [
    "ltp2 = pd.read_csv('ltp2.csv')\n",
    "ltp2.drop('Unnamed: 0', axis = 1,inplace=True)\n",
    "ltp2.reset_index(inplace = True)\n",
    "ltp2.drop(['index'], inplace = True, axis = 1)\n",
    "\n",
    "\n",
    "ltp2_1 = pd.DataFrame(ltp2['ltp_now'])\n",
    "ltp2_1.drop([0,1,2], axis = 0, inplace=True)\n",
    "ltp2_1.reset_index(inplace = True)\n",
    "ltp2_1.rename(columns={'ltp_now':'ltp--1'}, inplace=True)\n",
    "ltp2_1.drop(['index'], axis = 1,inplace=True)\n",
    "\n",
    "ltp2_2 = pd.DataFrame(ltp2['ltp_now'])\n",
    "ltp2_2.drop([0,1], axis = 0, inplace=True)\n",
    "ltp2_2.reset_index(inplace = True)\n",
    "ltp2_2.rename(columns={'ltp_now':'ltp--2'}, inplace=True)\n",
    "ltp2_2.drop(['index'], axis = 1,inplace=True)\n",
    "\n",
    "ltp2_3 = pd.DataFrame(ltp2['ltp_now'])\n",
    "ltp2_3.drop([0], axis = 0, inplace=True)\n",
    "ltp2_3.reset_index(inplace = True)\n",
    "ltp2_3.rename(columns={'ltp_now':'ltp--3'}, inplace=True)\n",
    "ltp2_3.drop(['index'], axis = 1,inplace=True)\n",
    "\n",
    "ltp2_4 = pd.DataFrame(ltp2['ltp_now'])\n",
    "ltp2_4.reset_index(inplace = True)\n",
    "ltp2_4.rename(columns={'ltp_now':'ltp--4'}, inplace=True)\n",
    "ltp2_4.drop(['index'], axis = 1,inplace=True)\n",
    "\n",
    "ltp_pre = pd.DataFrame(ltp2['bp'])\n",
    "ltp_pre.drop([0,1,2,3,4], axis = 0, inplace=True)\n",
    "ltp_pre.reset_index(inplace = True)\n",
    "ltp_pre.rename(columns={'bp':'prediction'}, inplace=True)\n",
    "ltp_pre.drop(['index'], axis = 1,inplace=True)\n",
    "\n",
    "ltp2.drop([0,1,2,3], axis = 0, inplace=True)\n",
    "ltp2.reset_index(inplace = True)\n",
    "ltp2.drop(['index'], axis = 1,inplace=True)\n",
    "\n",
    "df2 = pd.concat([ltp2_4,ltp2_3,ltp2_2,ltp2_1, ltp2,ltp_pre], axis = 1)\n",
    "df2.dropna(inplace=True)\n"
   ]
  },
  {
   "cell_type": "code",
   "execution_count": null,
   "id": "1be9aed2",
   "metadata": {},
   "outputs": [],
   "source": [
    "ltp3 = pd.read_csv('ltp3.csv')\n",
    "ltp3.drop('Unnamed: 0', axis = 1,inplace=True)\n",
    "ltp3.reset_index(inplace = True)\n",
    "ltp3.drop(['index'], inplace = True, axis = 1)\n",
    "\n",
    "\n",
    "ltp3_1 = pd.DataFrame(ltp3['ltp_now'])\n",
    "ltp3_1.drop([0,1,2], axis = 0, inplace=True)\n",
    "ltp3_1.reset_index(inplace = True)\n",
    "ltp3_1.rename(columns={'ltp_now':'ltp--1'}, inplace=True)\n",
    "ltp3_1.drop(['index'], axis = 1,inplace=True)\n",
    "\n",
    "ltp3_2 = pd.DataFrame(ltp3['ltp_now'])\n",
    "ltp3_2.drop([0,1], axis = 0, inplace=True)\n",
    "ltp3_2.reset_index(inplace = True)\n",
    "ltp3_2.rename(columns={'ltp_now':'ltp--2'}, inplace=True)\n",
    "ltp3_2.drop(['index'], axis = 1,inplace=True)\n",
    "\n",
    "ltp3_3 = pd.DataFrame(ltp3['ltp_now'])\n",
    "ltp3_3.drop([0], axis = 0, inplace=True)\n",
    "ltp3_3.reset_index(inplace = True)\n",
    "ltp3_3.rename(columns={'ltp_now':'ltp--3'}, inplace=True)\n",
    "ltp3_3.drop(['index'], axis = 1,inplace=True)\n",
    "\n",
    "ltp3_4 = pd.DataFrame(ltp3['ltp_now'])\n",
    "ltp3_4.reset_index(inplace = True)\n",
    "ltp3_4.rename(columns={'ltp_now':'ltp--4'}, inplace=True)\n",
    "ltp3_4.drop(['index'], axis = 1,inplace=True)\n",
    "\n",
    "ltp_pre = pd.DataFrame(ltp3['bp'])\n",
    "ltp_pre.drop([0,1,2,3,4], axis = 0, inplace=True)\n",
    "ltp_pre.reset_index(inplace = True)\n",
    "ltp_pre.rename(columns={'bp':'prediction'}, inplace=True)\n",
    "ltp_pre.drop(['index'], axis = 1,inplace=True)\n",
    "\n",
    "ltp3.drop([0,1,2,3], axis = 0, inplace=True)\n",
    "ltp3.reset_index(inplace = True)\n",
    "ltp3.drop(['index'], axis = 1,inplace=True)\n",
    "\n",
    "df3 = pd.concat([ltp3_4,ltp3_3,ltp3_2,ltp3_1, ltp3,ltp_pre], axis = 1)\n",
    "df3.dropna(inplace=True)\n"
   ]
  },
  {
   "cell_type": "code",
   "execution_count": null,
   "id": "9a8c1406",
   "metadata": {},
   "outputs": [],
   "source": [
    "ltp4 = pd.read_csv('ltp4.csv')\n",
    "ltp4.drop('Unnamed: 0', axis = 1,inplace=True)\n",
    "ltp4.reset_index(inplace = True)\n",
    "ltp4.drop(['index'], inplace = True, axis = 1)\n",
    "\n",
    "\n",
    "ltp4_1 = pd.DataFrame(ltp4['ltp_now'])\n",
    "ltp4_1.drop([0,1,2], axis = 0, inplace=True)\n",
    "ltp4_1.reset_index(inplace = True)\n",
    "ltp4_1.rename(columns={'ltp_now':'ltp--1'}, inplace=True)\n",
    "ltp4_1.drop(['index'], axis = 1,inplace=True)\n",
    "\n",
    "ltp4_2 = pd.DataFrame(ltp4['ltp_now'])\n",
    "ltp4_2.drop([0,1], axis = 0, inplace=True)\n",
    "ltp4_2.reset_index(inplace = True)\n",
    "ltp4_2.rename(columns={'ltp_now':'ltp--2'}, inplace=True)\n",
    "ltp4_2.drop(['index'], axis = 1,inplace=True)\n",
    "\n",
    "ltp4_3 = pd.DataFrame(ltp4['ltp_now'])\n",
    "ltp4_3.drop([0], axis = 0, inplace=True)\n",
    "ltp4_3.reset_index(inplace = True)\n",
    "ltp4_3.rename(columns={'ltp_now':'ltp--3'}, inplace=True)\n",
    "ltp4_3.drop(['index'], axis = 1,inplace=True)\n",
    "\n",
    "ltp4_4 = pd.DataFrame(ltp4['ltp_now'])\n",
    "ltp4_4.reset_index(inplace = True)\n",
    "ltp4_4.rename(columns={'ltp_now':'ltp--4'}, inplace=True)\n",
    "ltp4_4.drop(['index'], axis = 1,inplace=True)\n",
    "\n",
    "ltp_pre = pd.DataFrame(ltp4['bp'])\n",
    "ltp_pre.drop([0,1,2,3,4], axis = 0, inplace=True)\n",
    "ltp_pre.reset_index(inplace = True)\n",
    "ltp_pre.rename(columns={'bp':'prediction'}, inplace=True)\n",
    "ltp_pre.drop(['index'], axis = 1,inplace=True)\n",
    "\n",
    "ltp4.drop([0,1,2,3], axis = 0, inplace=True)\n",
    "ltp4.reset_index(inplace = True)\n",
    "ltp4.drop(['index'], axis = 1,inplace=True)\n",
    "\n",
    "df4 = pd.concat([ltp4_4,ltp4_3,ltp4_2,ltp4_1, ltp4, ltp_pre], axis = 1)\n",
    "df4.dropna(inplace=True)\n"
   ]
  },
  {
   "cell_type": "code",
   "execution_count": null,
   "id": "b70f124e",
   "metadata": {},
   "outputs": [],
   "source": [
    "ltp5 = pd.read_csv('ltp5.csv')\n",
    "ltp5.drop('Unnamed: 0', axis = 1,inplace=True)\n",
    "ltp5.reset_index(inplace = True)\n",
    "ltp5.drop(['index'], inplace = True, axis = 1)\n",
    "\n",
    "\n",
    "ltp5_1 = pd.DataFrame(ltp5['ltp_now'])\n",
    "ltp5_1.drop([0,1,2], axis = 0, inplace=True)\n",
    "ltp5_1.reset_index(inplace = True)\n",
    "ltp5_1.rename(columns={'ltp_now':'ltp--1'}, inplace=True)\n",
    "ltp5_1.drop(['index'], axis = 1,inplace=True)\n",
    "\n",
    "ltp5_2 = pd.DataFrame(ltp5['ltp_now'])\n",
    "ltp5_2.drop([0,1], axis = 0, inplace=True)\n",
    "ltp5_2.reset_index(inplace = True)\n",
    "ltp5_2.rename(columns={'ltp_now':'ltp--2'}, inplace=True)\n",
    "ltp5_2.drop(['index'], axis = 1,inplace=True)\n",
    "\n",
    "ltp5_3 = pd.DataFrame(ltp5['ltp_now'])\n",
    "ltp5_3.drop([0], axis = 0, inplace=True)\n",
    "ltp5_3.reset_index(inplace = True)\n",
    "ltp5_3.rename(columns={'ltp_now':'ltp--3'}, inplace=True)\n",
    "ltp5_3.drop(['index'], axis = 1,inplace=True)\n",
    "\n",
    "ltp5_4 = pd.DataFrame(ltp5['ltp_now'])\n",
    "ltp5_4.reset_index(inplace = True)\n",
    "ltp5_4.rename(columns={'ltp_now':'ltp--4'}, inplace=True)\n",
    "ltp5_4.drop(['index'], axis = 1,inplace=True)\n",
    "\n",
    "ltp_pre = pd.DataFrame(ltp5['bp'])\n",
    "ltp_pre.drop([0,1,2,3,4], axis = 0, inplace=True)\n",
    "ltp_pre.reset_index(inplace = True)\n",
    "ltp_pre.rename(columns={'bp':'prediction'}, inplace=True)\n",
    "ltp_pre.drop(['index'], axis = 1,inplace=True)\n",
    "\n",
    "ltp5.drop([0,1,2,3], axis = 0, inplace=True)\n",
    "ltp5.reset_index(inplace = True)\n",
    "ltp5.drop(['index'], axis = 1,inplace=True)\n",
    "\n",
    "df5 = pd.concat([ltp5_4,ltp5_3,ltp5_2,ltp5_1, ltp5, ltp_pre], axis = 1)\n",
    "df5.dropna(inplace=True)\n"
   ]
  },
  {
   "cell_type": "code",
   "execution_count": null,
   "id": "0923e58f",
   "metadata": {},
   "outputs": [],
   "source": [
    "ltp6 = pd.read_csv('ltp6.csv')\n",
    "ltp6.drop('Unnamed: 0', axis = 1,inplace=True)\n",
    "ltp6.reset_index(inplace = True)\n",
    "ltp6.drop(['index'], inplace = True, axis = 1)\n",
    "\n",
    "\n",
    "ltp6_1 = pd.DataFrame(ltp6['ltp_now'])\n",
    "ltp6_1.drop([0,1,2], axis = 0, inplace=True)\n",
    "ltp6_1.reset_index(inplace = True)\n",
    "ltp6_1.rename(columns={'ltp_now':'ltp--1'}, inplace=True)\n",
    "ltp6_1.drop(['index'], axis = 1,inplace=True)\n",
    "\n",
    "ltp6_2 = pd.DataFrame(ltp6['ltp_now'])\n",
    "ltp6_2.drop([0,1], axis = 0, inplace=True)\n",
    "ltp6_2.reset_index(inplace = True)\n",
    "ltp6_2.rename(columns={'ltp_now':'ltp--2'}, inplace=True)\n",
    "ltp6_2.drop(['index'], axis = 1,inplace=True)\n",
    "\n",
    "ltp6_3 = pd.DataFrame(ltp6['ltp_now'])\n",
    "ltp6_3.drop([0], axis = 0, inplace=True)\n",
    "ltp6_3.reset_index(inplace = True)\n",
    "ltp6_3.rename(columns={'ltp_now':'ltp--3'}, inplace=True)\n",
    "ltp6_3.drop(['index'], axis = 1,inplace=True)\n",
    "\n",
    "ltp6_4 = pd.DataFrame(ltp6['ltp_now'])\n",
    "ltp6_4.reset_index(inplace = True)\n",
    "ltp6_4.rename(columns={'ltp_now':'ltp--4'}, inplace=True)\n",
    "ltp6_4.drop(['index'], axis = 1,inplace=True)\n",
    "\n",
    "\n",
    "ltp_pre = pd.DataFrame(ltp6['bp'])\n",
    "ltp_pre.drop([0,1,2,3,4], axis = 0, inplace=True)\n",
    "ltp_pre.reset_index(inplace = True)\n",
    "ltp_pre.rename(columns={'bp':'prediction'}, inplace=True)\n",
    "ltp_pre.drop(['index'], axis = 1,inplace=True)\n",
    "\n",
    "ltp6.drop([0,1,2,3], axis = 0, inplace=True)\n",
    "ltp6.reset_index(inplace = True)\n",
    "ltp6.drop(['index'], axis = 1,inplace=True)\n",
    "\n",
    "\n",
    "df6 = pd.concat([ltp6_4,ltp6_3,ltp6_2,ltp6_1, ltp6, ltp_pre], axis = 1)\n",
    "df6.dropna(inplace=True)\n"
   ]
  },
  {
   "cell_type": "code",
   "execution_count": null,
   "id": "e4affc3f",
   "metadata": {},
   "outputs": [],
   "source": [
    "ltp7 = pd.read_csv('ltp7.csv')\n",
    "ltp7.drop('Unnamed: 0', axis = 1,inplace=True)\n",
    "ltp7.reset_index(inplace = True)\n",
    "ltp7.drop(['index'], inplace = True, axis = 1)\n",
    "\n",
    "\n",
    "ltp7_1 = pd.DataFrame(ltp7['ltp_now'])\n",
    "ltp7_1.drop([0,1,2], axis = 0, inplace=True)\n",
    "ltp7_1.reset_index(inplace = True)\n",
    "ltp7_1.rename(columns={'ltp_now':'ltp--1'}, inplace=True)\n",
    "ltp7_1.drop(['index'], axis = 1,inplace=True)\n",
    "\n",
    "ltp7_2 = pd.DataFrame(ltp7['ltp_now'])\n",
    "ltp7_2.drop([0,1], axis = 0, inplace=True)\n",
    "ltp7_2.reset_index(inplace = True)\n",
    "ltp7_2.rename(columns={'ltp_now':'ltp--2'}, inplace=True)\n",
    "ltp7_2.drop(['index'], axis = 1,inplace=True)\n",
    "\n",
    "ltp7_3 = pd.DataFrame(ltp7['ltp_now'])\n",
    "ltp7_3.drop([0], axis = 0, inplace=True)\n",
    "ltp7_3.reset_index(inplace = True)\n",
    "ltp7_3.rename(columns={'ltp_now':'ltp--3'}, inplace=True)\n",
    "ltp7_3.drop(['index'], axis = 1,inplace=True)\n",
    "\n",
    "ltp7_4 = pd.DataFrame(ltp7['ltp_now'])\n",
    "ltp7_4.reset_index(inplace = True)\n",
    "ltp7_4.rename(columns={'ltp_now':'ltp--4'}, inplace=True)\n",
    "ltp7_4.drop(['index'], axis = 1,inplace=True)\n",
    "\n",
    "ltp_pre = pd.DataFrame(ltp7['bp'])\n",
    "ltp_pre.drop([0,1,2,3,4], axis = 0, inplace=True)\n",
    "ltp_pre.reset_index(inplace = True)\n",
    "ltp_pre.rename(columns={'bp':'prediction'}, inplace=True)\n",
    "ltp_pre.drop(['index'], axis = 1,inplace=True)\n",
    "\n",
    "ltp7.drop([0,1,2,3], axis = 0, inplace=True)\n",
    "ltp7.reset_index(inplace = True)\n",
    "ltp7.drop(['index'], axis = 1,inplace=True)\n",
    "\n",
    "df7 = pd.concat([ltp7_4,ltp7_3,ltp7_2,ltp7_1, ltp7, ltp_pre], axis = 1)\n",
    "df7.dropna(inplace=True)\n"
   ]
  },
  {
   "cell_type": "code",
   "execution_count": null,
   "id": "0e110273",
   "metadata": {},
   "outputs": [],
   "source": [
    "ltp8 = pd.read_csv('ltp8.csv')\n",
    "ltp8.drop('Unnamed: 0', axis = 1,inplace=True)\n",
    "ltp8.reset_index(inplace = True)\n",
    "ltp8.drop(['index'], inplace = True, axis = 1)\n",
    "\n",
    "\n",
    "ltp8_1 = pd.DataFrame(ltp8['ltp_now'])\n",
    "ltp8_1.drop([0,1,2], axis = 0, inplace=True)\n",
    "ltp8_1.reset_index(inplace = True)\n",
    "ltp8_1.rename(columns={'ltp_now':'ltp--1'}, inplace=True)\n",
    "ltp8_1.drop(['index'], axis = 1,inplace=True)\n",
    "\n",
    "ltp8_2 = pd.DataFrame(ltp8['ltp_now'])\n",
    "ltp8_2.drop([0,1], axis = 0, inplace=True)\n",
    "ltp8_2.reset_index(inplace = True)\n",
    "ltp8_2.rename(columns={'ltp_now':'ltp--2'}, inplace=True)\n",
    "ltp8_2.drop(['index'], axis = 1,inplace=True)\n",
    "\n",
    "ltp8_3 = pd.DataFrame(ltp8['ltp_now'])\n",
    "ltp8_3.drop([0], axis = 0, inplace=True)\n",
    "ltp8_3.reset_index(inplace = True)\n",
    "ltp8_3.rename(columns={'ltp_now':'ltp--3'}, inplace=True)\n",
    "ltp8_3.drop(['index'], axis = 1,inplace=True)\n",
    "\n",
    "ltp8_4 = pd.DataFrame(ltp8['ltp_now'])\n",
    "ltp8_4.reset_index(inplace = True)\n",
    "ltp8_4.rename(columns={'ltp_now':'ltp--4'}, inplace=True)\n",
    "ltp8_4.drop(['index'], axis = 1,inplace=True)\n",
    "\n",
    "ltp_pre = pd.DataFrame(ltp8['bp'])\n",
    "ltp_pre.drop([0,1,2,3,4], axis = 0, inplace=True)\n",
    "ltp_pre.reset_index(inplace = True)\n",
    "ltp_pre.rename(columns={'bp':'prediction'}, inplace=True)\n",
    "ltp_pre.drop(['index'], axis = 1,inplace=True)\n",
    "\n",
    "ltp8.drop([0,1,2,3], axis = 0, inplace=True)\n",
    "ltp8.reset_index(inplace = True)\n",
    "ltp8.drop(['index'], axis = 1,inplace=True)\n",
    "\n",
    "df8= pd.concat([ltp8_4,ltp8_3,ltp8_2,ltp8_1, ltp8, ltp_pre], axis = 1)\n",
    "df8.dropna(inplace=True)\n"
   ]
  },
  {
   "cell_type": "code",
   "execution_count": null,
   "id": "4fa39509",
   "metadata": {},
   "outputs": [],
   "source": [
    "ltp9 = pd.read_csv('ltp9.csv')\n",
    "ltp9.drop('Unnamed: 0', axis = 1,inplace=True)\n",
    "ltp9.reset_index(inplace = True)\n",
    "ltp9.drop(['index'], inplace = True, axis = 1)\n",
    "\n",
    "\n",
    "ltp9_1 = pd.DataFrame(ltp9['ltp_now'])\n",
    "ltp9_1.drop([0,1,2], axis = 0, inplace=True)\n",
    "ltp9_1.reset_index(inplace = True)\n",
    "ltp9_1.rename(columns={'ltp_now':'ltp--1'}, inplace=True)\n",
    "ltp9_1.drop(['index'], axis = 1,inplace=True)\n",
    "\n",
    "ltp9_2 = pd.DataFrame(ltp9['ltp_now'])\n",
    "ltp9_2.drop([0,1], axis = 0, inplace=True)\n",
    "ltp9_2.reset_index(inplace = True)\n",
    "ltp9_2.rename(columns={'ltp_now':'ltp--2'}, inplace=True)\n",
    "ltp9_2.drop(['index'], axis = 1,inplace=True)\n",
    "\n",
    "ltp9_3 = pd.DataFrame(ltp9['ltp_now'])\n",
    "ltp9_3.drop([0], axis = 0, inplace=True)\n",
    "ltp9_3.reset_index(inplace = True)\n",
    "ltp9_3.rename(columns={'ltp_now':'ltp--3'}, inplace=True)\n",
    "ltp9_3.drop(['index'], axis = 1,inplace=True)\n",
    "\n",
    "ltp9_4 = pd.DataFrame(ltp9['ltp_now'])\n",
    "ltp9_4.reset_index(inplace = True)\n",
    "ltp9_4.rename(columns={'ltp_now':'ltp--4'}, inplace=True)\n",
    "ltp9_4.drop(['index'], axis = 1,inplace=True)\n",
    "\n",
    "ltp_pre = pd.DataFrame(ltp9['bp'])\n",
    "ltp_pre.drop([0,1,2,3,4], axis = 0, inplace=True)\n",
    "ltp_pre.reset_index(inplace = True)\n",
    "ltp_pre.rename(columns={'bp':'prediction'}, inplace=True)\n",
    "ltp_pre.drop(['index'], axis = 1,inplace=True)\n",
    "\n",
    "ltp9.drop([0,1,2,3], axis = 0, inplace=True)\n",
    "ltp9.reset_index(inplace = True)\n",
    "ltp9.drop(['index'], axis = 1,inplace=True)\n",
    "\n",
    "df9= pd.concat([ltp9_4,ltp9_3,ltp9_2,ltp9_1, ltp9, ltp_pre], axis = 1)\n",
    "df9.dropna(inplace=True)\n"
   ]
  },
  {
   "cell_type": "code",
   "execution_count": null,
   "id": "67686ee0",
   "metadata": {},
   "outputs": [],
   "source": [
    "ltp10 = pd.read_csv('ltp10.csv')\n",
    "ltp10.drop('Unnamed: 0', axis = 1,inplace=True)\n",
    "ltp10.reset_index(inplace = True)\n",
    "ltp10.drop(['index'], inplace = True, axis = 1)\n",
    "\n",
    "\n",
    "ltp10_1 = pd.DataFrame(ltp10['ltp_now'])\n",
    "ltp10_1.drop([0,1,2], axis = 0, inplace=True)\n",
    "ltp10_1.reset_index(inplace = True)\n",
    "ltp10_1.rename(columns={'ltp_now':'ltp--1'}, inplace=True)\n",
    "ltp10_1.drop(['index'], axis = 1,inplace=True)\n",
    "\n",
    "ltp10_2 = pd.DataFrame(ltp10['ltp_now'])\n",
    "ltp10_2.drop([0,1], axis = 0, inplace=True)\n",
    "ltp10_2.reset_index(inplace = True)\n",
    "ltp10_2.rename(columns={'ltp_now':'ltp--2'}, inplace=True)\n",
    "ltp10_2.drop(['index'], axis = 1,inplace=True)\n",
    "\n",
    "ltp10_3 = pd.DataFrame(ltp10['ltp_now'])\n",
    "ltp10_3.drop([0], axis = 0, inplace=True)\n",
    "ltp10_3.reset_index(inplace = True)\n",
    "ltp10_3.rename(columns={'ltp_now':'ltp--3'}, inplace=True)\n",
    "ltp10_3.drop(['index'], axis = 1,inplace=True)\n",
    "\n",
    "ltp10_4 = pd.DataFrame(ltp10['ltp_now'])\n",
    "ltp10_4.reset_index(inplace = True)\n",
    "ltp10_4.rename(columns={'ltp_now':'ltp--4'}, inplace=True)\n",
    "ltp10_4.drop(['index'], axis = 1,inplace=True)\n",
    "\n",
    "ltp_pre = pd.DataFrame(ltp10['bp'])\n",
    "ltp_pre.drop([0,1,2,3,4], axis = 0, inplace=True)\n",
    "ltp_pre.reset_index(inplace = True)\n",
    "ltp_pre.rename(columns={'bp':'prediction'}, inplace=True)\n",
    "ltp_pre.drop(['index'], axis = 1,inplace=True)\n",
    "\n",
    "ltp10.drop([0,1,2,3], axis = 0, inplace=True)\n",
    "ltp10.reset_index(inplace = True)\n",
    "ltp10.drop(['index'], axis = 1,inplace=True)\n",
    "\n",
    "df10 = pd.concat([ltp10_4,ltp10_3,ltp10_2,ltp10_1, ltp10, ltp_pre], axis = 1)\n",
    "df10.dropna(inplace=True)\n"
   ]
  },
  {
   "cell_type": "code",
   "execution_count": null,
   "id": "e8844fe2",
   "metadata": {},
   "outputs": [],
   "source": [
    "df1.to_csv('thu_evening_111.csv', index=False)\n",
    "df2.to_csv('thu_evening_222.csv', index=False)\n",
    "df3.to_csv('thu_evening_333.csv', index=False)\n",
    "df4.to_csv('thu_evening_444.csv', index=False)\n",
    "df5.to_csv('thu_evening_555.csv', index=False)\n",
    "df6.to_csv('thu_evening_666.csv', index=False)\n",
    "df7.to_csv('thu_evening_777.csv', index=False)\n",
    "df8.to_csv('thu_evening_888.csv', index=False)\n",
    "df9.to_csv('thu_evening_999.csv', index=False)\n",
    "df10.to_csv('thu_evening_101010.csv', index=False)\n"
   ]
  },
  {
   "cell_type": "code",
   "execution_count": null,
   "id": "9e88f09d",
   "metadata": {},
   "outputs": [],
   "source": [
    "df1"
   ]
  },
  {
   "cell_type": "code",
   "execution_count": null,
   "id": "2a51765d",
   "metadata": {},
   "outputs": [],
   "source": [
    "df1.to_csv('thu_morning_1111.csv', index=False)\n",
    "df2.to_csv('thu_morning_2222.csv', index=False)\n",
    "df3.to_csv('thu_morning_3333.csv', index=False)\n",
    "df4.to_csv('thu_morning_4444.csv', index=False)\n",
    "df5.to_csv('thu_morning_5555.csv', index=False)\n",
    "df6.to_csv('thu_morning_6666.csv', index=False)\n",
    "df7.to_csv('thu_morning_7777.csv', index=False)\n",
    "df8.to_csv('thu_morning_8888.csv', index=False)\n",
    "df9.to_csv('thu_morning_9999.csv', index=False)\n",
    "df10.to_csv('thu_morning_10101010.csv', index=False)\n"
   ]
  },
  {
   "cell_type": "code",
   "execution_count": null,
   "id": "dbaf174e",
   "metadata": {},
   "outputs": [],
   "source": [
    "dff = [df1,df2,df3,df4,df5,df6,df7,df8,df9,df10]"
   ]
  },
  {
   "cell_type": "code",
   "execution_count": null,
   "id": "4e647198",
   "metadata": {},
   "outputs": [],
   "source": [
    "# df1= pd.read_csv('fri_morning_1.csv')"
   ]
  },
  {
   "cell_type": "code",
   "execution_count": null,
   "id": "febc3ad4",
   "metadata": {},
   "outputs": [],
   "source": [
    "dff"
   ]
  },
  {
   "cell_type": "code",
   "execution_count": null,
   "id": "c8d02bf9",
   "metadata": {},
   "outputs": [],
   "source": [
    "data = pd.DataFrame(columns = ['price range','net sum(sell at next ltp)','profit in selling at next high +ve ltp','no of sl hits(-ve price gone)','loss by sl at 0.1','net profit by sl strategy','no of time +ve movement','no of time -ve movement','diff of +ve and -ve','total trades'])"
   ]
  },
  {
   "cell_type": "code",
   "execution_count": null,
   "id": "babbfceb",
   "metadata": {},
   "outputs": [],
   "source": [
    "from sklearn.model_selection import train_test_split\n",
    "from sklearn import ensemble\n",
    "for d in dff:\n",
    "    X= d.drop(['prediction','bp'],axis=1)\n",
    "    Y=d['prediction']\n",
    "    from sklearn.model_selection import train_test_split\n",
    "    x_train, x_test,y_train,y_test=train_test_split(X,Y, test_size=0.3,random_state=450, shuffle=True)\n",
    "#     from sklearn import ensemble\n",
    "#     lm = ensemble.GradientBoostingRegressor()\n",
    "#     lm.fit(x_test,y_test)\n",
    "    from sklearn.linear_model import LinearRegression\n",
    "    lm = LinearRegression()\n",
    "    lm.fit(X,Y)\n",
    "    predictions = lm.predict(x_test)\n",
    "    df = pd.DataFrame()\n",
    "    df['Actuals'] = y_test\n",
    "    df['Pred'] = predictions\n",
    "    df['MAPE'] = abs((df.Pred - df.Actuals) / df.Actuals) * 100\n",
    "    df['Accuracy'] = 100 - df.MAPE\n",
    "    df.Accuracy.mean()\n",
    "    ay = pd.concat([x_test,y_test,df['Pred']], axis = 1)\n",
    "    ay = ay.astype(float)\n",
    "    ay['net'] = ay['prediction'] - ay['sp']\n",
    "    \n",
    "    #on which conditiob we have to enter in trade\n",
    "    dfdf =pd.DataFrame( ay[(ay['Pred'] > ay['sp']+0.21)])\n",
    "    print(dfdf.net.count())\n",
    "    hee = pd.DataFrame(dfdf[dfdf['net']>0.2])\n",
    "    q =hee.net.sum()\n",
    "    hi = pd.DataFrame(dfdf[dfdf['net']<=0.2])\n",
    "    p=hi['net'].count()*0.2\n",
    "    dfdf['up_down'] = dfdf['net']>0\n",
    "    dfdf = pd.get_dummies(dfdf, columns = ['up_down'])\n",
    "#     dfdf['up_down_True'].sum()\n",
    "#     dfdf['up_down_False'].sum()\n",
    "#     dfdf['up_down_True'].sum() - dfdf['up_down_False'].sum()\n",
    "    \n",
    "    try:\n",
    "        baba= dfdf['up_down_False']\n",
    "    except:\n",
    "        dfdf['up_down_False'] = 0\n",
    "        \n",
    "    try:\n",
    "        babaaa= dfdf['up_down_True']\n",
    "    except:\n",
    "        dfdf['up_down_True'] = 0\n",
    "    \n",
    "    \n",
    "    dat = pd.DataFrame([[str(ay['sp'].min())+'-'+str(ay['sp'].max()),dfdf.net.sum(),q,hi.net.count(),p,q-p,dfdf['up_down_True'].sum(),dfdf['up_down_False'].sum(),dfdf['up_down_True'].sum() - dfdf['up_down_False'].sum(),dfdf['up_down_True'].sum() + dfdf['up_down_False'].sum()]],columns = ['price range','net sum(sell at next ltp)','profit in selling at next high +ve ltp','no of sl hits(-ve price gone)','loss by sl at 0.1','net profit by sl strategy','no of time +ve movement','no of time -ve movement','diff of +ve and -ve','total trades'])\n",
    "    data = pd.concat([data,dat],axis = 0)"
   ]
  },
  {
   "cell_type": "code",
   "execution_count": null,
   "id": "24498f76",
   "metadata": {},
   "outputs": [],
   "source": [
    "data.set_index([[i+1 for i in range(10)]],inplace=True)\n",
    "data.to_csv('daily_report.csv')"
   ]
  },
  {
   "cell_type": "code",
   "execution_count": null,
   "id": "43c14150",
   "metadata": {},
   "outputs": [],
   "source": [
    "data"
   ]
  },
  {
   "cell_type": "code",
   "execution_count": null,
   "id": "10d2b7f6",
   "metadata": {},
   "outputs": [],
   "source": []
  },
  {
   "cell_type": "code",
   "execution_count": null,
   "id": "57c80739",
   "metadata": {},
   "outputs": [],
   "source": []
  },
  {
   "cell_type": "code",
   "execution_count": null,
   "id": "0de1b68d",
   "metadata": {},
   "outputs": [],
   "source": []
  },
  {
   "cell_type": "code",
   "execution_count": null,
   "id": "dbf5fb29",
   "metadata": {},
   "outputs": [],
   "source": []
  },
  {
   "cell_type": "code",
   "execution_count": null,
   "id": "eead1c8d",
   "metadata": {},
   "outputs": [],
   "source": []
  },
  {
   "cell_type": "code",
   "execution_count": null,
   "id": "48d59091",
   "metadata": {},
   "outputs": [],
   "source": []
  },
  {
   "cell_type": "code",
   "execution_count": null,
   "id": "cae55d73",
   "metadata": {},
   "outputs": [],
   "source": []
  },
  {
   "cell_type": "code",
   "execution_count": null,
   "id": "649c8c89",
   "metadata": {},
   "outputs": [],
   "source": []
  },
  {
   "cell_type": "code",
   "execution_count": null,
   "id": "6c81885c",
   "metadata": {},
   "outputs": [],
   "source": [
    "dd = pd.read_csv('wed_morning_88.csv')"
   ]
  },
  {
   "cell_type": "code",
   "execution_count": null,
   "id": "1fd398ee",
   "metadata": {},
   "outputs": [],
   "source": [
    "dd"
   ]
  },
  {
   "cell_type": "code",
   "execution_count": null,
   "id": "928f9366",
   "metadata": {},
   "outputs": [],
   "source": [
    "# dd = dd[dd.index <=3000]"
   ]
  },
  {
   "cell_type": "code",
   "execution_count": null,
   "id": "bcd7552f",
   "metadata": {},
   "outputs": [],
   "source": [
    "X= df.drop(['aag','nr','index','volume2','vwap2'],axis=1)\n",
    "Y=df['aag']"
   ]
  },
  {
   "cell_type": "code",
   "execution_count": null,
   "id": "c3b388a5",
   "metadata": {},
   "outputs": [],
   "source": [
    "# from sklearn.linear_model import LinearRegression\n",
    "# lm = LinearRegression()\n",
    "# lm.fit(X,Y)"
   ]
  },
  {
   "cell_type": "code",
   "execution_count": null,
   "id": "fb3b17fc",
   "metadata": {},
   "outputs": [],
   "source": [
    "from sklearn.model_selection import train_test_split\n",
    "x_train, x_test,y_train,y_test=train_test_split(X,Y, test_size=0.3,random_state=2800, shuffle=True)\n",
    "from sklearn import ensemble\n",
    "lm = ensemble.GradientBoostingRegressor()\n",
    "lm.fit(X,Y)"
   ]
  },
  {
   "cell_type": "code",
   "execution_count": null,
   "id": "a972dae7",
   "metadata": {},
   "outputs": [],
   "source": [
    "x_test['prediction'] = lm.predict(x_test)"
   ]
  },
  {
   "cell_type": "code",
   "execution_count": null,
   "id": "44c6f27f",
   "metadata": {},
   "outputs": [],
   "source": []
  },
  {
   "cell_type": "code",
   "execution_count": null,
   "id": "f62a4ae6",
   "metadata": {},
   "outputs": [],
   "source": [
    "dd = pd.concat([x_test,y_test],axis = 1)"
   ]
  },
  {
   "cell_type": "code",
   "execution_count": null,
   "id": "eff5a929",
   "metadata": {},
   "outputs": [],
   "source": [
    "plt.scatter(dd.prediction,dd.aag)"
   ]
  },
  {
   "cell_type": "code",
   "execution_count": null,
   "id": "c3433169",
   "metadata": {},
   "outputs": [],
   "source": [
    "oo = pd.DataFrame(dd[dd['prediction']>dd['ltp']+10])"
   ]
  },
  {
   "cell_type": "code",
   "execution_count": null,
   "id": "d9ca8942",
   "metadata": {
    "scrolled": true
   },
   "outputs": [],
   "source": [
    "oo.ltp.count()"
   ]
  },
  {
   "cell_type": "code",
   "execution_count": null,
   "id": "15f7af21",
   "metadata": {},
   "outputs": [],
   "source": []
  },
  {
   "cell_type": "code",
   "execution_count": null,
   "id": "ff8a8d9f",
   "metadata": {},
   "outputs": [],
   "source": [
    "(oo['aag']-oo['prediction']).max()"
   ]
  },
  {
   "cell_type": "code",
   "execution_count": null,
   "id": "f5817407",
   "metadata": {},
   "outputs": [],
   "source": [
    "(oo['aag']-oo['prediction']).min()"
   ]
  },
  {
   "cell_type": "code",
   "execution_count": null,
   "id": "43b8ef36",
   "metadata": {},
   "outputs": [],
   "source": [
    "oo"
   ]
  },
  {
   "cell_type": "code",
   "execution_count": null,
   "id": "f62519d0",
   "metadata": {},
   "outputs": [],
   "source": [
    "# from sklearn.model_selection import train_test_split\n",
    "# # x_train, x_test,y_train,y_test=train_test_split(X,Y, test_size=0.3,random_state=450, shuffle=True)\n",
    "from sklearn import ensemble\n",
    "lm = ensemble.GradientBoostingRegressor()\n",
    "lm.fit(X,Y)"
   ]
  },
  {
   "cell_type": "code",
   "execution_count": null,
   "id": "4d81101e",
   "metadata": {},
   "outputs": [],
   "source": [
    "# x_test"
   ]
  },
  {
   "cell_type": "code",
   "execution_count": null,
   "id": "98578dcd",
   "metadata": {},
   "outputs": [],
   "source": [
    "# coeff_df = pd.DataFrame(lm.coef_,X.columns,columns=['Coefficient'])\n",
    "# coeff_df"
   ]
  },
  {
   "cell_type": "code",
   "execution_count": null,
   "id": "f661d94f",
   "metadata": {},
   "outputs": [],
   "source": [
    "# x_test=pd.read_csv('fri_evening_1.csv')"
   ]
  },
  {
   "cell_type": "code",
   "execution_count": null,
   "id": "a8e7d457",
   "metadata": {},
   "outputs": [],
   "source": [
    "# x_test.drop(['bq/sq','prediction'],axis=1,inplace=True)\n"
   ]
  },
  {
   "cell_type": "code",
   "execution_count": null,
   "id": "4ec7f709",
   "metadata": {},
   "outputs": [],
   "source": [
    "df1=pd.read_csv('wed_evening_7.csv')"
   ]
  },
  {
   "cell_type": "code",
   "execution_count": null,
   "id": "b63212fd",
   "metadata": {},
   "outputs": [],
   "source": [
    "df1"
   ]
  },
  {
   "cell_type": "code",
   "execution_count": null,
   "id": "b7683610",
   "metadata": {},
   "outputs": [],
   "source": [
    "# df1 = df1[df.index>3200]"
   ]
  },
  {
   "cell_type": "code",
   "execution_count": null,
   "id": "ba8bdd34",
   "metadata": {},
   "outputs": [],
   "source": [
    "# df1 = df1[df1.index>6100]"
   ]
  },
  {
   "cell_type": "code",
   "execution_count": null,
   "id": "d15d72df",
   "metadata": {},
   "outputs": [],
   "source": [
    "x_test = df1.drop(['prediction','bq/sq'],axis = 1)\n",
    "y_test = df1['prediction']"
   ]
  },
  {
   "cell_type": "code",
   "execution_count": null,
   "id": "50104654",
   "metadata": {},
   "outputs": [],
   "source": []
  },
  {
   "cell_type": "code",
   "execution_count": null,
   "id": "cd0adebb",
   "metadata": {},
   "outputs": [],
   "source": []
  },
  {
   "cell_type": "code",
   "execution_count": null,
   "id": "d04cbdf3",
   "metadata": {},
   "outputs": [],
   "source": [
    "predictions = lm.predict(x_test)\n",
    "plt.scatter(y_test,predictions)"
   ]
  },
  {
   "cell_type": "code",
   "execution_count": null,
   "id": "11f902e6",
   "metadata": {},
   "outputs": [],
   "source": [
    "df = pd.DataFrame()\n",
    "df['Actuals'] = y_test\n",
    "df['Pred'] = predictions"
   ]
  },
  {
   "cell_type": "code",
   "execution_count": null,
   "id": "b7f9f1ee",
   "metadata": {},
   "outputs": [],
   "source": [
    "df['MAPE'] = abs((df.Pred - df.Actuals) / df.Actuals) * 100\n",
    "df['Accuracy'] = 100 - df.MAPE"
   ]
  },
  {
   "cell_type": "code",
   "execution_count": null,
   "id": "34c8d907",
   "metadata": {},
   "outputs": [],
   "source": [
    "df.Accuracy.mean()"
   ]
  },
  {
   "cell_type": "code",
   "execution_count": null,
   "id": "7bf5478f",
   "metadata": {},
   "outputs": [],
   "source": [
    "# x_test"
   ]
  },
  {
   "cell_type": "code",
   "execution_count": null,
   "id": "5ca06d26",
   "metadata": {},
   "outputs": [],
   "source": [
    "ay = pd.concat([x_test,y_test,df['Pred']], axis = 1)"
   ]
  },
  {
   "cell_type": "code",
   "execution_count": null,
   "id": "19d91595",
   "metadata": {},
   "outputs": [],
   "source": [
    "ay = ay.astype(float)"
   ]
  },
  {
   "cell_type": "code",
   "execution_count": null,
   "id": "e283a27a",
   "metadata": {},
   "outputs": [],
   "source": []
  },
  {
   "cell_type": "code",
   "execution_count": null,
   "id": "906e74c0",
   "metadata": {},
   "outputs": [],
   "source": [
    "ay['net'] = ay['prediction'] - ay['ltp_now']\n",
    "ay"
   ]
  },
  {
   "cell_type": "code",
   "execution_count": null,
   "id": "caafc8dd",
   "metadata": {},
   "outputs": [],
   "source": [
    "# ay = ay[ay['sp']>ay['ltp_now']]"
   ]
  },
  {
   "cell_type": "code",
   "execution_count": null,
   "id": "a4e7b0f2",
   "metadata": {},
   "outputs": [],
   "source": [
    "ay"
   ]
  },
  {
   "cell_type": "code",
   "execution_count": null,
   "id": "5e1528f5",
   "metadata": {},
   "outputs": [],
   "source": [
    "dfdf =pd.DataFrame( ay[(ay['Pred'] > ay['ltp_now'])&(ay['ltp_now']>ay['ltp--1']*1.001)])"
   ]
  },
  {
   "cell_type": "code",
   "execution_count": null,
   "id": "94846786",
   "metadata": {
    "scrolled": true
   },
   "outputs": [],
   "source": [
    "dfdf"
   ]
  },
  {
   "cell_type": "code",
   "execution_count": null,
   "id": "d3fea3e0",
   "metadata": {},
   "outputs": [],
   "source": [
    "dfdf.net.count()"
   ]
  },
  {
   "cell_type": "code",
   "execution_count": null,
   "id": "7305fe1b",
   "metadata": {},
   "outputs": [],
   "source": [
    "dfdf['net'].sum()"
   ]
  },
  {
   "cell_type": "code",
   "execution_count": null,
   "id": "e4fe7f7a",
   "metadata": {},
   "outputs": [],
   "source": [
    "hee = pd.DataFrame(dfdf[dfdf['net']>0])"
   ]
  },
  {
   "cell_type": "code",
   "execution_count": null,
   "id": "dfe7aa3e",
   "metadata": {},
   "outputs": [],
   "source": [
    "q =hee.net.sum()\n",
    "q"
   ]
  },
  {
   "cell_type": "code",
   "execution_count": null,
   "id": "a73f9522",
   "metadata": {},
   "outputs": [],
   "source": [
    "hi = pd.DataFrame(dfdf[dfdf['net']<0])"
   ]
  },
  {
   "cell_type": "code",
   "execution_count": null,
   "id": "f3f92750",
   "metadata": {},
   "outputs": [],
   "source": [
    "hi['net'].count()"
   ]
  },
  {
   "cell_type": "code",
   "execution_count": null,
   "id": "14efa6d9",
   "metadata": {},
   "outputs": [],
   "source": [
    "p=hi['net'].count()*0.1\n",
    "p"
   ]
  },
  {
   "cell_type": "code",
   "execution_count": null,
   "id": "1f41d91e",
   "metadata": {},
   "outputs": [],
   "source": [
    "q-p"
   ]
  },
  {
   "cell_type": "code",
   "execution_count": null,
   "id": "558332f7",
   "metadata": {},
   "outputs": [],
   "source": [
    "dfdf['up_down'] = dfdf['net']>0"
   ]
  },
  {
   "cell_type": "code",
   "execution_count": null,
   "id": "1b4008b4",
   "metadata": {},
   "outputs": [],
   "source": [
    "dfdf = pd.get_dummies(dfdf, columns = ['up_down'])"
   ]
  },
  {
   "cell_type": "code",
   "execution_count": null,
   "id": "5096787a",
   "metadata": {},
   "outputs": [],
   "source": [
    "dfdf['up_down_True'].sum()"
   ]
  },
  {
   "cell_type": "code",
   "execution_count": null,
   "id": "fdd21f65",
   "metadata": {},
   "outputs": [],
   "source": [
    "dfdf['up_down_False'].sum()"
   ]
  },
  {
   "cell_type": "code",
   "execution_count": null,
   "id": "1e37e99c",
   "metadata": {},
   "outputs": [],
   "source": [
    "dfdf['up_down_True'].sum() - dfdf['up_down_False'].sum()"
   ]
  },
  {
   "cell_type": "code",
   "execution_count": null,
   "id": "67c1dc2e",
   "metadata": {
    "scrolled": true
   },
   "outputs": [],
   "source": [
    "dfdf[dfdf['net']>=0.05]"
   ]
  },
  {
   "cell_type": "code",
   "execution_count": null,
   "id": "c950888c",
   "metadata": {},
   "outputs": [],
   "source": [
    "dfdf[dfdf['up_down_True']==1]['net'].mean()"
   ]
  },
  {
   "cell_type": "code",
   "execution_count": null,
   "id": "f3ec8f87",
   "metadata": {},
   "outputs": [],
   "source": [
    "df[(df['Actuals'] - df['Pred']) <=-0.05]"
   ]
  },
  {
   "cell_type": "code",
   "execution_count": null,
   "id": "66731c57",
   "metadata": {},
   "outputs": [],
   "source": []
  },
  {
   "cell_type": "code",
   "execution_count": null,
   "id": "c5e5b46b",
   "metadata": {},
   "outputs": [],
   "source": []
  },
  {
   "cell_type": "code",
   "execution_count": null,
   "id": "1a5a7203",
   "metadata": {},
   "outputs": [],
   "source": []
  },
  {
   "cell_type": "code",
   "execution_count": null,
   "id": "3faee481",
   "metadata": {},
   "outputs": [],
   "source": []
  },
  {
   "cell_type": "code",
   "execution_count": null,
   "id": "1d91c91e",
   "metadata": {},
   "outputs": [],
   "source": [
    "import math as m\n",
    "e = m.e  "
   ]
  },
  {
   "cell_type": "code",
   "execution_count": null,
   "id": "fa5db354",
   "metadata": {},
   "outputs": [],
   "source": [
    "# df = pd.read_csv('fri_evening_11.csv')"
   ]
  },
  {
   "cell_type": "code",
   "execution_count": null,
   "id": "a35bcf16",
   "metadata": {},
   "outputs": [],
   "source": [
    "df = df6.copy()"
   ]
  },
  {
   "cell_type": "code",
   "execution_count": null,
   "id": "f94df9e6",
   "metadata": {},
   "outputs": [],
   "source": [
    "df['base'] = df['ltp--4']/1.01"
   ]
  },
  {
   "cell_type": "code",
   "execution_count": null,
   "id": "5011f525",
   "metadata": {
    "scrolled": true
   },
   "outputs": [],
   "source": [
    "df = df[(df['ltp--3']>=df['base']*1.01*1.01)]"
   ]
  },
  {
   "cell_type": "code",
   "execution_count": null,
   "id": "2059d8e3",
   "metadata": {},
   "outputs": [],
   "source": [
    "df['net'] = df['prediction']-df['ltp--3']"
   ]
  },
  {
   "cell_type": "code",
   "execution_count": null,
   "id": "25fa2ce5",
   "metadata": {},
   "outputs": [],
   "source": [
    "df.net.sum()"
   ]
  },
  {
   "cell_type": "code",
   "execution_count": null,
   "id": "4350244f",
   "metadata": {},
   "outputs": [],
   "source": []
  },
  {
   "cell_type": "code",
   "execution_count": null,
   "id": "ccb8b29d",
   "metadata": {},
   "outputs": [],
   "source": []
  },
  {
   "cell_type": "code",
   "execution_count": null,
   "id": "67a2fb49",
   "metadata": {},
   "outputs": [],
   "source": []
  },
  {
   "cell_type": "code",
   "execution_count": null,
   "id": "1d5c24c4",
   "metadata": {},
   "outputs": [],
   "source": [
    "df = pd.read_csv('thu_evening_1.csv')"
   ]
  },
  {
   "cell_type": "code",
   "execution_count": null,
   "id": "d6f9556c",
   "metadata": {},
   "outputs": [],
   "source": [
    "df = pd.DataFrame(df['ltp--4'])"
   ]
  },
  {
   "cell_type": "code",
   "execution_count": null,
   "id": "026f4e88",
   "metadata": {},
   "outputs": [],
   "source": [
    "df.rename(columns= {'ltp--4':'20'},inplace = True)"
   ]
  },
  {
   "cell_type": "code",
   "execution_count": null,
   "id": "d45e1a55",
   "metadata": {},
   "outputs": [],
   "source": [
    "a=list()\n"
   ]
  },
  {
   "cell_type": "code",
   "execution_count": null,
   "id": "fb7851b1",
   "metadata": {},
   "outputs": [],
   "source": [
    "for i in range(20):\n",
    "    ll = range(i+1)\n",
    "    a.append(df.drop(ll,axis = 0))\n",
    "    a[i].reset_index(inplace = True)\n",
    "    a[i].rename(columns = {'20':str(19-i)}, inplace = True)\n",
    "    a[i].drop(['index'],axis = 1, inplace = True)\n"
   ]
  },
  {
   "cell_type": "code",
   "execution_count": null,
   "id": "b6ac994a",
   "metadata": {},
   "outputs": [],
   "source": [
    "for i in range(20):\n",
    "    df = pd.concat([df,a[i]],axis = 1)\n",
    "df.dropna(inplace = True)"
   ]
  },
  {
   "cell_type": "code",
   "execution_count": null,
   "id": "10e8e058",
   "metadata": {},
   "outputs": [],
   "source": [
    "df['hurst4'] = 0\n",
    "df['hurst7'] = 0\n",
    "df['hurst11'] = 0\n",
    "df['hurst15'] = 0"
   ]
  },
  {
   "cell_type": "code",
   "execution_count": null,
   "id": "eb31fa14",
   "metadata": {},
   "outputs": [],
   "source": [
    "\n",
    "def get_hurst_exponent(time_series, max_lag):\n",
    "    \"\"\"Returns the Hurst Exponent of the time series\"\"\"\n",
    "    \n",
    "    lags = range(2, max_lag)\n",
    "\n",
    "    # variances of the lagged differences\n",
    "    tau = [np.std(np.subtract(time_series[lag:], time_series[:-lag])) for lag in lags]\n",
    "\n",
    "    # calculate the slope of the log plot -> the Hurst Exponent\n",
    "    reg = np.polyfit(np.log(lags), np.log(tau), 1)\n",
    "\n",
    "    return reg[0]"
   ]
  },
  {
   "cell_type": "code",
   "execution_count": null,
   "id": "9a702c1d",
   "metadata": {},
   "outputs": [],
   "source": [
    "df"
   ]
  },
  {
   "cell_type": "code",
   "execution_count": null,
   "id": "cc7a0ecd",
   "metadata": {},
   "outputs": [],
   "source": [
    "r = df['10'].count()"
   ]
  },
  {
   "cell_type": "code",
   "execution_count": null,
   "id": "4369afdb",
   "metadata": {},
   "outputs": [],
   "source": [
    "for i in range(r):\n",
    "    time_series = np.array(df.loc[i].copy())\n",
    "    df['hurst4'][i] = get_hurst_exponent(time_series,4)\n",
    "    df['hurst7'][i] = get_hurst_exponent(time_series,7)\n",
    "    df['hurst11'][i] = get_hurst_exponent(time_series,11)\n",
    "    df['hurst15'][i] = get_hurst_exponent(time_series,15)"
   ]
  },
  {
   "cell_type": "code",
   "execution_count": null,
   "id": "323883bb",
   "metadata": {},
   "outputs": [],
   "source": [
    "df"
   ]
  },
  {
   "cell_type": "code",
   "execution_count": null,
   "id": "565905cb",
   "metadata": {},
   "outputs": [],
   "source": [
    "df[df['hurst4']>=0.2]"
   ]
  },
  {
   "cell_type": "code",
   "execution_count": null,
   "id": "e83bad22",
   "metadata": {},
   "outputs": [],
   "source": [
    "z"
   ]
  },
  {
   "cell_type": "code",
   "execution_count": null,
   "id": "032052e6",
   "metadata": {},
   "outputs": [],
   "source": []
  },
  {
   "cell_type": "code",
   "execution_count": null,
   "id": "5ea836a3",
   "metadata": {},
   "outputs": [],
   "source": []
  },
  {
   "cell_type": "code",
   "execution_count": null,
   "id": "96afda1c",
   "metadata": {},
   "outputs": [],
   "source": []
  },
  {
   "cell_type": "code",
   "execution_count": null,
   "id": "97d18d00",
   "metadata": {},
   "outputs": [],
   "source": []
  },
  {
   "cell_type": "code",
   "execution_count": null,
   "id": "5c373211",
   "metadata": {},
   "outputs": [],
   "source": []
  },
  {
   "cell_type": "code",
   "execution_count": null,
   "id": "e7f8964d",
   "metadata": {},
   "outputs": [],
   "source": []
  },
  {
   "cell_type": "code",
   "execution_count": null,
   "id": "627877bc",
   "metadata": {},
   "outputs": [],
   "source": [
    "df = pd.read_csv('wed_morning_33.csv')"
   ]
  },
  {
   "cell_type": "code",
   "execution_count": null,
   "id": "e9a768c4",
   "metadata": {},
   "outputs": [],
   "source": [
    "df"
   ]
  },
  {
   "cell_type": "code",
   "execution_count": null,
   "id": "6b824b08",
   "metadata": {},
   "outputs": [],
   "source": [
    "df['net'] = df['prediction'] - df['ltp_now']"
   ]
  },
  {
   "cell_type": "code",
   "execution_count": null,
   "id": "5d2ace3b",
   "metadata": {},
   "outputs": [],
   "source": [
    "aa = df[(df['ltp_now']>df['ltp--1']*1.001)&(df['ltp--1']>df['ltp--2']*1.001)&(df['ltp--2']>df['ltp--3']*1.001)&(df['ltp--3']>df['ltp--4']*1.001)]"
   ]
  },
  {
   "cell_type": "code",
   "execution_count": null,
   "id": "67adf2fe",
   "metadata": {},
   "outputs": [],
   "source": [
    "aa"
   ]
  },
  {
   "cell_type": "code",
   "execution_count": null,
   "id": "b5fa234a",
   "metadata": {},
   "outputs": [],
   "source": [
    "aa.net.count()"
   ]
  },
  {
   "cell_type": "code",
   "execution_count": null,
   "id": "a1de352a",
   "metadata": {},
   "outputs": [],
   "source": [
    "slc = aa[aa.net<0].net.count()"
   ]
  },
  {
   "cell_type": "code",
   "execution_count": null,
   "id": "db4b681b",
   "metadata": {},
   "outputs": [],
   "source": [
    "tar = aa[aa.net>0].net.sum()"
   ]
  },
  {
   "cell_type": "code",
   "execution_count": null,
   "id": "e1039961",
   "metadata": {},
   "outputs": [],
   "source": [
    "slc"
   ]
  },
  {
   "cell_type": "code",
   "execution_count": null,
   "id": "1e90a995",
   "metadata": {},
   "outputs": [],
   "source": [
    "sl = slc*0.1\n",
    "sl"
   ]
  },
  {
   "cell_type": "code",
   "execution_count": null,
   "id": "5042f5e9",
   "metadata": {},
   "outputs": [],
   "source": [
    "tar"
   ]
  },
  {
   "cell_type": "code",
   "execution_count": null,
   "id": "67cd6336",
   "metadata": {},
   "outputs": [],
   "source": [
    "tar - sl"
   ]
  },
  {
   "cell_type": "code",
   "execution_count": null,
   "id": "b5ae7ac2",
   "metadata": {},
   "outputs": [],
   "source": []
  },
  {
   "cell_type": "code",
   "execution_count": null,
   "id": "26188c36",
   "metadata": {},
   "outputs": [],
   "source": []
  },
  {
   "cell_type": "code",
   "execution_count": null,
   "id": "4becc894",
   "metadata": {},
   "outputs": [],
   "source": []
  },
  {
   "cell_type": "code",
   "execution_count": null,
   "id": "c4a54803",
   "metadata": {},
   "outputs": [],
   "source": [
    "df = pd.read_csv('fri_morning_1.csv')"
   ]
  },
  {
   "cell_type": "code",
   "execution_count": null,
   "id": "f0fc28c6",
   "metadata": {},
   "outputs": [],
   "source": [
    "X_train = df.drop(['bq/sq'], axis = 1)"
   ]
  },
  {
   "cell_type": "code",
   "execution_count": null,
   "id": "92642462",
   "metadata": {},
   "outputs": [],
   "source": [
    "Y_train = df['prediction']"
   ]
  },
  {
   "cell_type": "code",
   "execution_count": null,
   "id": "345ac9e0",
   "metadata": {},
   "outputs": [],
   "source": [
    "X_train.shape[2]"
   ]
  },
  {
   "cell_type": "code",
   "execution_count": null,
   "id": "6b38ea23",
   "metadata": {},
   "outputs": [],
   "source": [
    "df = df.dro"
   ]
  },
  {
   "cell_type": "code",
   "execution_count": null,
   "id": "5fcc025f",
   "metadata": {},
   "outputs": [],
   "source": []
  },
  {
   "cell_type": "code",
   "execution_count": null,
   "id": "b1a2969b",
   "metadata": {},
   "outputs": [],
   "source": [
    "df = df.values"
   ]
  },
  {
   "cell_type": "code",
   "execution_count": null,
   "id": "06f4cc37",
   "metadata": {},
   "outputs": [],
   "source": [
    "df.drop(['bq/sq'],axis = 1,inplace = True)"
   ]
  },
  {
   "cell_type": "code",
   "execution_count": null,
   "id": "1f1187d4",
   "metadata": {},
   "outputs": [],
   "source": [
    "df"
   ]
  },
  {
   "cell_type": "code",
   "execution_count": null,
   "id": "41d52280",
   "metadata": {},
   "outputs": [],
   "source": [
    "import datetime\n",
    "import os\n",
    "import shutil\n",
    "\n",
    "import numpy as np\n",
    "import pandas as pd\n",
    "import tensorflow as tf\n",
    "# from google.cloud import aiplatform\n",
    "from matplotlib import pyplot as plt\n",
    "from tensorflow import keras\n",
    "from tensorflow.keras.callbacks import TensorBoard\n",
    "from tensorflow.keras.layers import Dense, DenseFeatures\n",
    "from tensorflow.keras.models import Sequential\n",
    "\n",
    "print(tf.__version__)"
   ]
  },
  {
   "cell_type": "code",
   "execution_count": null,
   "id": "20ba426d",
   "metadata": {},
   "outputs": [],
   "source": [
    "CSV_COLUMNS = [\n",
    "    'ltp--4', 'ltp--3', 'ltp--2', 'ltp--1', 'ltp_now', 'prediction',\n",
    "\n",
    "]\n",
    "LABEL_COLUMN = \"prediction\"\n",
    "DEFAULTS = [[0.0], [0.0], [0.0], [0.0], [0.0], [0.0]]\n",
    "# UNWANTED_COLS = [\"pickup_datetime\", \"key\"]\n",
    "\n",
    "\n",
    "def features_and_labels(row_data):\n",
    "    label = row_data.pop(LABEL_COLUMN)\n",
    "    features = row_data\n",
    "\n",
    "#     for unwanted_col in UNWANTED_COLS:\n",
    "#         features.pop(unwanted_col)\n",
    "\n",
    "    return features, label\n",
    "\n",
    "\n",
    "def create_dataset(pattern, batch_size=1, mode=\"eval\"):\n",
    "    dataset = tf.data.experimental.make_csv_dataset(\n",
    "        pattern, batch_size, CSV_COLUMNS, DEFAULTS\n",
    "    )\n",
    "\n",
    "    dataset = dataset.map(features_and_labels)\n",
    "\n",
    "    if mode == \"train\":\n",
    "        dataset = dataset.shuffle(buffer_size=1000).repeat()\n",
    "\n",
    "    # take advantage of multi-threading; 1=AUTOTUNE\n",
    "    dataset = dataset.prefetch(1)\n",
    "    return dataset"
   ]
  },
  {
   "cell_type": "code",
   "execution_count": null,
   "id": "034a90fa",
   "metadata": {},
   "outputs": [],
   "source": [
    "INPUT_COLS = [\n",
    "    'ltp--4', 'ltp--3', 'ltp--2', 'ltp--1', 'ltp_now'\n",
    "]\n",
    "\n",
    "# Create input layer of feature columns\n",
    "\n",
    "# TODO 1\n",
    "feature_columns = {\n",
    "    colname: tf.feature_column.numeric_column(colname) for colname in INPUT_COLS\n",
    "}"
   ]
  },
  {
   "cell_type": "code",
   "execution_count": null,
   "id": "b72afe4e",
   "metadata": {},
   "outputs": [],
   "source": [
    "feature_columns"
   ]
  },
  {
   "cell_type": "code",
   "execution_count": null,
   "id": "b0181122",
   "metadata": {},
   "outputs": [],
   "source": [
    "# Build a keras DNN model using Sequential API\n",
    "\n",
    "# TODO 2a\n",
    "model = Sequential(\n",
    "    [\n",
    "        DenseFeatures(feature_columns=feature_columns.values()),\n",
    "        Dense(units=32, activation=\"relu\", name=\"h1\"),\n",
    "        Dense(units=8, activation=\"relu\", name=\"h2\"),\n",
    "        Dense(units=1, activation=\"linear\", name=\"output\"),\n",
    "    ]\n",
    ")"
   ]
  },
  {
   "cell_type": "code",
   "execution_count": null,
   "id": "4687208d",
   "metadata": {},
   "outputs": [],
   "source": [
    "# TODO 2b\n",
    "# Create a custom evalution metric\n",
    "def rmse(y_true, y_pred):\n",
    "    return tf.sqrt(tf.reduce_mean(tf.square(y_pred - y_true)))\n",
    "\n",
    "\n",
    "# Compile the keras model\n",
    "model.compile(optimizer=\"adam\", loss=\"mse\", metrics=[rmse, \"mse\"])"
   ]
  },
  {
   "cell_type": "code",
   "execution_count": null,
   "id": "65b056f4",
   "metadata": {},
   "outputs": [],
   "source": [
    "TRAIN_BATCH_SIZE = 1000\n",
    "NUM_TRAIN_EXAMPLES = 10000 * 5  # training dataset will repeat, wrap around\n",
    "NUM_EVALS = 50  # how many times to evaluate\n",
    "NUM_EVAL_EXAMPLES = 10000  # enough to get a reasonable sample\n",
    "\n",
    "trainds = create_dataset(\n",
    "    pattern='fri_evening_1.csv', batch_size=TRAIN_BATCH_SIZE, mode=\"train\"\n",
    ")\n",
    "\n",
    "evalds = create_dataset(\n",
    "    pattern='fri_evening_1.csv', batch_size=1000, mode=\"eval\"\n",
    ").take(NUM_EVAL_EXAMPLES // 1000)"
   ]
  },
  {
   "cell_type": "code",
   "execution_count": null,
   "id": "50ec9905",
   "metadata": {},
   "outputs": [],
   "source": [
    "trainds"
   ]
  },
  {
   "cell_type": "code",
   "execution_count": null,
   "id": "1bc56527",
   "metadata": {},
   "outputs": [],
   "source": [
    "# TODO 3\n",
    "%time\n",
    "steps_per_epoch = NUM_TRAIN_EXAMPLES // (TRAIN_BATCH_SIZE * NUM_EVALS)\n",
    "\n",
    "LOGDIR = \"./taxi_trained\"\n",
    "history = model.fit(\n",
    "    x=trainds,\n",
    "    steps_per_epoch=steps_per_epoch,\n",
    "    epochs=NUM_EVALS,\n",
    "    validation_data=evalds,\n",
    "    callbacks=[TensorBoard(LOGDIR)],\n",
    ")"
   ]
  },
  {
   "cell_type": "code",
   "execution_count": null,
   "id": "2414a2b1",
   "metadata": {},
   "outputs": [],
   "source": [
    "?model.fit"
   ]
  },
  {
   "cell_type": "code",
   "execution_count": null,
   "id": "a566ab3c",
   "metadata": {},
   "outputs": [],
   "source": []
  },
  {
   "cell_type": "code",
   "execution_count": null,
   "id": "5388f8d1",
   "metadata": {},
   "outputs": [],
   "source": [
    "?tf.data.experimental.make_csv_dataset"
   ]
  },
  {
   "cell_type": "code",
   "execution_count": null,
   "id": "283a6bde",
   "metadata": {},
   "outputs": [],
   "source": [
    "def create_dataset(pattern, batch_size=1, mode=\"eval\"):\n",
    "    dataset = tf.data.experimental.make_csv_dataset(\n",
    "        pattern, batch_size, CSV_COLUMNS, DEFAULTS\n",
    "    )\n",
    "\n",
    "#     dataset = dataset.map(features_and_labels)\n",
    "\n",
    "    if mode == \"train\":\n",
    "        dataset = dataset.shuffle(buffer_size=1000).repeat()\n",
    "\n",
    "    # take advantage of multi-threading; 1=AUTOTUNE\n",
    "    dataset = dataset.prefetch(1)\n",
    "    return dataset"
   ]
  },
  {
   "cell_type": "code",
   "execution_count": null,
   "id": "a6f0b08c",
   "metadata": {},
   "outputs": [],
   "source": [
    "trainds = create_dataset(\n",
    "    pattern='fri_morning_11.csv', batch_size=100, mode=\"train\"\n",
    ")"
   ]
  },
  {
   "cell_type": "code",
   "execution_count": null,
   "id": "a8645b52",
   "metadata": {},
   "outputs": [],
   "source": [
    "tf.data.Dataset.prefetch(trainds)"
   ]
  },
  {
   "cell_type": "code",
   "execution_count": null,
   "id": "65264205",
   "metadata": {},
   "outputs": [],
   "source": []
  },
  {
   "cell_type": "code",
   "execution_count": null,
   "id": "f56f4f2e",
   "metadata": {},
   "outputs": [],
   "source": []
  },
  {
   "cell_type": "code",
   "execution_count": null,
   "id": "d45119f1",
   "metadata": {},
   "outputs": [],
   "source": []
  },
  {
   "cell_type": "code",
   "execution_count": null,
   "id": "93e49e01",
   "metadata": {},
   "outputs": [],
   "source": []
  },
  {
   "cell_type": "code",
   "execution_count": null,
   "id": "19e4133d",
   "metadata": {},
   "outputs": [],
   "source": []
  },
  {
   "cell_type": "code",
   "execution_count": null,
   "id": "e98c250d",
   "metadata": {},
   "outputs": [],
   "source": [
    "# from api_helper import ShoonyaApiPy\n",
    "import logging\n",
    "import time\n",
    "import pandas as pd\n",
    "import json\n",
    "import numpy as np\n",
    "import matplotlib.pyplot as plt\n",
    "%matplotlib inline\n",
    "plt.style.use('seaborn-darkgrid')"
   ]
  },
  {
   "cell_type": "markdown",
   "id": "8aeb9ac8",
   "metadata": {},
   "source": [
    "# Model testing of cross and pred and 1:2 target"
   ]
  },
  {
   "cell_type": "code",
   "execution_count": null,
   "id": "5c943540",
   "metadata": {},
   "outputs": [],
   "source": []
  },
  {
   "cell_type": "code",
   "execution_count": null,
   "id": "00078757",
   "metadata": {},
   "outputs": [],
   "source": [
    "d = pd.read_csv('thu_evening_7.csv')"
   ]
  },
  {
   "cell_type": "code",
   "execution_count": null,
   "id": "7ddde3ac",
   "metadata": {},
   "outputs": [],
   "source": [
    "d"
   ]
  },
  {
   "cell_type": "code",
   "execution_count": null,
   "id": "33f59ca8",
   "metadata": {},
   "outputs": [],
   "source": [
    "x = d.drop(['bq/sq','prediction'], axis = 1)"
   ]
  },
  {
   "cell_type": "code",
   "execution_count": null,
   "id": "eb80747d",
   "metadata": {},
   "outputs": [],
   "source": [
    "y = d['prediction']"
   ]
  },
  {
   "cell_type": "code",
   "execution_count": null,
   "id": "161cb34a",
   "metadata": {},
   "outputs": [],
   "source": [
    "from sklearn.linear_model import LinearRegression\n",
    "lm = LinearRegression()\n",
    "lm.fit(x,y)"
   ]
  },
  {
   "cell_type": "code",
   "execution_count": null,
   "id": "f21f7c7d",
   "metadata": {},
   "outputs": [],
   "source": [
    "df1 = pd.read_csv('thu_evening_444.csv')"
   ]
  },
  {
   "cell_type": "code",
   "execution_count": null,
   "id": "e87a6cd9",
   "metadata": {},
   "outputs": [],
   "source": [
    "df1"
   ]
  },
  {
   "cell_type": "code",
   "execution_count": null,
   "id": "685abb43",
   "metadata": {},
   "outputs": [],
   "source": [
    "df11 = df1.drop(['bp','sp','prediction'], axis = 1)"
   ]
  },
  {
   "cell_type": "code",
   "execution_count": null,
   "id": "aa261787",
   "metadata": {},
   "outputs": [],
   "source": [
    "pred = lm.predict(df11)"
   ]
  },
  {
   "cell_type": "code",
   "execution_count": null,
   "id": "41a892a8",
   "metadata": {},
   "outputs": [],
   "source": [
    "df1['Pred'] = pred"
   ]
  },
  {
   "cell_type": "code",
   "execution_count": null,
   "id": "0514be9b",
   "metadata": {},
   "outputs": [],
   "source": [
    "df1['rolling_mean'] = df1['ltp_now'].rolling(21).mean()"
   ]
  },
  {
   "cell_type": "code",
   "execution_count": null,
   "id": "acbebd9e",
   "metadata": {},
   "outputs": [],
   "source": [
    "df1.dropna(inplace  =True)"
   ]
  },
  {
   "cell_type": "code",
   "execution_count": null,
   "id": "92eb7607",
   "metadata": {},
   "outputs": [],
   "source": [
    "rl = pd.DataFrame(df1['rolling_mean'])"
   ]
  },
  {
   "cell_type": "code",
   "execution_count": null,
   "id": "75fd3ddc",
   "metadata": {},
   "outputs": [],
   "source": [
    "rl.index = rl.index+1"
   ]
  },
  {
   "cell_type": "code",
   "execution_count": null,
   "id": "df19550d",
   "metadata": {},
   "outputs": [],
   "source": [
    "rl.rename(columns = {'rolling_mean':'pre_mean'}, inplace = True)"
   ]
  },
  {
   "cell_type": "code",
   "execution_count": null,
   "id": "33fdce95",
   "metadata": {},
   "outputs": [],
   "source": [
    "df1 = pd.concat([df1,rl], axis = 1)"
   ]
  },
  {
   "cell_type": "code",
   "execution_count": null,
   "id": "f62ba076",
   "metadata": {},
   "outputs": [],
   "source": [
    "df1.dropna(inplace = True)"
   ]
  },
  {
   "cell_type": "code",
   "execution_count": null,
   "id": "1d9b8583",
   "metadata": {},
   "outputs": [],
   "source": [
    "vi = df1.index.max()"
   ]
  },
  {
   "cell_type": "code",
   "execution_count": null,
   "id": "a76d356d",
   "metadata": {},
   "outputs": [],
   "source": [
    "df1"
   ]
  },
  {
   "cell_type": "code",
   "execution_count": null,
   "id": "23015d62",
   "metadata": {},
   "outputs": [],
   "source": [
    "buy_sep = pd.DataFrame(df1[(df1['Pred']>df1['sp']+0.21)&(df1['pre_mean']<df1['bp'])&(df1['pre_mean']>df1['ltp--1'])])"
   ]
  },
  {
   "cell_type": "code",
   "execution_count": null,
   "id": "5835047f",
   "metadata": {
    "scrolled": true
   },
   "outputs": [],
   "source": [
    "num=buy_sep.bp.count()"
   ]
  },
  {
   "cell_type": "code",
   "execution_count": null,
   "id": "c71ca355",
   "metadata": {},
   "outputs": [],
   "source": [
    "buy_sep['selll'] = 0\n",
    "buy_sep['inn'] = buy_sep.index"
   ]
  },
  {
   "cell_type": "code",
   "execution_count": null,
   "id": "f0c69a13",
   "metadata": {},
   "outputs": [],
   "source": [
    "my_tar = 2\n",
    "my_sl = 1"
   ]
  },
  {
   "cell_type": "code",
   "execution_count": null,
   "id": "2e9db98c",
   "metadata": {},
   "outputs": [],
   "source": [
    "for i in range(num):\n",
    "   \n",
    "    b = buy_sep.iloc[i]['ltp_now']\n",
    "    p = ind = buy_sep.iloc[i].inn\n",
    "    while(True):\n",
    "        if(df1.loc[p]['bp']>=b+my_tar):\n",
    "            buy_sep['selll'][ind] = 'target'\n",
    "            break\n",
    "        elif(df1.loc[p]['bp']<=b-my_sl):\n",
    "            buy_sep['selll'][ind] = 'sl'\n",
    "            break\n",
    "        elif(p==vi):\n",
    "            buy_sep['selll'][ind] = df1.loc[vi]['bp']-b\n",
    "            break\n",
    "            \n",
    "        p = p+1\n",
    "        \n",
    "    "
   ]
  },
  {
   "cell_type": "code",
   "execution_count": null,
   "id": "38af5c1a",
   "metadata": {
    "scrolled": true
   },
   "outputs": [],
   "source": [
    "buy_sep"
   ]
  },
  {
   "cell_type": "code",
   "execution_count": null,
   "id": "aebe5424",
   "metadata": {},
   "outputs": [],
   "source": []
  },
  {
   "cell_type": "code",
   "execution_count": null,
   "id": "54cbc4ae",
   "metadata": {},
   "outputs": [],
   "source": [
    "cst = buy_sep[(buy_sep['selll']!='sl')&(buy_sep['selll']!='target')].selll.sum()"
   ]
  },
  {
   "cell_type": "code",
   "execution_count": null,
   "id": "988ee0e5",
   "metadata": {},
   "outputs": [],
   "source": [
    "brk = 14"
   ]
  },
  {
   "cell_type": "code",
   "execution_count": null,
   "id": "5bd003d4",
   "metadata": {},
   "outputs": [],
   "source": [
    "pnl = (buy_sep[buy_sep.selll=='target'].selll.count()*my_tar - buy_sep[buy_sep.selll=='sl'].selll.count()*my_sl+cst)*50 - brk *num"
   ]
  },
  {
   "cell_type": "code",
   "execution_count": null,
   "id": "f37586d1",
   "metadata": {},
   "outputs": [],
   "source": [
    "pnl"
   ]
  },
  {
   "cell_type": "code",
   "execution_count": null,
   "id": "7cbd2b26",
   "metadata": {},
   "outputs": [],
   "source": [
    "num"
   ]
  },
  {
   "cell_type": "code",
   "execution_count": null,
   "id": "722d8e67",
   "metadata": {},
   "outputs": [],
   "source": []
  },
  {
   "cell_type": "code",
   "execution_count": null,
   "id": "6c744711",
   "metadata": {},
   "outputs": [],
   "source": []
  },
  {
   "cell_type": "markdown",
   "id": "93bef6ff",
   "metadata": {},
   "source": [
    "# NEW MODEL TESTING"
   ]
  },
  {
   "cell_type": "code",
   "execution_count": null,
   "id": "74eaba21",
   "metadata": {},
   "outputs": [],
   "source": [
    "# from api_helper import ShoonyaApiPy\n",
    "import logging\n",
    "import time\n",
    "import pandas as pd\n",
    "import json\n",
    "import numpy as np\n",
    "import matplotlib.pyplot as plt\n",
    "%matplotlib inline\n",
    "plt.style.use('seaborn-darkgrid')"
   ]
  },
  {
   "cell_type": "code",
   "execution_count": null,
   "id": "8e7c95c9",
   "metadata": {},
   "outputs": [],
   "source": [
    "d1 = pd.read_csv('mon_morning_333.csv')"
   ]
  },
  {
   "cell_type": "code",
   "execution_count": null,
   "id": "8eaf080c",
   "metadata": {},
   "outputs": [],
   "source": [
    "d1"
   ]
  },
  {
   "cell_type": "code",
   "execution_count": null,
   "id": "53c7ee05",
   "metadata": {},
   "outputs": [],
   "source": [
    "d1['move'] = (d1['prediction']>d1['ltp_now'])"
   ]
  },
  {
   "cell_type": "code",
   "execution_count": null,
   "id": "249d4a3e",
   "metadata": {},
   "outputs": [],
   "source": [
    "d1['move'].value_counts()"
   ]
  },
  {
   "cell_type": "code",
   "execution_count": null,
   "id": "92fc8f77",
   "metadata": {},
   "outputs": [],
   "source": [
    "X = d1.drop(['bp','sp','prediction','move'],axis = 1)\n",
    "Y = d1['move']"
   ]
  },
  {
   "cell_type": "code",
   "execution_count": null,
   "id": "70d28667",
   "metadata": {},
   "outputs": [],
   "source": [
    "from sklearn.linear_model import LogisticRegression\n",
    "lm = LogisticRegression()\n",
    "lm.fit(X,Y)"
   ]
  },
  {
   "cell_type": "code",
   "execution_count": null,
   "id": "bddc3911",
   "metadata": {},
   "outputs": [],
   "source": [
    "df = pd.read_csv('mon_morning_444.csv')"
   ]
  },
  {
   "cell_type": "code",
   "execution_count": null,
   "id": "78605b4a",
   "metadata": {},
   "outputs": [],
   "source": [
    "df"
   ]
  },
  {
   "cell_type": "code",
   "execution_count": null,
   "id": "f0118f9b",
   "metadata": {},
   "outputs": [],
   "source": [
    "x_test = df.drop(['bp','sp','prediction'],axis = 1)\n",
    "pre = lm.predict(x_test)"
   ]
  },
  {
   "cell_type": "code",
   "execution_count": null,
   "id": "a25d44f5",
   "metadata": {},
   "outputs": [],
   "source": [
    "df['pred'] = pre"
   ]
  },
  {
   "cell_type": "code",
   "execution_count": null,
   "id": "ea30b007",
   "metadata": {},
   "outputs": [],
   "source": [
    "type(df['pred'][0])"
   ]
  },
  {
   "cell_type": "code",
   "execution_count": null,
   "id": "2d0e913f",
   "metadata": {},
   "outputs": [],
   "source": [
    "df"
   ]
  },
  {
   "cell_type": "code",
   "execution_count": null,
   "id": "aed7f89f",
   "metadata": {},
   "outputs": [],
   "source": [
    "df['mean_100'] = df['ltp--2'].rolling(21).mean()"
   ]
  },
  {
   "cell_type": "code",
   "execution_count": null,
   "id": "401d7fa0",
   "metadata": {},
   "outputs": [],
   "source": [
    "df.dropna(inplace = True)"
   ]
  },
  {
   "cell_type": "code",
   "execution_count": null,
   "id": "20d6499f",
   "metadata": {},
   "outputs": [],
   "source": [
    "df.reset_index(inplace = True)"
   ]
  },
  {
   "cell_type": "code",
   "execution_count": null,
   "id": "c3cfb8b8",
   "metadata": {
    "scrolled": true
   },
   "outputs": [],
   "source": [
    "df.drop(['index'], axis = 1, inplace = True)"
   ]
  },
  {
   "cell_type": "code",
   "execution_count": null,
   "id": "2a60f147",
   "metadata": {},
   "outputs": [],
   "source": [
    "df = df.astype(float)"
   ]
  },
  {
   "cell_type": "code",
   "execution_count": null,
   "id": "069f9b47",
   "metadata": {},
   "outputs": [],
   "source": [
    "dd = pd.DataFrame(df[(df['ltp_now']<df['mean_100'])&(df['pred']==True)])"
   ]
  },
  {
   "cell_type": "code",
   "execution_count": null,
   "id": "3bf69d84",
   "metadata": {},
   "outputs": [],
   "source": [
    "dd['index'] = dd.index"
   ]
  },
  {
   "cell_type": "code",
   "execution_count": null,
   "id": "ce579760",
   "metadata": {},
   "outputs": [],
   "source": [
    "dd['trade'] = 0\n",
    "dd['hitting_index'] = 'i'"
   ]
  },
  {
   "cell_type": "code",
   "execution_count": null,
   "id": "90936c8d",
   "metadata": {},
   "outputs": [],
   "source": [
    "t = 2\n",
    "s =1"
   ]
  },
  {
   "cell_type": "code",
   "execution_count": null,
   "id": "d5b2b206",
   "metadata": {},
   "outputs": [],
   "source": [
    "mx = df.index.max()"
   ]
  },
  {
   "cell_type": "code",
   "execution_count": null,
   "id": "8a70042a",
   "metadata": {},
   "outputs": [],
   "source": [
    "dd['index'].count()"
   ]
  },
  {
   "cell_type": "code",
   "execution_count": null,
   "id": "d423e8d0",
   "metadata": {
    "scrolled": true
   },
   "outputs": [],
   "source": [
    "w = i=dd.iloc[0]['index']\n",
    "\n",
    "while(True):\n",
    "#     print(i)\n",
    "    \n",
    "    while(True):\n",
    "        if(df['bp'][i]>=dd['ltp_now'][w]+t):\n",
    "            dd['trade'][w] = 'target'\n",
    "            dd['hitting_index'][w] = i\n",
    "            break\n",
    "        elif(df['bp'][i]<=dd['ltp_now'][w]-s):\n",
    "            dd['trade'][w]='sl'\n",
    "            dd['hitting_index'][w] = i\n",
    "            break\n",
    "        elif(i>=mx-10):\n",
    "            dd['trade'][w] = 'open'\n",
    "            dd['hitting_index'][w] = i\n",
    "            break\n",
    "        else:\n",
    "            i=i+1\n",
    "\n",
    "    if(i>=mx-10):\n",
    "        break\n",
    "    d = pd.DataFrame(dd[dd.index>i])\n",
    "    if(d['index'].count()==0):\n",
    "        break\n",
    "\n",
    "    w = i = d.iloc[0]['index']\n"
   ]
  },
  {
   "cell_type": "code",
   "execution_count": null,
   "id": "3a3bdddd",
   "metadata": {},
   "outputs": [],
   "source": [
    "tar = dd[dd['trade']=='target']['ltp_now'].count()\n",
    "tar"
   ]
  },
  {
   "cell_type": "code",
   "execution_count": null,
   "id": "fdf7c529",
   "metadata": {},
   "outputs": [],
   "source": [
    "sl = dd[dd['trade']=='sl']['ltp_now'].count()\n",
    "sl"
   ]
  },
  {
   "cell_type": "code",
   "execution_count": null,
   "id": "67484847",
   "metadata": {},
   "outputs": [],
   "source": [
    "m = dd['ltp_now'].max()\n",
    "m"
   ]
  },
  {
   "cell_type": "code",
   "execution_count": null,
   "id": "f3080ca5",
   "metadata": {},
   "outputs": [],
   "source": [
    "brk = 15"
   ]
  },
  {
   "cell_type": "code",
   "execution_count": null,
   "id": "378bfc31",
   "metadata": {},
   "outputs": [],
   "source": [
    "pnl = (tar*t-sl*s)*50 - (tar + sl + 1)*brk"
   ]
  },
  {
   "cell_type": "code",
   "execution_count": null,
   "id": "cb5bc572",
   "metadata": {},
   "outputs": [],
   "source": [
    "pnl"
   ]
  },
  {
   "cell_type": "code",
   "execution_count": null,
   "id": "eb2adeed",
   "metadata": {},
   "outputs": [],
   "source": [
    "(tar*t-sl*s)*50 "
   ]
  },
  {
   "cell_type": "code",
   "execution_count": null,
   "id": "81c0ae2d",
   "metadata": {},
   "outputs": [],
   "source": []
  },
  {
   "cell_type": "code",
   "execution_count": null,
   "id": "c4ccd4ea",
   "metadata": {},
   "outputs": [],
   "source": []
  },
  {
   "cell_type": "code",
   "execution_count": null,
   "id": "2b0cdc54",
   "metadata": {},
   "outputs": [],
   "source": []
  },
  {
   "cell_type": "markdown",
   "id": "4c47ad20",
   "metadata": {},
   "source": [
    "# Let's Do It"
   ]
  },
  {
   "cell_type": "code",
   "execution_count": null,
   "id": "fe6608b3",
   "metadata": {},
   "outputs": [],
   "source": [
    "df = pd.read_csv('tue_data_all_pe.csv')"
   ]
  },
  {
   "cell_type": "code",
   "execution_count": null,
   "id": "859fb5ef",
   "metadata": {},
   "outputs": [],
   "source": [
    "df.drop('Unnamed: 0', axis = 1,inplace = True)"
   ]
  },
  {
   "cell_type": "code",
   "execution_count": null,
   "id": "99ddf4b0",
   "metadata": {},
   "outputs": [],
   "source": [
    "aa = pd.DataFrame(df['ltp'])"
   ]
  },
  {
   "cell_type": "code",
   "execution_count": null,
   "id": "ea953794",
   "metadata": {},
   "outputs": [],
   "source": [
    "ll =list(range(100))"
   ]
  },
  {
   "cell_type": "code",
   "execution_count": null,
   "id": "0fdbc94c",
   "metadata": {
    "scrolled": true
   },
   "outputs": [],
   "source": [
    "aa.drop(ll, axis = 0,inplace = True)"
   ]
  },
  {
   "cell_type": "code",
   "execution_count": null,
   "id": "796a1534",
   "metadata": {},
   "outputs": [],
   "source": [
    "aa.rename(columns = {'ltp':'aag'},inplace = True)"
   ]
  },
  {
   "cell_type": "code",
   "execution_count": null,
   "id": "08db6e1e",
   "metadata": {},
   "outputs": [],
   "source": [
    "aa.reset_index(inplace = True)\n",
    "# aa.drop(['index'],inplace = True, axis = 1)"
   ]
  },
  {
   "cell_type": "code",
   "execution_count": null,
   "id": "7ed81196",
   "metadata": {},
   "outputs": [],
   "source": [
    "df = pd.concat([df,aa], axis = 1)"
   ]
  },
  {
   "cell_type": "code",
   "execution_count": null,
   "id": "43109f6f",
   "metadata": {},
   "outputs": [],
   "source": [
    "df.dropna(inplace = True)\n"
   ]
  },
  {
   "cell_type": "code",
   "execution_count": null,
   "id": "4f5cc1c6",
   "metadata": {},
   "outputs": [],
   "source": [
    "df"
   ]
  },
  {
   "cell_type": "code",
   "execution_count": null,
   "id": "b9776ef9",
   "metadata": {},
   "outputs": [],
   "source": [
    "df['volume']  = df.volume/ 10000000\n",
    "# df.vwap = df.vwap/ df.vwap.max()\n",
    "# df.ltp = df.ltp/df.ltp.max()\n",
    "# df.aag = df.aag/df.aag.max()"
   ]
  },
  {
   "cell_type": "code",
   "execution_count": null,
   "id": "f287e386",
   "metadata": {},
   "outputs": [],
   "source": [
    "df['vwap2'] = df['vwap'] * df['vwap']"
   ]
  },
  {
   "cell_type": "code",
   "execution_count": null,
   "id": "a68ed0d3",
   "metadata": {},
   "outputs": [],
   "source": [
    "df['volume2'] = df.volume * df.volume"
   ]
  },
  {
   "cell_type": "code",
   "execution_count": null,
   "id": "8c4fb467",
   "metadata": {},
   "outputs": [],
   "source": [
    "df['vv'] = df.volume * df.vwap"
   ]
  },
  {
   "cell_type": "code",
   "execution_count": null,
   "id": "213edc29",
   "metadata": {},
   "outputs": [],
   "source": [
    "df.vwap2 = df.vwap2 / 100"
   ]
  },
  {
   "cell_type": "code",
   "execution_count": null,
   "id": "fb48508c",
   "metadata": {},
   "outputs": [],
   "source": [
    "df"
   ]
  },
  {
   "cell_type": "code",
   "execution_count": null,
   "id": "a3db273e",
   "metadata": {},
   "outputs": [],
   "source": []
  },
  {
   "cell_type": "code",
   "execution_count": null,
   "id": "a1c555b4",
   "metadata": {},
   "outputs": [],
   "source": [
    "# df['pe_ltp'] = df['pe_ltp']/ltp_max\n",
    "df['volume'] = df['volume']/vv"
   ]
  },
  {
   "cell_type": "code",
   "execution_count": null,
   "id": "677cd335",
   "metadata": {},
   "outputs": [],
   "source": [
    "df"
   ]
  },
  {
   "cell_type": "code",
   "execution_count": null,
   "id": "5a64a230",
   "metadata": {},
   "outputs": [],
   "source": [
    "df['hi'] = np.exp(df['vwap']) * ((df['volume']))"
   ]
  },
  {
   "cell_type": "code",
   "execution_count": null,
   "id": "5c957081",
   "metadata": {},
   "outputs": [],
   "source": [
    "df['hi'] = df['hi']/(df.hi.max())"
   ]
  },
  {
   "cell_type": "code",
   "execution_count": null,
   "id": "2f51cd47",
   "metadata": {},
   "outputs": [],
   "source": [
    "df['ltp'] = df['ltp']/(df['ltp'].max())"
   ]
  },
  {
   "cell_type": "code",
   "execution_count": null,
   "id": "73997ace",
   "metadata": {},
   "outputs": [],
   "source": [
    "df"
   ]
  },
  {
   "cell_type": "code",
   "execution_count": null,
   "id": "8e8e86a1",
   "metadata": {},
   "outputs": [],
   "source": []
  },
  {
   "cell_type": "code",
   "execution_count": null,
   "id": "6bcc91af",
   "metadata": {},
   "outputs": [],
   "source": []
  },
  {
   "cell_type": "code",
   "execution_count": null,
   "id": "fb90ab97",
   "metadata": {},
   "outputs": [],
   "source": []
  },
  {
   "cell_type": "code",
   "execution_count": null,
   "id": "4e223a74",
   "metadata": {},
   "outputs": [],
   "source": [
    "plt.scatter(df['vwap'], df['aag'])"
   ]
  },
  {
   "cell_type": "code",
   "execution_count": null,
   "id": "81659882",
   "metadata": {},
   "outputs": [],
   "source": []
  },
  {
   "cell_type": "code",
   "execution_count": null,
   "id": "fd99712b",
   "metadata": {},
   "outputs": [],
   "source": []
  },
  {
   "cell_type": "code",
   "execution_count": 263,
   "id": "45aefe07",
   "metadata": {},
   "outputs": [],
   "source": [
    "import pandas as pd\n",
    "import numpy as np"
   ]
  },
  {
   "cell_type": "code",
   "execution_count": 264,
   "id": "1e32308d",
   "metadata": {},
   "outputs": [],
   "source": [
    "d = pd.read_csv('tue_evening_333.csv')"
   ]
  },
  {
   "cell_type": "code",
   "execution_count": 246,
   "id": "b332b4a8",
   "metadata": {},
   "outputs": [],
   "source": [
    "d = d/200"
   ]
  },
  {
   "cell_type": "code",
   "execution_count": 265,
   "id": "1112aac0",
   "metadata": {},
   "outputs": [],
   "source": [
    "d['b']= 1"
   ]
  },
  {
   "cell_type": "code",
   "execution_count": 266,
   "id": "de7f8470",
   "metadata": {},
   "outputs": [],
   "source": [
    "d['f'] = (d['prediction'] -d['ltp--4'])"
   ]
  },
  {
   "cell_type": "code",
   "execution_count": 267,
   "id": "0059bc4f",
   "metadata": {},
   "outputs": [],
   "source": [
    "def sign(x):\n",
    "    if(x>0):\n",
    "        return 1\n",
    "    else:\n",
    "        return -1"
   ]
  },
  {
   "cell_type": "code",
   "execution_count": 268,
   "id": "dc00193a",
   "metadata": {},
   "outputs": [],
   "source": [
    "d['f'] = d['f'].apply(sign)"
   ]
  },
  {
   "cell_type": "code",
   "execution_count": 269,
   "id": "fcdd8cf6",
   "metadata": {},
   "outputs": [
    {
     "data": {
      "text/html": [
       "<div>\n",
       "<style scoped>\n",
       "    .dataframe tbody tr th:only-of-type {\n",
       "        vertical-align: middle;\n",
       "    }\n",
       "\n",
       "    .dataframe tbody tr th {\n",
       "        vertical-align: top;\n",
       "    }\n",
       "\n",
       "    .dataframe thead th {\n",
       "        text-align: right;\n",
       "    }\n",
       "</style>\n",
       "<table border=\"1\" class=\"dataframe\">\n",
       "  <thead>\n",
       "    <tr style=\"text-align: right;\">\n",
       "      <th></th>\n",
       "      <th>ltp--4</th>\n",
       "      <th>ltp--3</th>\n",
       "      <th>ltp--2</th>\n",
       "      <th>ltp--1</th>\n",
       "      <th>ltp_now</th>\n",
       "      <th>bp</th>\n",
       "      <th>sp</th>\n",
       "      <th>prediction</th>\n",
       "      <th>b</th>\n",
       "      <th>f</th>\n",
       "    </tr>\n",
       "  </thead>\n",
       "  <tbody>\n",
       "    <tr>\n",
       "      <th>0</th>\n",
       "      <td>144.95</td>\n",
       "      <td>145.20</td>\n",
       "      <td>145.05</td>\n",
       "      <td>145.00</td>\n",
       "      <td>145.25</td>\n",
       "      <td>145.05</td>\n",
       "      <td>145.25</td>\n",
       "      <td>145.05</td>\n",
       "      <td>1</td>\n",
       "      <td>1</td>\n",
       "    </tr>\n",
       "    <tr>\n",
       "      <th>1</th>\n",
       "      <td>145.20</td>\n",
       "      <td>145.05</td>\n",
       "      <td>145.00</td>\n",
       "      <td>145.25</td>\n",
       "      <td>145.20</td>\n",
       "      <td>145.05</td>\n",
       "      <td>145.35</td>\n",
       "      <td>145.05</td>\n",
       "      <td>1</td>\n",
       "      <td>-1</td>\n",
       "    </tr>\n",
       "    <tr>\n",
       "      <th>2</th>\n",
       "      <td>145.05</td>\n",
       "      <td>145.00</td>\n",
       "      <td>145.25</td>\n",
       "      <td>145.20</td>\n",
       "      <td>145.30</td>\n",
       "      <td>145.05</td>\n",
       "      <td>145.35</td>\n",
       "      <td>144.70</td>\n",
       "      <td>1</td>\n",
       "      <td>-1</td>\n",
       "    </tr>\n",
       "    <tr>\n",
       "      <th>3</th>\n",
       "      <td>145.00</td>\n",
       "      <td>145.25</td>\n",
       "      <td>145.20</td>\n",
       "      <td>145.30</td>\n",
       "      <td>145.05</td>\n",
       "      <td>144.70</td>\n",
       "      <td>145.00</td>\n",
       "      <td>144.70</td>\n",
       "      <td>1</td>\n",
       "      <td>-1</td>\n",
       "    </tr>\n",
       "    <tr>\n",
       "      <th>4</th>\n",
       "      <td>145.25</td>\n",
       "      <td>145.20</td>\n",
       "      <td>145.30</td>\n",
       "      <td>145.05</td>\n",
       "      <td>144.65</td>\n",
       "      <td>144.70</td>\n",
       "      <td>145.00</td>\n",
       "      <td>145.20</td>\n",
       "      <td>1</td>\n",
       "      <td>-1</td>\n",
       "    </tr>\n",
       "    <tr>\n",
       "      <th>...</th>\n",
       "      <td>...</td>\n",
       "      <td>...</td>\n",
       "      <td>...</td>\n",
       "      <td>...</td>\n",
       "      <td>...</td>\n",
       "      <td>...</td>\n",
       "      <td>...</td>\n",
       "      <td>...</td>\n",
       "      <td>...</td>\n",
       "      <td>...</td>\n",
       "    </tr>\n",
       "    <tr>\n",
       "      <th>1669</th>\n",
       "      <td>141.05</td>\n",
       "      <td>141.00</td>\n",
       "      <td>140.90</td>\n",
       "      <td>142.00</td>\n",
       "      <td>141.95</td>\n",
       "      <td>141.95</td>\n",
       "      <td>142.00</td>\n",
       "      <td>140.95</td>\n",
       "      <td>1</td>\n",
       "      <td>-1</td>\n",
       "    </tr>\n",
       "    <tr>\n",
       "      <th>1670</th>\n",
       "      <td>141.00</td>\n",
       "      <td>140.90</td>\n",
       "      <td>142.00</td>\n",
       "      <td>141.95</td>\n",
       "      <td>142.00</td>\n",
       "      <td>140.95</td>\n",
       "      <td>142.00</td>\n",
       "      <td>141.00</td>\n",
       "      <td>1</td>\n",
       "      <td>-1</td>\n",
       "    </tr>\n",
       "    <tr>\n",
       "      <th>1671</th>\n",
       "      <td>140.90</td>\n",
       "      <td>142.00</td>\n",
       "      <td>141.95</td>\n",
       "      <td>142.00</td>\n",
       "      <td>141.00</td>\n",
       "      <td>141.00</td>\n",
       "      <td>142.00</td>\n",
       "      <td>141.00</td>\n",
       "      <td>1</td>\n",
       "      <td>1</td>\n",
       "    </tr>\n",
       "    <tr>\n",
       "      <th>1672</th>\n",
       "      <td>142.00</td>\n",
       "      <td>141.95</td>\n",
       "      <td>142.00</td>\n",
       "      <td>141.00</td>\n",
       "      <td>142.00</td>\n",
       "      <td>141.00</td>\n",
       "      <td>142.00</td>\n",
       "      <td>141.00</td>\n",
       "      <td>1</td>\n",
       "      <td>-1</td>\n",
       "    </tr>\n",
       "    <tr>\n",
       "      <th>1673</th>\n",
       "      <td>141.95</td>\n",
       "      <td>142.00</td>\n",
       "      <td>141.00</td>\n",
       "      <td>142.00</td>\n",
       "      <td>141.00</td>\n",
       "      <td>141.00</td>\n",
       "      <td>142.00</td>\n",
       "      <td>141.00</td>\n",
       "      <td>1</td>\n",
       "      <td>-1</td>\n",
       "    </tr>\n",
       "  </tbody>\n",
       "</table>\n",
       "<p>1674 rows × 10 columns</p>\n",
       "</div>"
      ],
      "text/plain": [
       "      ltp--4  ltp--3  ltp--2  ltp--1  ltp_now      bp      sp  prediction  b  \\\n",
       "0     144.95  145.20  145.05  145.00   145.25  145.05  145.25      145.05  1   \n",
       "1     145.20  145.05  145.00  145.25   145.20  145.05  145.35      145.05  1   \n",
       "2     145.05  145.00  145.25  145.20   145.30  145.05  145.35      144.70  1   \n",
       "3     145.00  145.25  145.20  145.30   145.05  144.70  145.00      144.70  1   \n",
       "4     145.25  145.20  145.30  145.05   144.65  144.70  145.00      145.20  1   \n",
       "...      ...     ...     ...     ...      ...     ...     ...         ... ..   \n",
       "1669  141.05  141.00  140.90  142.00   141.95  141.95  142.00      140.95  1   \n",
       "1670  141.00  140.90  142.00  141.95   142.00  140.95  142.00      141.00  1   \n",
       "1671  140.90  142.00  141.95  142.00   141.00  141.00  142.00      141.00  1   \n",
       "1672  142.00  141.95  142.00  141.00   142.00  141.00  142.00      141.00  1   \n",
       "1673  141.95  142.00  141.00  142.00   141.00  141.00  142.00      141.00  1   \n",
       "\n",
       "      f  \n",
       "0     1  \n",
       "1    -1  \n",
       "2    -1  \n",
       "3    -1  \n",
       "4    -1  \n",
       "...  ..  \n",
       "1669 -1  \n",
       "1670 -1  \n",
       "1671  1  \n",
       "1672 -1  \n",
       "1673 -1  \n",
       "\n",
       "[1674 rows x 10 columns]"
      ]
     },
     "execution_count": 269,
     "metadata": {},
     "output_type": "execute_result"
    }
   ],
   "source": [
    "d"
   ]
  },
  {
   "cell_type": "code",
   "execution_count": 270,
   "id": "0ab9cea4",
   "metadata": {},
   "outputs": [],
   "source": [
    "X = d.drop(['prediction', 'f'], axis = 1)"
   ]
  },
  {
   "cell_type": "code",
   "execution_count": 271,
   "id": "567700b8",
   "metadata": {},
   "outputs": [],
   "source": [
    "Y= d['f']"
   ]
  },
  {
   "cell_type": "code",
   "execution_count": 272,
   "id": "dcfe457c",
   "metadata": {},
   "outputs": [],
   "source": [
    "from sklearn.model_selection import train_test_split\n",
    "x_train, x_test,y_train,y_test=train_test_split(X,Y, test_size=0.3,random_state=450, shuffle=True)"
   ]
  },
  {
   "cell_type": "code",
   "execution_count": 273,
   "id": "2be0571e",
   "metadata": {},
   "outputs": [
    {
     "data": {
      "text/html": [
       "<div>\n",
       "<style scoped>\n",
       "    .dataframe tbody tr th:only-of-type {\n",
       "        vertical-align: middle;\n",
       "    }\n",
       "\n",
       "    .dataframe tbody tr th {\n",
       "        vertical-align: top;\n",
       "    }\n",
       "\n",
       "    .dataframe thead th {\n",
       "        text-align: right;\n",
       "    }\n",
       "</style>\n",
       "<table border=\"1\" class=\"dataframe\">\n",
       "  <thead>\n",
       "    <tr style=\"text-align: right;\">\n",
       "      <th></th>\n",
       "      <th>ltp--4</th>\n",
       "      <th>ltp--3</th>\n",
       "      <th>ltp--2</th>\n",
       "      <th>ltp--1</th>\n",
       "      <th>ltp_now</th>\n",
       "      <th>bp</th>\n",
       "      <th>sp</th>\n",
       "      <th>b</th>\n",
       "    </tr>\n",
       "  </thead>\n",
       "  <tbody>\n",
       "    <tr>\n",
       "      <th>1636</th>\n",
       "      <td>141.80</td>\n",
       "      <td>141.15</td>\n",
       "      <td>141.05</td>\n",
       "      <td>141.20</td>\n",
       "      <td>141.40</td>\n",
       "      <td>141.05</td>\n",
       "      <td>141.40</td>\n",
       "      <td>1</td>\n",
       "    </tr>\n",
       "    <tr>\n",
       "      <th>973</th>\n",
       "      <td>144.15</td>\n",
       "      <td>143.95</td>\n",
       "      <td>143.90</td>\n",
       "      <td>143.50</td>\n",
       "      <td>143.85</td>\n",
       "      <td>143.55</td>\n",
       "      <td>143.85</td>\n",
       "      <td>1</td>\n",
       "    </tr>\n",
       "    <tr>\n",
       "      <th>1611</th>\n",
       "      <td>141.30</td>\n",
       "      <td>141.50</td>\n",
       "      <td>141.00</td>\n",
       "      <td>140.95</td>\n",
       "      <td>140.90</td>\n",
       "      <td>140.95</td>\n",
       "      <td>141.35</td>\n",
       "      <td>1</td>\n",
       "    </tr>\n",
       "    <tr>\n",
       "      <th>1009</th>\n",
       "      <td>144.45</td>\n",
       "      <td>144.95</td>\n",
       "      <td>144.40</td>\n",
       "      <td>144.10</td>\n",
       "      <td>144.40</td>\n",
       "      <td>144.05</td>\n",
       "      <td>144.30</td>\n",
       "      <td>1</td>\n",
       "    </tr>\n",
       "    <tr>\n",
       "      <th>1269</th>\n",
       "      <td>140.70</td>\n",
       "      <td>140.80</td>\n",
       "      <td>140.55</td>\n",
       "      <td>140.50</td>\n",
       "      <td>140.35</td>\n",
       "      <td>140.45</td>\n",
       "      <td>140.75</td>\n",
       "      <td>1</td>\n",
       "    </tr>\n",
       "    <tr>\n",
       "      <th>...</th>\n",
       "      <td>...</td>\n",
       "      <td>...</td>\n",
       "      <td>...</td>\n",
       "      <td>...</td>\n",
       "      <td>...</td>\n",
       "      <td>...</td>\n",
       "      <td>...</td>\n",
       "      <td>...</td>\n",
       "    </tr>\n",
       "    <tr>\n",
       "      <th>1322</th>\n",
       "      <td>138.90</td>\n",
       "      <td>139.55</td>\n",
       "      <td>139.20</td>\n",
       "      <td>139.25</td>\n",
       "      <td>139.35</td>\n",
       "      <td>138.90</td>\n",
       "      <td>139.20</td>\n",
       "      <td>1</td>\n",
       "    </tr>\n",
       "    <tr>\n",
       "      <th>462</th>\n",
       "      <td>141.55</td>\n",
       "      <td>141.90</td>\n",
       "      <td>141.65</td>\n",
       "      <td>142.30</td>\n",
       "      <td>141.70</td>\n",
       "      <td>142.00</td>\n",
       "      <td>142.25</td>\n",
       "      <td>1</td>\n",
       "    </tr>\n",
       "    <tr>\n",
       "      <th>1326</th>\n",
       "      <td>139.35</td>\n",
       "      <td>139.25</td>\n",
       "      <td>139.70</td>\n",
       "      <td>139.10</td>\n",
       "      <td>139.25</td>\n",
       "      <td>138.95</td>\n",
       "      <td>139.20</td>\n",
       "      <td>1</td>\n",
       "    </tr>\n",
       "    <tr>\n",
       "      <th>1637</th>\n",
       "      <td>141.15</td>\n",
       "      <td>141.05</td>\n",
       "      <td>141.20</td>\n",
       "      <td>141.40</td>\n",
       "      <td>140.95</td>\n",
       "      <td>141.05</td>\n",
       "      <td>141.40</td>\n",
       "      <td>1</td>\n",
       "    </tr>\n",
       "    <tr>\n",
       "      <th>1599</th>\n",
       "      <td>141.90</td>\n",
       "      <td>141.45</td>\n",
       "      <td>141.40</td>\n",
       "      <td>141.20</td>\n",
       "      <td>141.65</td>\n",
       "      <td>141.25</td>\n",
       "      <td>141.70</td>\n",
       "      <td>1</td>\n",
       "    </tr>\n",
       "  </tbody>\n",
       "</table>\n",
       "<p>1171 rows × 8 columns</p>\n",
       "</div>"
      ],
      "text/plain": [
       "      ltp--4  ltp--3  ltp--2  ltp--1  ltp_now      bp      sp  b\n",
       "1636  141.80  141.15  141.05  141.20   141.40  141.05  141.40  1\n",
       "973   144.15  143.95  143.90  143.50   143.85  143.55  143.85  1\n",
       "1611  141.30  141.50  141.00  140.95   140.90  140.95  141.35  1\n",
       "1009  144.45  144.95  144.40  144.10   144.40  144.05  144.30  1\n",
       "1269  140.70  140.80  140.55  140.50   140.35  140.45  140.75  1\n",
       "...      ...     ...     ...     ...      ...     ...     ... ..\n",
       "1322  138.90  139.55  139.20  139.25   139.35  138.90  139.20  1\n",
       "462   141.55  141.90  141.65  142.30   141.70  142.00  142.25  1\n",
       "1326  139.35  139.25  139.70  139.10   139.25  138.95  139.20  1\n",
       "1637  141.15  141.05  141.20  141.40   140.95  141.05  141.40  1\n",
       "1599  141.90  141.45  141.40  141.20   141.65  141.25  141.70  1\n",
       "\n",
       "[1171 rows x 8 columns]"
      ]
     },
     "execution_count": 273,
     "metadata": {},
     "output_type": "execute_result"
    }
   ],
   "source": [
    "x_train"
   ]
  },
  {
   "cell_type": "code",
   "execution_count": 274,
   "id": "273f3361",
   "metadata": {},
   "outputs": [
    {
     "data": {
      "text/plain": [
       "1636   -1\n",
       "973    -1\n",
       "1611   -1\n",
       "1009   -1\n",
       "1269   -1\n",
       "       ..\n",
       "1322   -1\n",
       "462    -1\n",
       "1326   -1\n",
       "1637   -1\n",
       "1599   -1\n",
       "Name: f, Length: 1171, dtype: int64"
      ]
     },
     "execution_count": 274,
     "metadata": {},
     "output_type": "execute_result"
    }
   ],
   "source": [
    "y_train"
   ]
  },
  {
   "cell_type": "code",
   "execution_count": 275,
   "id": "59ccad6b",
   "metadata": {},
   "outputs": [],
   "source": [
    "w = [0,0,0,0,0,0,0,0]\n",
    "n = len(x_train['sp'])"
   ]
  },
  {
   "cell_type": "code",
   "execution_count": 276,
   "id": "340179f3",
   "metadata": {},
   "outputs": [
    {
     "data": {
      "text/plain": [
       "1636   -1\n",
       "973    -1\n",
       "1611   -1\n",
       "1009   -1\n",
       "1269   -1\n",
       "       ..\n",
       "1322   -1\n",
       "462    -1\n",
       "1326   -1\n",
       "1637   -1\n",
       "1599   -1\n",
       "Name: f, Length: 1171, dtype: int64"
      ]
     },
     "execution_count": 276,
     "metadata": {},
     "output_type": "execute_result"
    }
   ],
   "source": [
    "y_train"
   ]
  },
  {
   "cell_type": "code",
   "execution_count": 277,
   "id": "5d41f832",
   "metadata": {},
   "outputs": [
    {
     "data": {
      "text/plain": [
       "1171"
      ]
     },
     "execution_count": 277,
     "metadata": {},
     "output_type": "execute_result"
    }
   ],
   "source": [
    "n"
   ]
  },
  {
   "cell_type": "code",
   "execution_count": 278,
   "id": "34ad9fb1",
   "metadata": {},
   "outputs": [
    {
     "data": {
      "text/plain": [
       "numpy.float64"
      ]
     },
     "execution_count": 278,
     "metadata": {},
     "output_type": "execute_result"
    }
   ],
   "source": [
    "type(d['sp'][0])"
   ]
  },
  {
   "cell_type": "code",
   "execution_count": 279,
   "id": "ca429afd",
   "metadata": {},
   "outputs": [
    {
     "ename": "KeyboardInterrupt",
     "evalue": "",
     "output_type": "error",
     "traceback": [
      "\u001b[1;31m---------------------------------------------------------------------------\u001b[0m",
      "\u001b[1;31mKeyboardInterrupt\u001b[0m                         Traceback (most recent call last)",
      "Input \u001b[1;32mIn [279]\u001b[0m, in \u001b[0;36m<cell line: 3>\u001b[1;34m()\u001b[0m\n\u001b[0;32m      3\u001b[0m \u001b[38;5;28;01mfor\u001b[39;00m i \u001b[38;5;129;01min\u001b[39;00m \u001b[38;5;28mrange\u001b[39m(\u001b[38;5;241m10\u001b[39m):\n\u001b[0;32m      4\u001b[0m     \u001b[38;5;66;03m#print('for')\u001b[39;00m\n\u001b[0;32m      5\u001b[0m     xi \u001b[38;5;241m=\u001b[39m np\u001b[38;5;241m.\u001b[39marray(x_train\u001b[38;5;241m.\u001b[39miloc[i])\n\u001b[1;32m----> 6\u001b[0m     wxi \u001b[38;5;241m=\u001b[39m \u001b[43mnp\u001b[49m\u001b[38;5;241;43m.\u001b[39;49m\u001b[43mdot\u001b[49m\u001b[43m(\u001b[49m\u001b[43mxi\u001b[49m\u001b[43m,\u001b[49m\u001b[43mw\u001b[49m\u001b[43m)\u001b[49m\n\u001b[0;32m      7\u001b[0m     yi \u001b[38;5;241m=\u001b[39m y_train\u001b[38;5;241m.\u001b[39miloc[i]\n\u001b[0;32m      8\u001b[0m     net \u001b[38;5;241m=\u001b[39m yi\u001b[38;5;241m*\u001b[39mwxi\n",
      "File \u001b[1;32m<__array_function__ internals>:5\u001b[0m, in \u001b[0;36mdot\u001b[1;34m(*args, **kwargs)\u001b[0m\n",
      "\u001b[1;31mKeyboardInterrupt\u001b[0m: "
     ]
    }
   ],
   "source": [
    "while(True):\n",
    "    #print('while')\n",
    "    for i in range(10):\n",
    "        #print('for')\n",
    "        xi = np.array(x_train.iloc[i])\n",
    "        wxi = np.dot(xi,w)\n",
    "        yi = y_train.iloc[i]\n",
    "        net = yi*wxi\n",
    "        #print(net)\n",
    "        if(net<=0):\n",
    "            #print('in_if')\n",
    "            #print(xi)\n",
    "            #print(yi)\n",
    "            xiyi = xi*yi\n",
    "            #print(xiyi)\n",
    "            ##print(w)\n",
    "            \n",
    "            arr = np.array([w,xiyi])\n",
    "            arr = arr.sum(axis = 0)\n",
    "            w = arr\n",
    "            xyz = abs(w)\n",
    "            w = w/xyz.max()\n",
    "    \n",
    "            #print(w)\n",
    "            found = True\n",
    "            break\n",
    "        else:\n",
    "            found = False\n",
    "            \n",
    "    if(found==False):\n",
    "        break\n",
    "        "
   ]
  },
  {
   "cell_type": "code",
   "execution_count": 280,
   "id": "b13713e8",
   "metadata": {},
   "outputs": [
    {
     "data": {
      "text/plain": [
       "array([141.8 , 141.15, 141.05, 141.2 , 141.4 , 141.05, 141.4 ,   1.  ])"
      ]
     },
     "execution_count": 280,
     "metadata": {},
     "output_type": "execute_result"
    }
   ],
   "source": [
    "xi"
   ]
  },
  {
   "cell_type": "code",
   "execution_count": 281,
   "id": "fd457ed8",
   "metadata": {},
   "outputs": [
    {
     "data": {
      "text/plain": [
       "array([0.99304287, 0.99238115, 0.99412044, 0.99619427, 1.        ,\n",
       "       0.99446731, 0.99618442, 0.00688815])"
      ]
     },
     "execution_count": 281,
     "metadata": {},
     "output_type": "execute_result"
    }
   ],
   "source": [
    "w"
   ]
  },
  {
   "cell_type": "code",
   "execution_count": 39,
   "id": "bec3a56c",
   "metadata": {},
   "outputs": [
    {
     "data": {
      "text/plain": [
       "numpy.float64"
      ]
     },
     "execution_count": 39,
     "metadata": {},
     "output_type": "execute_result"
    }
   ],
   "source": [
    "type(y_train.iloc[5])"
   ]
  },
  {
   "cell_type": "code",
   "execution_count": 282,
   "id": "fd8dbb3e",
   "metadata": {},
   "outputs": [
    {
     "data": {
      "text/plain": [
       "array([0.99304287, 0.99238115, 0.99412044, 0.99619427, 1.        ,\n",
       "       0.99446731, 0.99618442, 0.00688815])"
      ]
     },
     "execution_count": 282,
     "metadata": {},
     "output_type": "execute_result"
    }
   ],
   "source": [
    "w"
   ]
  },
  {
   "cell_type": "code",
   "execution_count": 120,
   "id": "b64c7436",
   "metadata": {},
   "outputs": [],
   "source": [
    "a = abs(w)"
   ]
  },
  {
   "cell_type": "code",
   "execution_count": 122,
   "id": "dfab07ef",
   "metadata": {},
   "outputs": [
    {
     "data": {
      "text/plain": [
       "106.35000000000001"
      ]
     },
     "execution_count": 122,
     "metadata": {},
     "output_type": "execute_result"
    }
   ],
   "source": [
    "a.max()"
   ]
  },
  {
   "cell_type": "code",
   "execution_count": 96,
   "id": "159187d4",
   "metadata": {},
   "outputs": [],
   "source": [
    "w = w+xiyi"
   ]
  },
  {
   "cell_type": "code",
   "execution_count": 97,
   "id": "c5973d1c",
   "metadata": {},
   "outputs": [
    {
     "data": {
      "text/plain": [
       "array([35.45  , 35.2875, 35.2625, 35.3   , 35.35  , 35.2625, 35.35  ,\n",
       "        0.25  ])"
      ]
     },
     "execution_count": 97,
     "metadata": {},
     "output_type": "execute_result"
    }
   ],
   "source": [
    "w"
   ]
  },
  {
   "cell_type": "code",
   "execution_count": null,
   "id": "35f50e91",
   "metadata": {},
   "outputs": [],
   "source": []
  },
  {
   "cell_type": "code",
   "execution_count": 70,
   "id": "07b56d54",
   "metadata": {},
   "outputs": [],
   "source": [
    "xi = np.array(x_train.iloc[0])\n"
   ]
  },
  {
   "cell_type": "code",
   "execution_count": 78,
   "id": "d7b7b664",
   "metadata": {},
   "outputs": [
    {
     "data": {
      "text/plain": [
       "array([-106.35  , -105.8625, -105.7875, -105.9   , -106.05  , -105.7875,\n",
       "       -106.05  ,   -0.75  ])"
      ]
     },
     "execution_count": 78,
     "metadata": {},
     "output_type": "execute_result"
    }
   ],
   "source": [
    "xi*yi"
   ]
  },
  {
   "cell_type": "code",
   "execution_count": 80,
   "id": "b948e8df",
   "metadata": {},
   "outputs": [],
   "source": [
    "w=w+xi*yi"
   ]
  },
  {
   "cell_type": "code",
   "execution_count": 81,
   "id": "fd0375e9",
   "metadata": {},
   "outputs": [
    {
     "data": {
      "text/plain": [
       "array([-106.35  , -105.8625, -105.7875, -105.9   , -106.05  , -105.7875,\n",
       "       -106.05  ,   -0.75  ])"
      ]
     },
     "execution_count": 81,
     "metadata": {},
     "output_type": "execute_result"
    }
   ],
   "source": [
    "w"
   ]
  },
  {
   "cell_type": "code",
   "execution_count": 71,
   "id": "a7dc5f0e",
   "metadata": {},
   "outputs": [],
   "source": [
    "wxi = np.dot(xi,w)\n"
   ]
  },
  {
   "cell_type": "code",
   "execution_count": 73,
   "id": "63db871d",
   "metadata": {},
   "outputs": [
    {
     "data": {
      "text/plain": [
       "139747.1275"
      ]
     },
     "execution_count": 73,
     "metadata": {},
     "output_type": "execute_result"
    }
   ],
   "source": [
    "wxi"
   ]
  },
  {
   "cell_type": "code",
   "execution_count": 74,
   "id": "46860b0a",
   "metadata": {},
   "outputs": [],
   "source": [
    "yi = y_train.iloc[0]\n",
    "        "
   ]
  },
  {
   "cell_type": "code",
   "execution_count": 75,
   "id": "3ee4f028",
   "metadata": {},
   "outputs": [
    {
     "data": {
      "text/plain": [
       "-0.75"
      ]
     },
     "execution_count": 75,
     "metadata": {},
     "output_type": "execute_result"
    }
   ],
   "source": [
    "yi"
   ]
  },
  {
   "cell_type": "code",
   "execution_count": null,
   "id": "f67596d3",
   "metadata": {},
   "outputs": [],
   "source": [
    "net = yi*wxi"
   ]
  },
  {
   "cell_type": "code",
   "execution_count": 57,
   "id": "cc3b399a",
   "metadata": {},
   "outputs": [],
   "source": [
    "a=-0.0"
   ]
  },
  {
   "cell_type": "code",
   "execution_count": 60,
   "id": "9416cb23",
   "metadata": {},
   "outputs": [
    {
     "data": {
      "text/plain": [
       "True"
      ]
     },
     "execution_count": 60,
     "metadata": {},
     "output_type": "execute_result"
    }
   ],
   "source": [
    "a<0"
   ]
  },
  {
   "cell_type": "code",
   "execution_count": 36,
   "id": "e07d9ad7",
   "metadata": {},
   "outputs": [
    {
     "name": "stdout",
     "output_type": "stream",
     "text": [
      "0\n",
      "1\n",
      "2\n",
      "i==2\n"
     ]
    }
   ],
   "source": [
    "for i in range(5):\n",
    "    print(i)\n",
    "    if(i==2):\n",
    "        print('i==2')\n",
    "        break"
   ]
  },
  {
   "cell_type": "code",
   "execution_count": null,
   "id": "9d401787",
   "metadata": {},
   "outputs": [],
   "source": []
  },
  {
   "cell_type": "code",
   "execution_count": 21,
   "id": "666ee242",
   "metadata": {},
   "outputs": [],
   "source": [
    "xi = np.array(x_train.iloc[0])\n",
    "wxi = np.dot(xi,w)\n",
    "yi = y_train.iloc[6]\n",
    "net = yi*wxi\n"
   ]
  },
  {
   "cell_type": "code",
   "execution_count": 22,
   "id": "07b6c75e",
   "metadata": {},
   "outputs": [
    {
     "data": {
      "text/plain": [
       "89438.1615999962"
      ]
     },
     "execution_count": 22,
     "metadata": {},
     "output_type": "execute_result"
    }
   ],
   "source": [
    "net"
   ]
  },
  {
   "cell_type": "code",
   "execution_count": 19,
   "id": "acc3b472",
   "metadata": {},
   "outputs": [],
   "source": [
    "w = w+xi*yi"
   ]
  },
  {
   "cell_type": "code",
   "execution_count": 20,
   "id": "ee205b50",
   "metadata": {},
   "outputs": [
    {
     "data": {
      "text/plain": [
       "array([-113.44, -112.92, -112.84, -112.96, -113.12, -112.84, -113.12,\n",
       "         -0.8 ])"
      ]
     },
     "execution_count": 20,
     "metadata": {},
     "output_type": "execute_result"
    }
   ],
   "source": [
    "w"
   ]
  },
  {
   "cell_type": "code",
   "execution_count": null,
   "id": "c3ffa9b3",
   "metadata": {},
   "outputs": [],
   "source": []
  }
 ],
 "metadata": {
  "kernelspec": {
   "display_name": "Python 3 (ipykernel)",
   "language": "python",
   "name": "python3"
  },
  "language_info": {
   "codemirror_mode": {
    "name": "ipython",
    "version": 3
   },
   "file_extension": ".py",
   "mimetype": "text/x-python",
   "name": "python",
   "nbconvert_exporter": "python",
   "pygments_lexer": "ipython3",
   "version": "3.9.12"
  }
 },
 "nbformat": 4,
 "nbformat_minor": 5
}
