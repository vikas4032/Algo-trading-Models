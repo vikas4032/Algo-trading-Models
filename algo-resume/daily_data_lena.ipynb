{
 "cells": [
  {
   "cell_type": "code",
   "execution_count": null,
   "id": "7e261908",
   "metadata": {},
   "outputs": [],
   "source": [
    "checkpoints=="
   ]
  },
  {
   "cell_type": "code",
   "execution_count": null,
   "id": "c0ebada2",
   "metadata": {},
   "outputs": [],
   "source": []
  },
  {
   "cell_type": "code",
   "execution_count": null,
   "id": "59b52c55",
   "metadata": {},
   "outputs": [],
   "source": []
  },
  {
   "cell_type": "code",
   "execution_count": null,
   "id": "9579ccf5",
   "metadata": {},
   "outputs": [],
   "source": []
  },
  {
   "cell_type": "code",
   "execution_count": null,
   "id": "9d3e5793",
   "metadata": {},
   "outputs": [],
   "source": [
    "from api_helper import ShoonyaApiPy\n",
    "import logging\n",
    "import time\n",
    "import pandas as pd\n",
    "import json\n",
    "import numpy as np\n",
    "import cred\n",
    "from datetime import datetime\n",
    "import time\n",
    "from notify_run import Notify\n",
    "notify = Notify()\n",
    "import pyotp\n",
    "token = cred.token\n",
    "totp = pyotp.TOTP(token).now()\n",
    "#enable dbug to see request and responses\n",
    "logging.basicConfig(level=logging.DEBUG)\n",
    "#start of our program\n",
    "api = ShoonyaApiPy()\n",
    "#credentials\n",
    "user = cred.user\n",
    "pwd = cred.pwd\n",
    "factor2 = totp\n",
    "vc = cred.vc\n",
    "app_key = cred.apikey\n",
    "imei = cred.imei\n",
    "logins = api.login(userid=user, password=pwd, twoFA=factor2, vendor_code=vc, \n",
    "    api_secret=app_key,imei = imei)\n",
    "print(logins)"
   ]
  },
  {
   "cell_type": "code",
   "execution_count": null,
   "id": "0ddb0282",
   "metadata": {},
   "outputs": [],
   "source": []
  },
  {
   "cell_type": "code",
   "execution_count": null,
   "id": "7293352b",
   "metadata": {},
   "outputs": [],
   "source": []
  },
  {
   "cell_type": "code",
   "execution_count": null,
   "id": "22aeb1a6",
   "metadata": {},
   "outputs": [],
   "source": [
    "api."
   ]
  },
  {
   "cell_type": "code",
   "execution_count": null,
   "id": "4e3c7689",
   "metadata": {},
   "outputs": [],
   "source": []
  },
  {
   "cell_type": "code",
   "execution_count": null,
   "id": "64cb3f57",
   "metadata": {},
   "outputs": [],
   "source": []
  },
  {
   "cell_type": "code",
   "execution_count": null,
   "id": "3bf7eb2e",
   "metadata": {},
   "outputs": [],
   "source": []
  },
  {
   "cell_type": "code",
   "execution_count": null,
   "id": "f05b9a97",
   "metadata": {},
   "outputs": [],
   "source": [
    "df = []"
   ]
  },
  {
   "cell_type": "code",
   "execution_count": null,
   "id": "43ce7d22",
   "metadata": {},
   "outputs": [],
   "source": [
    "a = api.get_order_book()"
   ]
  },
  {
   "cell_type": "code",
   "execution_count": null,
   "id": "09b526da",
   "metadata": {},
   "outputs": [],
   "source": [
    "a"
   ]
  },
  {
   "cell_type": "code",
   "execution_count": null,
   "id": "18a13782",
   "metadata": {},
   "outputs": [],
   "source": [
    "for pp in range(len(a)):\n",
    "    if((a[pp]['trantype']=='B')&(a[pp]['status']=='OPEN') ):\n",
    "        print('yep')\n",
    "        break"
   ]
  },
  {
   "cell_type": "code",
   "execution_count": null,
   "id": "3c858217",
   "metadata": {},
   "outputs": [],
   "source": [
    "api.get_quotes('NFO','NIFTY18MAY23C18500')['bp1']"
   ]
  },
  {
   "cell_type": "code",
   "execution_count": null,
   "id": "aef64f23",
   "metadata": {},
   "outputs": [],
   "source": [
    "a[0]['norenordno']"
   ]
  },
  {
   "cell_type": "code",
   "execution_count": null,
   "id": "cc85b295",
   "metadata": {},
   "outputs": [],
   "source": [
    "api.cancel_order(a[0]['norenordno'])"
   ]
  },
  {
   "cell_type": "code",
   "execution_count": null,
   "id": "7e32012d",
   "metadata": {},
   "outputs": [],
   "source": []
  },
  {
   "cell_type": "code",
   "execution_count": null,
   "id": "d015254a",
   "metadata": {},
   "outputs": [],
   "source": []
  },
  {
   "cell_type": "code",
   "execution_count": null,
   "id": "75616ca1",
   "metadata": {},
   "outputs": [],
   "source": [
    "totp"
   ]
  },
  {
   "cell_type": "code",
   "execution_count": null,
   "id": "1cf57423",
   "metadata": {},
   "outputs": [],
   "source": [
    "df = []\n",
    "for i in range(40):\n",
    "    df.append(pd.DataFrame(columns = ['bq1','bp1','sp1','sq1','v']))"
   ]
  },
  {
   "cell_type": "code",
   "execution_count": null,
   "id": "0cd41cb8",
   "metadata": {},
   "outputs": [],
   "source": [
    "api.get_quotes('NFO',a)['bp1']"
   ]
  },
  {
   "cell_type": "code",
   "execution_count": null,
   "id": "9283e61a",
   "metadata": {},
   "outputs": [],
   "source": [
    "b = api.searchscrip('NFO','NIFTY18MAY23C18500')\n",
    "a= b['values'][0]['token']"
   ]
  },
  {
   "cell_type": "code",
   "execution_count": null,
   "id": "8118fab9",
   "metadata": {},
   "outputs": [],
   "source": [
    "api.single_order_history"
   ]
  },
  {
   "cell_type": "code",
   "execution_count": null,
   "id": "d84c52b7",
   "metadata": {},
   "outputs": [],
   "source": []
  },
  {
   "cell_type": "code",
   "execution_count": null,
   "id": "632b404d",
   "metadata": {},
   "outputs": [],
   "source": []
  },
  {
   "cell_type": "code",
   "execution_count": null,
   "id": "aa964626",
   "metadata": {},
   "outputs": [],
   "source": []
  },
  {
   "cell_type": "code",
   "execution_count": null,
   "id": "8d25075f",
   "metadata": {},
   "outputs": [],
   "source": []
  },
  {
   "cell_type": "code",
   "execution_count": null,
   "id": "7f1a8a5b",
   "metadata": {},
   "outputs": [],
   "source": []
  },
  {
   "cell_type": "code",
   "execution_count": null,
   "id": "2bd4377a",
   "metadata": {},
   "outputs": [],
   "source": []
  },
  {
   "cell_type": "code",
   "execution_count": null,
   "id": "19e1d595",
   "metadata": {},
   "outputs": [],
   "source": []
  },
  {
   "cell_type": "code",
   "execution_count": null,
   "id": "a93437b8",
   "metadata": {},
   "outputs": [],
   "source": []
  },
  {
   "cell_type": "code",
   "execution_count": null,
   "id": "f52f7665",
   "metadata": {},
   "outputs": [],
   "source": [
    "sq=sp=bq=bp=v=0\n",
    "feed_opened = False"
   ]
  },
  {
   "cell_type": "code",
   "execution_count": null,
   "id": "0dfb5f91",
   "metadata": {},
   "outputs": [],
   "source": [
    "\n",
    "def event_handler_feed_update(m):\n",
    "    print(m)\n",
    "    global feed_opened,df,a,sq,sp,bq,bp,v\n",
    "    \n",
    "    ind = np.where(a==m['tk'])[0][0]\n",
    "    \n",
    "    if('sq1'in m):\n",
    "        sq = float(m['sq1'])\n",
    "    else:\n",
    "        sq = df[ind]['sq1'][df[ind]['sq1'].count()-1]\n",
    "        \n",
    "    if('sp1'in m):\n",
    "        sp = float(m['sp1'])\n",
    "    else:\n",
    "        sp = df[ind]['sp1'][df[ind]['sp1'].count()-1]\n",
    "    if('bq1'in m):\n",
    "        bq = float(m['bq1'])\n",
    "    else:\n",
    "        bq = df[ind]['bq1'][df[ind]['bq1'].count()-1]\n",
    "    if('bp1'in m):\n",
    "        bp = float(m['bp1'])\n",
    "    else:\n",
    "        bp = df[ind]['bp1'][df[ind]['bp1'].count()-1]\n",
    "    if('v'in m):\n",
    "        v = float(m['v'])\n",
    "    else:\n",
    "        v = df[ind]['v'][df[ind]['v'].count()-1]\n",
    "    \n",
    "    df[ind].loc[df[ind]['v'].count()] = [bq,bp,sp,sq,v]\n",
    "    \n",
    "    \n",
    "    \n",
    "    \n",
    "        \n",
    "def event_handler_order_update(inmessage):\n",
    "    print(inmessage)                                      #     if(('norennordno' in inmessage)&('status'in inmessage)):  #         orderJson[inmessage['norenordno']] = {'status': inmessage['status']}\n",
    "        \n",
    "def open_callback():\n",
    "    \n",
    "    global feed_opened\n",
    "    feed_opened = True\n",
    "\n"
   ]
  },
  {
   "cell_type": "code",
   "execution_count": null,
   "id": "fe4d5172",
   "metadata": {
    "scrolled": true
   },
   "outputs": [],
   "source": [
    "api.start_websocket( order_update_callback=event_handler_order_update,\n",
    " subscribe_callback=event_handler_feed_update, \n",
    "socket_open_callback=open_callback)\n",
    "while(feed_opened==False):\n",
    "    pass\n"
   ]
  },
  {
   "cell_type": "code",
   "execution_count": null,
   "id": "72ac62a3",
   "metadata": {},
   "outputs": [],
   "source": [
    "feed_opened"
   ]
  },
  {
   "cell_type": "code",
   "execution_count": null,
   "id": "76e66a77",
   "metadata": {},
   "outputs": [],
   "source": [
    "#api.close_websocket()"
   ]
  },
  {
   "cell_type": "code",
   "execution_count": null,
   "id": "f62950ab",
   "metadata": {},
   "outputs": [],
   "source": []
  },
  {
   "cell_type": "code",
   "execution_count": null,
   "id": "a742a645",
   "metadata": {},
   "outputs": [],
   "source": []
  },
  {
   "cell_type": "code",
   "execution_count": null,
   "id": "1f48a9a8",
   "metadata": {
    "scrolled": true
   },
   "outputs": [],
   "source": [
    "a =np.zeros(40)\n",
    "x = 18500\n",
    "for i in range(20):\n",
    "    \n",
    "    b = api.searchscrip('NFO','NIFTY11MAY23C'+str(x))\n",
    "    a[i] = b['values'][0]['token']\n",
    "    x = x+50\n",
    "    \n",
    "x = 18100\n",
    "for i in range(20):\n",
    "    \n",
    "    b = api.searchscrip('NFO','NIFTY11MAY23P'+str(x))\n",
    "    a[20+i] = b['values'][0]['token']\n",
    "    x = x-50\n"
   ]
  },
  {
   "cell_type": "code",
   "execution_count": null,
   "id": "2cc87ad1",
   "metadata": {},
   "outputs": [],
   "source": [
    "a"
   ]
  },
  {
   "cell_type": "code",
   "execution_count": null,
   "id": "7e60f2a2",
   "metadata": {},
   "outputs": [],
   "source": []
  },
  {
   "cell_type": "code",
   "execution_count": null,
   "id": "8eec87a0",
   "metadata": {},
   "outputs": [],
   "source": []
  },
  {
   "cell_type": "code",
   "execution_count": null,
   "id": "d918534e",
   "metadata": {},
   "outputs": [],
   "source": [
    "b = []\n",
    "for i in range(40):\n",
    "    b.append('NFO|'+str(int(a[i])))\n",
    "a = a.astype(int)\n",
    "a = a.astype(str)"
   ]
  },
  {
   "cell_type": "code",
   "execution_count": null,
   "id": "722d7e0b",
   "metadata": {},
   "outputs": [],
   "source": [
    "a"
   ]
  },
  {
   "cell_type": "code",
   "execution_count": null,
   "id": "c5bb4634",
   "metadata": {
    "scrolled": true
   },
   "outputs": [],
   "source": [
    "api.subscribe(b)"
   ]
  },
  {
   "cell_type": "code",
   "execution_count": null,
   "id": "82f3a687",
   "metadata": {},
   "outputs": [],
   "source": []
  },
  {
   "cell_type": "code",
   "execution_count": null,
   "id": "0dd09fee",
   "metadata": {},
   "outputs": [],
   "source": []
  },
  {
   "cell_type": "code",
   "execution_count": null,
   "id": "07e292b9",
   "metadata": {
    "scrolled": true
   },
   "outputs": [],
   "source": [
    "df[0]"
   ]
  },
  {
   "cell_type": "code",
   "execution_count": null,
   "id": "60bd7e04",
   "metadata": {},
   "outputs": [],
   "source": []
  },
  {
   "cell_type": "code",
   "execution_count": null,
   "id": "b0db9e31",
   "metadata": {},
   "outputs": [],
   "source": []
  },
  {
   "cell_type": "code",
   "execution_count": null,
   "id": "5152bcb2",
   "metadata": {},
   "outputs": [],
   "source": [
    "from datetime import datetime, timedelta\n",
    "import time"
   ]
  },
  {
   "cell_type": "code",
   "execution_count": null,
   "id": "62f2d78a",
   "metadata": {},
   "outputs": [],
   "source": [
    "curr = datetime.now()\n",
    "new = curr+timedelta(seconds = 70)"
   ]
  },
  {
   "cell_type": "code",
   "execution_count": null,
   "id": "5a653360",
   "metadata": {
    "scrolled": true
   },
   "outputs": [],
   "source": [
    "while(1):\n",
    "    while(curr.minute != new.minute):\n",
    "        curr = datetime.now()\n",
    "    api.unsubscribe(b)\n",
    "    api.close_websocket()\n",
    "    \n",
    "    feed_opened = False\n",
    "    time.sleep(1)\n",
    "    \n",
    "    api.start_websocket( order_update_callback=event_handler_order_update, subscribe_callback=event_handler_feed_update, socket_open_callback=open_callback)\n",
    "    while(feed_opened==False):\n",
    "        pass\n",
    "    time.sleep(1)\n",
    "    api.subscribe(b)\n",
    "    \n",
    "    new = curr + timedelta(minutes = 2)\n",
    "    "
   ]
  },
  {
   "cell_type": "code",
   "execution_count": null,
   "id": "c3bcd171",
   "metadata": {},
   "outputs": [],
   "source": [
    "feed_opened"
   ]
  },
  {
   "cell_type": "code",
   "execution_count": null,
   "id": "ec124798",
   "metadata": {},
   "outputs": [],
   "source": [
    "df[0]"
   ]
  },
  {
   "cell_type": "code",
   "execution_count": null,
   "id": "4b1c871e",
   "metadata": {},
   "outputs": [],
   "source": []
  },
  {
   "cell_type": "code",
   "execution_count": null,
   "id": "410807ef",
   "metadata": {},
   "outputs": [],
   "source": []
  },
  {
   "cell_type": "code",
   "execution_count": null,
   "id": "fb211437",
   "metadata": {},
   "outputs": [],
   "source": []
  },
  {
   "cell_type": "code",
   "execution_count": null,
   "id": "7c4e93f8",
   "metadata": {},
   "outputs": [],
   "source": [
    "for i in range(40):\n",
    "    df[i].to_csv('thu'+str(i)+'.csv',index=True)"
   ]
  },
  {
   "cell_type": "code",
   "execution_count": null,
   "id": "3796fb5c",
   "metadata": {},
   "outputs": [],
   "source": []
  },
  {
   "cell_type": "code",
   "execution_count": null,
   "id": "a233dc24",
   "metadata": {},
   "outputs": [],
   "source": []
  },
  {
   "cell_type": "code",
   "execution_count": null,
   "id": "32cbe35a",
   "metadata": {},
   "outputs": [],
   "source": []
  }
 ],
 "metadata": {
  "kernelspec": {
   "display_name": "Python 3 (ipykernel)",
   "language": "python",
   "name": "python3"
  },
  "language_info": {
   "codemirror_mode": {
    "name": "ipython",
    "version": 3
   },
   "file_extension": ".py",
   "mimetype": "text/x-python",
   "name": "python",
   "nbconvert_exporter": "python",
   "pygments_lexer": "ipython3",
   "version": "3.9.12"
  }
 },
 "nbformat": 4,
 "nbformat_minor": 5
}
