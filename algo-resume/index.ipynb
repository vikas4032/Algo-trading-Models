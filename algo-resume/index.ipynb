{
 "cells": [
  {
   "cell_type": "code",
   "execution_count": 1,
   "id": "25d9d876",
   "metadata": {},
   "outputs": [],
   "source": [
    "from api_helper import ShoonyaApiPy\n",
    "import logging\n",
    "import time\n",
    "import pandas as pd\n",
    "import json\n",
    "import numpy as np\n",
    "import cred\n",
    "from datetime import datetime\n",
    "import time\n",
    "from notify_run import Notify\n",
    "notify = Notify()\n",
    "import pyotp\n",
    "token = cred.token\n",
    "totp = pyotp.TOTP(token).now()\n",
    "#enable dbug to see request and responses\n",
    "logging.basicConfig(level=logging.DEBUG)\n",
    "#start of our program\n",
    "api = ShoonyaApiPy()\n",
    "#credentials\n",
    "user = cred.user\n",
    "pwd = cred.pwd\n",
    "factor2 = totp\n",
    "vc = cred.vc\n",
    "app_key = cred.apikey\n",
    "imei = cred.imei\n",
    "logins = api.login(userid=user, password=pwd, twoFA=factor2, vendor_code=vc, \n",
    "    api_secret=app_key,imei = imei)\n",
    "print(logins)"
   ]
  },
  {
   "cell_type": "code",
   "execution_count": null,
   "id": "f41ebd4d",
   "metadata": {},
   "outputs": [],
   "source": []
  },
  {
   "cell_type": "code",
   "execution_count": null,
   "id": "bcdfe6e4",
   "metadata": {},
   "outputs": [],
   "source": [
    "n = pd.DataFrame(columns = ['p','v'])\n",
    "bn = pd.DataFrame(columns = ['p','v'])\n",
    "ni = bni = 0\n",
    "buy_n = pd.DataFrame(columns = ['buy'])\n",
    "buy_bn = pd.DataFrame(columns = ['buy'])\n",
    "nb = bnb = 0\n",
    "ret_n = ret_bn = 0\n",
    "vol_n = vol_bn =0\n",
    "ch_vn = ch_vbn = 0\n",
    "sell_n = pd.DataFrame(columns = ['sell'])\n",
    "sell_bn = pd.DataFrame(columns = ['sell'])\n",
    "ns= bns = 0\n",
    "in_traden = in_tradebn = False\n",
    "signal = 0\n",
    "feed_opened = False\n",
    "sp_n = sp_bn = 0"
   ]
  },
  {
   "cell_type": "code",
   "execution_count": null,
   "id": "e5c70a3b",
   "metadata": {},
   "outputs": [],
   "source": [
    "\n",
    "def event_handler_feed_update(m):\n",
    "    global n,bn,ni,bni,buy_n,buy_bn,nb,bnb,ret_n,ret_bn,vol_n,vol_bn,ch_vn,ch_vbn,sell_n,sell_bn,ns,bns,in_traden,in_tradebn,signal,feed_opened, sp_n,sp_bn\n",
    "    \n",
    "    if(m['tk']==nifty):\n",
    "        if('pc' in m):\n",
    "            vol_n = float(m['pc'])\n",
    "        if('lp' in m):\n",
    "            sp_n = float(m['lp'])\n",
    "            n.loc[ni] = [sp_n,vol_n]\n",
    "            ni = ni+1\n",
    "        if(ni>30):\n",
    "            ret_n = (n['p'][ni-1] - n['p'][ni-21])\n",
    "            ch_vn = (n['v'][ni-1] - n['v'][ni-21])/n['v'][ni-21]\n",
    "            \n",
    "        if(signal==1):\n",
    "            buy_n.loc[nb] = sp_n\n",
    "            nb = nb+1\n",
    "            in_traden = True\n",
    "            signal = 0\n",
    "            #notify.send('buy nifty @' + str(sp_n))\n",
    "        if(in_traden==True):\n",
    "            if(sp_n>=buy_n['buy'][nb-1]+10):\n",
    "                sell_n.loc[ns] = sp_n\n",
    "                in_traden = False\n",
    "                ns  = ns+1\n",
    "               # notify.send('nifty target')\n",
    "            elif(sp_n<=buy_n['buy'][nb-1]-5):\n",
    "                sell_n.loc[ns] = sp_n\n",
    "                in_traden = False\n",
    "                ns = ns+1\n",
    "              #  notify.send('nifty sl') \n",
    "        \n",
    "        \n",
    "    if(m['tk'] == banknifty):\n",
    "        if('pc' in m):\n",
    "            vol_bn = float(m['pc'])\n",
    "        if('lp' in m ):\n",
    "            sp_bn = float(m['lp'])\n",
    "            bn.loc[bni] = [sp_bn, vol_bn]\n",
    "            bni = bni+1\n",
    "            \n",
    "        if(bni > 30):\n",
    "            ret_bn = (bn['p'][bni-1] - bn['p'][bni-21])\n",
    "            ch_vbn = (bn['p'][bni-1] - bn['p'][bni-21])/bn['p'][bni-21]\n",
    "            \n",
    "        if(signal==2):\n",
    "            buy_bn.loc[bnb] = sp_bn\n",
    "            bnb = bnb +1\n",
    "            in_tradebn = True\n",
    "            signal = 0\n",
    "            #notify.send('buy banknifty @' + str(sp_bn))\n",
    "        if(in_tradebn == True):\n",
    "            if(sp_bn>=buy_bn['buy'][bnb-1]+20):\n",
    "                sell_bn.loc[bns] = sp_bn\n",
    "                in_tradebn = False\n",
    "                bns = bns+1\n",
    "               # notify.send('banknifty target')\n",
    "            elif(sp_bn<=buy_bn['buy'][bnb-1]-10):\n",
    "                sell_bn.loc[bns] = sp_bn\n",
    "                in_tradebn = False\n",
    "                bns = bns+1\n",
    "               # notify.send('banknifty sl')\n",
    "            \n",
    "            \n",
    "                \n",
    "                \n",
    "                \n",
    "    if((in_traden==False) and (in_tradebn==False)):\n",
    "        if(ret_bn>0 and ret_n<0 ):\n",
    "            signal = 1\n",
    "        elif(ret_bn<0 and ret_n>0 ):\n",
    "            signal = 2\n",
    "        \n",
    "    \n",
    "        \n",
    "def event_handler_order_update(inmessage):\n",
    "    print(inmessage)                                      #     if(('norennordno' in inmessage)&('status'in inmessage)):  #         orderJson[inmessage['norenordno']] = {'status': inmessage['status']}\n",
    "        \n",
    "def open_callback():\n",
    "    \n",
    "    global feed_opened\n",
    "    feed_opened = True\n",
    "\n"
   ]
  },
  {
   "cell_type": "code",
   "execution_count": null,
   "id": "35aa9011",
   "metadata": {},
   "outputs": [],
   "source": [
    "api.start_websocket( order_update_callback=event_handler_order_update,\n",
    " subscribe_callback=event_handler_feed_update, \n",
    "socket_open_callback=open_callback)\n",
    "while(feed_opened==False):\n",
    "    pass\n"
   ]
  },
  {
   "cell_type": "code",
   "execution_count": null,
   "id": "c9147756",
   "metadata": {},
   "outputs": [],
   "source": [
    "# b = api.searchscrip('NSE','NIFTY INDEX')\n",
    "# nifty = b['values'][0]['token']\n",
    "# b = api.searchscrip('NSE','NIFTY BANK')\n",
    "# banknifty = b['values'][0]['token']"
   ]
  },
  {
   "cell_type": "code",
   "execution_count": null,
   "id": "2d72ba63",
   "metadata": {},
   "outputs": [],
   "source": [
    "nifty = '26000'\n",
    "banknifty = '26009'"
   ]
  },
  {
   "cell_type": "code",
   "execution_count": null,
   "id": "16232dc7",
   "metadata": {},
   "outputs": [],
   "source": []
  },
  {
   "cell_type": "code",
   "execution_count": null,
   "id": "32cf9c27",
   "metadata": {},
   "outputs": [],
   "source": [
    "api.subscribe(['NSE|26000', 'NSE|26009'])"
   ]
  },
  {
   "cell_type": "code",
   "execution_count": null,
   "id": "289e4923",
   "metadata": {},
   "outputs": [],
   "source": [
    "buy_bn"
   ]
  },
  {
   "cell_type": "code",
   "execution_count": null,
   "id": "6320a5af",
   "metadata": {},
   "outputs": [],
   "source": [
    "sell_bn"
   ]
  },
  {
   "cell_type": "code",
   "execution_count": null,
   "id": "ac215336",
   "metadata": {},
   "outputs": [],
   "source": [
    "buy_n"
   ]
  },
  {
   "cell_type": "code",
   "execution_count": null,
   "id": "b197820d",
   "metadata": {},
   "outputs": [],
   "source": [
    "sell_n"
   ]
  },
  {
   "cell_type": "code",
   "execution_count": null,
   "id": "f544ded5",
   "metadata": {},
   "outputs": [],
   "source": [
    "df_n = pd.concat([buy_n,sell_n],axis = 1)\n",
    "df_n.dropna(inplace =True)\n",
    "df_n['net'] = df_n['sell']- df_n['buy']\n",
    "nifty_pnl = df_n['net'].sum()*5000*0.05-100*df_n['net'].count()\n",
    "nifty_pnl"
   ]
  },
  {
   "cell_type": "code",
   "execution_count": null,
   "id": "41d62c23",
   "metadata": {},
   "outputs": [],
   "source": [
    "df_bn = pd.concat([buy_bn,sell_bn],axis = 1)\n",
    "df_bn.dropna(inplace =True)\n",
    "df_bn['net'] = df_bn['sell']- df_bn['buy']\n",
    "banknifty_pnl = df_bn['net'].sum()*3500*0.05-100*df_bn['net'].count()\n",
    "banknifty_pnl"
   ]
  },
  {
   "cell_type": "code",
   "execution_count": null,
   "id": "7d01fa6d",
   "metadata": {},
   "outputs": [],
   "source": [
    "pnl=nifty_pnl+banknifty_pnl"
   ]
  },
  {
   "cell_type": "code",
   "execution_count": null,
   "id": "818d180d",
   "metadata": {},
   "outputs": [],
   "source": []
  }
 ],
 "metadata": {
  "kernelspec": {
   "display_name": "Python 3 (ipykernel)",
   "language": "python",
   "name": "python3"
  },
  "language_info": {
   "codemirror_mode": {
    "name": "ipython",
    "version": 3
   },
   "file_extension": ".py",
   "mimetype": "text/x-python",
   "name": "python",
   "nbconvert_exporter": "python",
   "pygments_lexer": "ipython3",
   "version": "3.9.12"
  }
 },
 "nbformat": 4,
 "nbformat_minor": 5
}
